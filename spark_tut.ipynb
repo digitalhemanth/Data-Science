{
 "cells": [
  {
   "cell_type": "code",
   "execution_count": 1,
   "metadata": {},
   "outputs": [
    {
     "data": {
      "text/plain": [
       "'C:\\\\spark\\\\spark-3.2.0-bin-hadoop3.2'"
      ]
     },
     "execution_count": 1,
     "metadata": {},
     "output_type": "execute_result"
    }
   ],
   "source": [
    "import findspark\n",
    "findspark.init()\n",
    "\n",
    "import pyspark\n",
    "findspark.find()"
   ]
  },
  {
   "cell_type": "code",
   "execution_count": 2,
   "metadata": {},
   "outputs": [
    {
     "name": "stdout",
     "output_type": "stream",
     "text": [
      "<pyspark.sql.session.SparkSession object at 0x000001F67D5133A0>\n"
     ]
    }
   ],
   "source": [
    "# Create SparkSession from builder\n",
    "import pyspark\n",
    "from pyspark.sql import SparkSession\n",
    "spark = SparkSession.builder.master(\"local\") \\\n",
    "                    .appName('New App') \\\n",
    "                    .getOrCreate()\n",
    "print(spark)"
   ]
  },
  {
   "cell_type": "code",
   "execution_count": 3,
   "metadata": {},
   "outputs": [
    {
     "name": "stdout",
     "output_type": "stream",
     "text": [
      "root\n",
      " |-- No: long (nullable = true)\n",
      " |-- Name: string (nullable = true)\n",
      " |-- Exp: string (nullable = true)\n",
      "\n",
      "+---+-------+------+\n",
      "| No|   Name|   Exp|\n",
      "+---+-------+------+\n",
      "|  1|Hemanth|Python|\n",
      "|  2|    Hem|    JS|\n",
      "|  3|Krishna| Spark|\n",
      "+---+-------+------+\n",
      "\n"
     ]
    }
   ],
   "source": [
    "data = [(1,\"Hemanth\",'Python'), (2,\"Hem\", \"JS\"), (3,\"Krishna\", \"Spark\")]\n",
    "rdd = spark.sparkContext.parallelize(data)\n",
    "shema = [\"No\", \"Name\",\"Exp\"]\n",
    "df = rdd.toDF(shema)\n",
    "df.printSchema()\n",
    "df.show()"
   ]
  },
  {
   "cell_type": "code",
   "execution_count": 3,
   "metadata": {},
   "outputs": [
    {
     "name": "stdout",
     "output_type": "stream",
     "text": [
      "+---+-------+------+------+\n",
      "| No|   Name|   Exp|   Sal|\n",
      "+---+-------+------+------+\n",
      "|  1|Hemanth|Python| 15000|\n",
      "|  2|    Hem|    JS|  2000|\n",
      "|  3|Krishna| Spark|150000|\n",
      "+---+-------+------+------+\n",
      "\n"
     ]
    }
   ],
   "source": [
    "data = [(1,\"Hemanth\",'Python',15000), (2,\"Hem\", \"JS\",2000), (3,\"Krishna\", \"Spark\",150000)]\n",
    "rdd = spark.sparkContext.parallelize(data)\n",
    "Schema = [\"No\", \"Name\",\"Exp\",\"Sal\"]\n",
    "df = rdd.toDF(Schema)\n",
    "df.show()"
   ]
  },
  {
   "cell_type": "code",
   "execution_count": 8,
   "metadata": {},
   "outputs": [
    {
     "name": "stdout",
     "output_type": "stream",
     "text": [
      "+--------+\n",
      "|max(Sal)|\n",
      "+--------+\n",
      "|  150000|\n",
      "+--------+\n",
      "\n"
     ]
    }
   ],
   "source": [
    "from select import select\n",
    "from pyspark.sql import functions as f\n",
    "df.select(f.max(\"Sal\"))\\\n",
    "    .show()"
   ]
  },
  {
   "cell_type": "code",
   "execution_count": 10,
   "metadata": {},
   "outputs": [
    {
     "data": {
      "text/plain": [
       "[Row(max(Sal)=150000)]"
      ]
     },
     "execution_count": 10,
     "metadata": {},
     "output_type": "execute_result"
    }
   ],
   "source": [
    "df.select(f.max(\"Sal\")).collect()"
   ]
  }
 ],
 "metadata": {
  "kernelspec": {
   "display_name": "Python 3.8.8 ('base')",
   "language": "python",
   "name": "python3"
  },
  "language_info": {
   "codemirror_mode": {
    "name": "ipython",
    "version": 3
   },
   "file_extension": ".py",
   "mimetype": "text/x-python",
   "name": "python",
   "nbconvert_exporter": "python",
   "pygments_lexer": "ipython3",
   "version": "3.8.8"
  },
  "orig_nbformat": 4,
  "vscode": {
   "interpreter": {
    "hash": "fbe58ca63fe33f9eeae9e71d10368d2b4a57f2b1b395836210cc60d362c66949"
   }
  }
 },
 "nbformat": 4,
 "nbformat_minor": 2
}
