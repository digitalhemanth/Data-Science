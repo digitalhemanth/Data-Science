{
 "cells": [
  {
   "cell_type": "code",
   "execution_count": 20,
   "metadata": {},
   "outputs": [
    {
     "data": {
      "text/plain": [
       "'C:\\\\spark\\\\spark-3.2.0-bin-hadoop3.2'"
      ]
     },
     "execution_count": 20,
     "metadata": {},
     "output_type": "execute_result"
    }
   ],
   "source": [
    "import findspark\n",
    "findspark.init()\n",
    "\n",
    "import pyspark\n",
    "findspark.find()"
   ]
  },
  {
   "cell_type": "code",
   "execution_count": 21,
   "metadata": {},
   "outputs": [
    {
     "name": "stdout",
     "output_type": "stream",
     "text": [
      "<pyspark.sql.session.SparkSession object at 0x000001F67D5133A0>\n"
     ]
    }
   ],
   "source": [
    "# Create SparkSession from builder\n",
    "import pyspark\n",
    "from pyspark.sql import SparkSession\n",
    "spark = SparkSession.builder.master(\"local\") \\\n",
    "                    .appName('New App') \\\n",
    "                    .getOrCreate()\n",
    "print(spark)"
   ]
  },
  {
   "cell_type": "code",
   "execution_count": 22,
   "metadata": {},
   "outputs": [
    {
     "name": "stdout",
     "output_type": "stream",
     "text": [
      "root\n",
      " |-- No: long (nullable = true)\n",
      " |-- Name: string (nullable = true)\n",
      " |-- Exp: string (nullable = true)\n",
      "\n",
      "+---+-------+------+\n",
      "| No|   Name|   Exp|\n",
      "+---+-------+------+\n",
      "|  1|Hemanth|Python|\n",
      "|  2|    Hem|    JS|\n",
      "|  3|Krishna| Spark|\n",
      "+---+-------+------+\n",
      "\n"
     ]
    }
   ],
   "source": [
    "data = [(1,\"Hemanth\",'Python'), (2,\"Hem\", \"JS\"), (3,\"Krishna\", \"Spark\")]\n",
    "rdd = spark.sparkContext.parallelize(data)\n",
    "shema = [\"No\", \"Name\",\"Exp\"]\n",
    "df = rdd.toDF(shema)\n",
    "df.printSchema()\n",
    "df.show()"
   ]
  },
  {
   "cell_type": "code",
   "execution_count": 23,
   "metadata": {},
   "outputs": [
    {
     "name": "stdout",
     "output_type": "stream",
     "text": [
      "+---+-------+------+------+\n",
      "| No|   Name|   Exp|   Sal|\n",
      "+---+-------+------+------+\n",
      "|  1|Hemanth|Python| 15000|\n",
      "|  2|    Hem|    JS|  2000|\n",
      "|  3|Krishna| Spark|150000|\n",
      "+---+-------+------+------+\n",
      "\n"
     ]
    }
   ],
   "source": [
    "data = [(1,\"Hemanth\",'Python',15000), (2,\"Hem\", \"JS\",2000), (3,\"Krishna\", \"Spark\",150000)]\n",
    "rdd = spark.sparkContext.parallelize(data)\n",
    "Schema = [\"No\", \"Name\",\"Exp\",\"Sal\"]\n",
    "df = rdd.toDF(Schema)\n",
    "df.show()"
   ]
  },
  {
   "cell_type": "code",
   "execution_count": 24,
   "metadata": {},
   "outputs": [
    {
     "name": "stdout",
     "output_type": "stream",
     "text": [
      "+--------+\n",
      "|max(Sal)|\n",
      "+--------+\n",
      "|  150000|\n",
      "+--------+\n",
      "\n"
     ]
    }
   ],
   "source": [
    "from  pyspark.sql  import *\n",
    "from pyspark.sql import functions as f\n",
    "df.select(f.max(\"Sal\"))\\\n",
    "    .show()"
   ]
  },
  {
   "cell_type": "code",
   "execution_count": 18,
   "metadata": {},
   "outputs": [
    {
     "ename": "NameError",
     "evalue": "name 'col' is not defined",
     "output_type": "error",
     "traceback": [
      "\u001b[1;31m---------------------------------------------------------------------------\u001b[0m",
      "\u001b[1;31mNameError\u001b[0m                                 Traceback (most recent call last)",
      "\u001b[1;32m<ipython-input-18-cfa42dd36c81>\u001b[0m in \u001b[0;36m<module>\u001b[1;34m\u001b[0m\n\u001b[1;32m----> 1\u001b[1;33m \u001b[0mdf\u001b[0m\u001b[1;33m.\u001b[0m\u001b[0mfilter\u001b[0m\u001b[1;33m(\u001b[0m\u001b[0mcol\u001b[0m\u001b[1;33m(\u001b[0m\u001b[1;34m\"Sal\"\u001b[0m\u001b[1;33m)\u001b[0m\u001b[1;33m(\u001b[0m\u001b[0mf\u001b[0m\u001b[1;33m.\u001b[0m\u001b[0mmax\u001b[0m\u001b[1;33m)\u001b[0m\u001b[1;33m.\u001b[0m\u001b[0mcollect\u001b[0m\u001b[1;33m(\u001b[0m\u001b[1;33m)\u001b[0m\u001b[1;33m)\u001b[0m\u001b[1;33m.\u001b[0m\u001b[0mshow\u001b[0m\u001b[1;33m(\u001b[0m\u001b[1;33m)\u001b[0m\u001b[1;33m\u001b[0m\u001b[1;33m\u001b[0m\u001b[0m\n\u001b[0m",
      "\u001b[1;31mNameError\u001b[0m: name 'col' is not defined"
     ]
    }
   ],
   "source": [
    "df.filter(col(\"Sal\")(f.max).collect()).show()"
   ]
  },
  {
   "cell_type": "code",
   "execution_count": null,
   "metadata": {},
   "outputs": [],
   "source": []
  }
 ],
 "metadata": {
  "kernelspec": {
   "display_name": "Python 3.8.8 ('base')",
   "language": "python",
   "name": "python3"
  },
  "language_info": {
   "codemirror_mode": {
    "name": "ipython",
    "version": 3
   },
   "file_extension": ".py",
   "mimetype": "text/x-python",
   "name": "python",
   "nbconvert_exporter": "python",
   "pygments_lexer": "ipython3",
   "version": "3.8.8"
  },
  "orig_nbformat": 4,
  "vscode": {
   "interpreter": {
    "hash": "fbe58ca63fe33f9eeae9e71d10368d2b4a57f2b1b395836210cc60d362c66949"
   }
  }
 },
 "nbformat": 4,
 "nbformat_minor": 2
}
