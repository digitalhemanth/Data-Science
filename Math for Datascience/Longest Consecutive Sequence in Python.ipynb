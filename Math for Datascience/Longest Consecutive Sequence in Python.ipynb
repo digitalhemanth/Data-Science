{
 "cells": [
  {
   "cell_type": "code",
   "execution_count": 1,
   "id": "de8d1029",
   "metadata": {},
   "outputs": [
    {
     "name": "stdout",
     "output_type": "stream",
     "text": [
      "4\n"
     ]
    }
   ],
   "source": [
    "class Solution(object):\n",
    "   def longestConsecutive(self, a):\n",
    "      a = set(a)\n",
    "      longest = 0\n",
    "      for i in a:\n",
    "         if i-1 not in a:\n",
    "            current = i\n",
    "            streak = 0\n",
    "            while i in a:\n",
    "               i+=1\n",
    "               streak+=1\n",
    "               longest = max(longest,streak)\n",
    "      return longest\n",
    "\n",
    "ob = Solution()\n",
    "print(ob.longestConsecutive([100,4,250,1,3,2]))"
   ]
  },
  {
   "cell_type": "code",
   "execution_count": 2,
   "id": "7915105b",
   "metadata": {},
   "outputs": [
    {
     "name": "stdout",
     "output_type": "stream",
     "text": [
      "O(n)\n"
     ]
    }
   ],
   "source": [
    "print(\"O(n)\")"
   ]
  },
  {
   "cell_type": "code",
   "execution_count": null,
   "id": "801d284e",
   "metadata": {},
   "outputs": [],
   "source": []
  }
 ],
 "metadata": {
  "kernelspec": {
   "display_name": "Python 3",
   "language": "python",
   "name": "python3"
  },
  "language_info": {
   "codemirror_mode": {
    "name": "ipython",
    "version": 3
   },
   "file_extension": ".py",
   "mimetype": "text/x-python",
   "name": "python",
   "nbconvert_exporter": "python",
   "pygments_lexer": "ipython3",
   "version": "3.8.8"
  }
 },
 "nbformat": 4,
 "nbformat_minor": 5
}
