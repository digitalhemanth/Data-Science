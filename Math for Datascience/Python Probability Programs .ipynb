{
 "cells": [
  {
   "cell_type": "code",
   "execution_count": 7,
   "id": "44faf0ab",
   "metadata": {},
   "outputs": [
    {
     "name": "stdout",
     "output_type": "stream",
     "text": [
      "Tails Heads Tails Tails Tails Tails Heads Tails Heads Heads Heads count=4, Tails count=6\n"
     ]
    }
   ],
   "source": [
    "import random\n",
    "\n",
    "samples = [ random.randint(1, 2) for i in range(10) ]\n",
    "heads = samples.count(1)\n",
    "tails = samples.count(2)\n",
    "\n",
    "for s in samples:\n",
    "    msg = 'Heads' if s==1 else 'Tails'\n",
    "    print(msg, end=' ')\n",
    "\n",
    "print(\"Heads count=%d, Tails count=%d\" % (heads, tails))"
   ]
  },
  {
   "cell_type": "code",
   "execution_count": 8,
   "id": "9380678b",
   "metadata": {},
   "outputs": [
    {
     "name": "stdout",
     "output_type": "stream",
     "text": [
      "1 / 279936\n"
     ]
    }
   ],
   "source": [
    "# Python 3 implementation of above approach\n",
    "\n",
    "# from math import everything\n",
    "from math import *\n",
    "\n",
    "# function that calculates Probability.\n",
    "def Probability(sum, times) :\n",
    "    favorable, total, probability = 0.0, 36.0, 0\n",
    "\n",
    "\t# To calculate favorable outcomes\n",
    "\t# in thrown of 2 dices 1 times.\n",
    "\tfor i in range(7) :\n",
    "\t\tfor j in range(7) :\n",
    "\t\t\tif ((i + j) == sum) :\n",
    "\t\t\t\tfavorable += 1\n",
    "\n",
    "\tgcd1 = gcd(int(favorable), int(total))\n",
    "\n",
    "\t# Reduce to simplest Form.\n",
    "\tfavorable = favorable / gcd1\n",
    "\ttotal = total / gcd1\n",
    "\n",
    "\t# Probability of occurring sum on 2 dice N times.\n",
    "\tprobability = pow(total, times)\n",
    "\n",
    "\treturn int(probability)\n",
    "\n",
    "\n",
    "# Driver Code\n",
    "if __name__ == \"__main__\" :\n",
    "\n",
    "\tsum, times = 7, 7\n",
    "\n",
    "\tprint(\"1\",\"/\",Probability(sum, times))\n",
    "\n",
    "\n",
    "# This code is contributed by ANKITRAI1\n"
   ]
  },
  {
   "cell_type": "code",
   "execution_count": null,
   "id": "5b532aa4",
   "metadata": {},
   "outputs": [],
   "source": []
  }
 ],
 "metadata": {
  "kernelspec": {
   "display_name": "Python 3",
   "language": "python",
   "name": "python3"
  },
  "language_info": {
   "codemirror_mode": {
    "name": "ipython",
    "version": 3
   },
   "file_extension": ".py",
   "mimetype": "text/x-python",
   "name": "python",
   "nbconvert_exporter": "python",
   "pygments_lexer": "ipython3",
   "version": "3.8.8"
  }
 },
 "nbformat": 4,
 "nbformat_minor": 5
}
