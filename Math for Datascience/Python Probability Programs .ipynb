{
 "cells": [
  {
   "cell_type": "code",
   "execution_count": 7,
   "id": "ffa5bd5a",
   "metadata": {},
   "outputs": [
    {
     "name": "stdout",
     "output_type": "stream",
     "text": [
      "Tails Heads Tails Tails Tails Tails Heads Tails Heads Heads Heads count=4, Tails count=6\n"
     ]
    }
   ],
   "source": [
    "import random\n",
    "\n",
    "samples = [ random.randint(1, 2) for i in range(10) ]\n",
    "heads = samples.count(1)\n",
    "tails = samples.count(2)\n",
    "\n",
    "for s in samples:\n",
    "    msg = 'Heads' if s==1 else 'Tails'\n",
    "    print(msg, end=' ')\n",
    "\n",
    "print(\"Heads count=%d, Tails count=%d\" % (heads, tails))"
   ]
  },
  {
   "cell_type": "code",
   "execution_count": null,
   "id": "83e42ba9",
   "metadata": {},
   "outputs": [],
   "source": []
  }
 ],
 "metadata": {
  "kernelspec": {
   "display_name": "Python 3",
   "language": "python",
   "name": "python3"
  },
  "language_info": {
   "codemirror_mode": {
    "name": "ipython",
    "version": 3
   },
   "file_extension": ".py",
   "mimetype": "text/x-python",
   "name": "python",
   "nbconvert_exporter": "python",
   "pygments_lexer": "ipython3",
   "version": "3.8.8"
  }
 },
 "nbformat": 4,
 "nbformat_minor": 5
}
