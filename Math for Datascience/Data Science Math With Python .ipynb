{
 "cells": [
  {
   "cell_type": "markdown",
   "id": "106e4dd8",
   "metadata": {},
   "source": [
    "# Data Science Math With Python \n"
   ]
  },
  {
   "cell_type": "markdown",
   "id": "5c00f1f4",
   "metadata": {},
   "source": [
    "# Mean"
   ]
  },
  {
   "cell_type": "markdown",
   "id": "ed95d0aa",
   "metadata": {},
   "source": [
    "#### The mean is the average of the numbers.\n",
    "It is easy to calculate: add up all the numbers, then divide by how many numbers there are.\n",
    "\n"
   ]
  },
  {
   "cell_type": "code",
   "execution_count": 8,
   "id": "21b0b09d",
   "metadata": {},
   "outputs": [
    {
     "name": "stdout",
     "output_type": "stream",
     "text": [
      "19\n",
      "3\n",
      "6.333333333333333\n"
     ]
    }
   ],
   "source": [
    "values = [5,6,8]\n",
    "sums = sum(values)\n",
    "print(sums)\n",
    "lent = len(values)\n",
    "print(lent)\n",
    "\n",
    "mean = sums/lent\n",
    "\n",
    "print(mean)"
   ]
  },
  {
   "cell_type": "code",
   "execution_count": 5,
   "id": "eed031a2",
   "metadata": {},
   "outputs": [
    {
     "data": {
      "text/plain": [
       "19"
      ]
     },
     "execution_count": 5,
     "metadata": {},
     "output_type": "execute_result"
    }
   ],
   "source": [
    "6+5+8"
   ]
  },
  {
   "cell_type": "code",
   "execution_count": null,
   "id": "2e8399a5",
   "metadata": {},
   "outputs": [],
   "source": []
  }
 ],
 "metadata": {
  "kernelspec": {
   "display_name": "Python 3",
   "language": "python",
   "name": "python3"
  },
  "language_info": {
   "codemirror_mode": {
    "name": "ipython",
    "version": 3
   },
   "file_extension": ".py",
   "mimetype": "text/x-python",
   "name": "python",
   "nbconvert_exporter": "python",
   "pygments_lexer": "ipython3",
   "version": "3.8.8"
  }
 },
 "nbformat": 4,
 "nbformat_minor": 5
}
