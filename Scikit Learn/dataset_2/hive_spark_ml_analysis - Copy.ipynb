{
 "cells": [
  {
   "cell_type": "code",
   "execution_count": 1,
   "metadata": {},
   "outputs": [
    {
     "data": {
      "text/plain": [
       "'C:\\\\spark\\\\spark-3.2.0-bin-hadoop3.2'"
      ]
     },
     "execution_count": 1,
     "metadata": {},
     "output_type": "execute_result"
    }
   ],
   "source": [
    "import findspark \n",
    "findspark.init()\n",
    "import pyspark\n",
    "findspark.find()\n"
   ]
  },
  {
   "cell_type": "code",
   "execution_count": 2,
   "metadata": {},
   "outputs": [
    {
     "data": {
      "text/html": [
       "\n",
       "            <div>\n",
       "                <p><b>SparkSession - in-memory</b></p>\n",
       "                \n",
       "        <div>\n",
       "            <p><b>SparkContext</b></p>\n",
       "\n",
       "            <p><a href=\"http://LAPTOP-15HARP1G:4040\">Spark UI</a></p>\n",
       "\n",
       "            <dl>\n",
       "              <dt>Version</dt>\n",
       "                <dd><code>v3.2.0</code></dd>\n",
       "              <dt>Master</dt>\n",
       "                <dd><code>local</code></dd>\n",
       "              <dt>AppName</dt>\n",
       "                <dd><code>Hive app</code></dd>\n",
       "            </dl>\n",
       "        </div>\n",
       "        \n",
       "            </div>\n",
       "        "
      ],
      "text/plain": [
       "<pyspark.sql.session.SparkSession at 0x25682403460>"
      ]
     },
     "execution_count": 2,
     "metadata": {},
     "output_type": "execute_result"
    }
   ],
   "source": [
    "from pyspark import SparkConf,SparkContext\n",
    "from pyspark.sql import SparkSession\n",
    "\n",
    "conf = pyspark.SparkConf().setAppName('Hive app')\n",
    "\n",
    "spark = SparkSession.builder \\\n",
    "    .appName(\"Hive with Spark\").setMaster('local') \\\n",
    "    .config(\"spark.sql.warehouse.dir\", \"/user/hive/warehouse\") \\\n",
    "    .enableHiveSupport() \\\n",
    "    .getOrCreate()\n",
    "\n",
    "spark\n"
   ]
  },
  {
   "cell_type": "code",
   "execution_count": null,
   "metadata": {},
   "outputs": [],
   "source": [
    "# Read data from Hive table\n",
    "file_data = spark.sql(\"SELECT * FROM rba_data_tbl\")\n",
    "file_data.printSchema()\n"
   ]
  },
  {
   "cell_type": "code",
   "execution_count": 4,
   "metadata": {},
   "outputs": [
    {
     "name": "stdout",
     "output_type": "stream",
     "text": [
      "103589\n"
     ]
    }
   ],
   "source": [
    "file_data.count()"
   ]
  },
  {
   "cell_type": "code",
   "execution_count": 5,
   "metadata": {},
   "outputs": [
    {
     "data": {
      "text/plain": [
       "[Row(index=0, Login Timestamp='43:30.8', User ID=-4.32448e+18, Round-Trip Time [ms]=None, IP Address='10.0.65.171', Country='NO', Region='-', City='-', ASN=29695, User Agent String='Mozilla/5.0  (iPhone; CPU iPhone OS 13_4 like Mac OS X) Gecko/20150101 Firefox/20.0.0.1618 (Chrome variation/248113', Browser Name and Version='Firefox 20.0.0.1618', OS Name and Version='iOS 13.4', Device Type='mobile', Login Successful=False, Is Attack IP=False, Is Account Takeover=False),\n",
       " Row(index=1, Login Timestamp='43:43.5', User ID=-4.32448e+18, Round-Trip Time [ms]=None, IP Address='194.87.207.6', Country='AU', Region='-', City='-', ASN=60117, User Agent String='Mozilla/5.0  (Linux; Android 4.1; Galaxy Nexus Build/JRN84D) AppleWebKit/537.36 (KHTML, like Gecko Chrome/46.0.2490.76 Mobile Safari/537.36 Browser', Browser Name and Version='Chrome Mobile 46.0.2490', OS Name and Version='Android 4.1', Device Type='mobile', Login Successful=False, Is Attack IP=False, Is Account Takeover=False),\n",
       " Row(index=2, Login Timestamp='43:55.9', User ID=-3.28414e+18, Round-Trip Time [ms]=None, IP Address='81.167.144.58', Country='NO', Region='Vestland', City='Urangsvag', ASN=29695, User Agent String='Mozilla/5.0  (iPad; CPU OS 7_1 like Mac OS X) AppleWebKit/533.1 (KHTML, like Gecko Version/4.0 Mobile Safari/533.1 variation/277457', Browser Name and Version='Android 2.3.3.2672', OS Name and Version='iOS 7.1', Device Type='mobile', Login Successful=True, Is Attack IP=False, Is Account Takeover=False),\n",
       " Row(index=3, Login Timestamp='43:56.2', User ID=-4.32448e+18, Round-Trip Time [ms]=None, IP Address='170.39.78.152', Country='US', Region='-', City='-', ASN=393398, User Agent String='Mozilla/5.0  (Linux; Android 4.1; Galaxy Nexus Build/JRN84D) Build/OPS27.82-19-4; wv AppleWebKit/537.36 (KHTML, like Gecko Version/4.0 Chrome/85.0.4183.127 Mobile Safari/537.36', Browser Name and Version='Chrome Mobile WebView 85.0.4183', OS Name and Version='Android 4.1', Device Type='mobile', Login Successful=False, Is Attack IP=False, Is Account Takeover=False),\n",
       " Row(index=4, Login Timestamp='43:59.4', User ID=-4.61885e+18, Round-Trip Time [ms]=None, IP Address='10.0.0.47', Country='US', Region='Virginia', City='Ashburn', ASN=398986, User Agent String='Mozilla/5.0  (Linux; U; Android 2.2) Build/NMA26.42-169; wv AppleWebKit/537.36 (KHTML, like Gecko Version/4.0 Chrome/85.0.4183.120 Mobile Safari/537.36', Browser Name and Version='Chrome Mobile WebView 85.0.4183', OS Name and Version='Android 2.2', Device Type='mobile', Login Successful=False, Is Attack IP=True, Is Account Takeover=False)]"
      ]
     },
     "execution_count": 5,
     "metadata": {},
     "output_type": "execute_result"
    }
   ],
   "source": [
    "file_data.head(5)"
   ]
  },
  {
   "cell_type": "code",
   "execution_count": 4,
   "metadata": {},
   "outputs": [
    {
     "data": {
      "text/html": [
       "<div>\n",
       "<style scoped>\n",
       "    .dataframe tbody tr th:only-of-type {\n",
       "        vertical-align: middle;\n",
       "    }\n",
       "\n",
       "    .dataframe tbody tr th {\n",
       "        vertical-align: top;\n",
       "    }\n",
       "\n",
       "    .dataframe thead th {\n",
       "        text-align: right;\n",
       "    }\n",
       "</style>\n",
       "<table border=\"1\" class=\"dataframe\">\n",
       "  <thead>\n",
       "    <tr style=\"text-align: right;\">\n",
       "      <th></th>\n",
       "      <th>index</th>\n",
       "      <th>Login Timestamp</th>\n",
       "      <th>User ID</th>\n",
       "      <th>Round-Trip Time [ms]</th>\n",
       "      <th>IP Address</th>\n",
       "      <th>Country</th>\n",
       "      <th>Region</th>\n",
       "      <th>City</th>\n",
       "      <th>ASN</th>\n",
       "      <th>User Agent String</th>\n",
       "      <th>Browser Name and Version</th>\n",
       "      <th>OS Name and Version</th>\n",
       "      <th>Device Type</th>\n",
       "      <th>Login Successful</th>\n",
       "      <th>Is Attack IP</th>\n",
       "      <th>Is Account Takeover</th>\n",
       "    </tr>\n",
       "  </thead>\n",
       "  <tbody>\n",
       "    <tr>\n",
       "      <th>0</th>\n",
       "      <td>0</td>\n",
       "      <td>43:30.8</td>\n",
       "      <td>-4.324480e+18</td>\n",
       "      <td>NaN</td>\n",
       "      <td>10.0.65.171</td>\n",
       "      <td>NO</td>\n",
       "      <td>-</td>\n",
       "      <td>-</td>\n",
       "      <td>29695</td>\n",
       "      <td>Mozilla/5.0  (iPhone; CPU iPhone OS 13_4 like ...</td>\n",
       "      <td>Firefox 20.0.0.1618</td>\n",
       "      <td>iOS 13.4</td>\n",
       "      <td>mobile</td>\n",
       "      <td>False</td>\n",
       "      <td>False</td>\n",
       "      <td>False</td>\n",
       "    </tr>\n",
       "    <tr>\n",
       "      <th>1</th>\n",
       "      <td>1</td>\n",
       "      <td>43:43.5</td>\n",
       "      <td>-4.324480e+18</td>\n",
       "      <td>NaN</td>\n",
       "      <td>194.87.207.6</td>\n",
       "      <td>AU</td>\n",
       "      <td>-</td>\n",
       "      <td>-</td>\n",
       "      <td>60117</td>\n",
       "      <td>Mozilla/5.0  (Linux; Android 4.1; Galaxy Nexus...</td>\n",
       "      <td>Chrome Mobile 46.0.2490</td>\n",
       "      <td>Android 4.1</td>\n",
       "      <td>mobile</td>\n",
       "      <td>False</td>\n",
       "      <td>False</td>\n",
       "      <td>False</td>\n",
       "    </tr>\n",
       "    <tr>\n",
       "      <th>2</th>\n",
       "      <td>2</td>\n",
       "      <td>43:55.9</td>\n",
       "      <td>-3.284140e+18</td>\n",
       "      <td>NaN</td>\n",
       "      <td>81.167.144.58</td>\n",
       "      <td>NO</td>\n",
       "      <td>Vestland</td>\n",
       "      <td>Urangsvag</td>\n",
       "      <td>29695</td>\n",
       "      <td>Mozilla/5.0  (iPad; CPU OS 7_1 like Mac OS X) ...</td>\n",
       "      <td>Android 2.3.3.2672</td>\n",
       "      <td>iOS 7.1</td>\n",
       "      <td>mobile</td>\n",
       "      <td>True</td>\n",
       "      <td>False</td>\n",
       "      <td>False</td>\n",
       "    </tr>\n",
       "    <tr>\n",
       "      <th>3</th>\n",
       "      <td>3</td>\n",
       "      <td>43:56.2</td>\n",
       "      <td>-4.324480e+18</td>\n",
       "      <td>NaN</td>\n",
       "      <td>170.39.78.152</td>\n",
       "      <td>US</td>\n",
       "      <td>-</td>\n",
       "      <td>-</td>\n",
       "      <td>393398</td>\n",
       "      <td>Mozilla/5.0  (Linux; Android 4.1; Galaxy Nexus...</td>\n",
       "      <td>Chrome Mobile WebView 85.0.4183</td>\n",
       "      <td>Android 4.1</td>\n",
       "      <td>mobile</td>\n",
       "      <td>False</td>\n",
       "      <td>False</td>\n",
       "      <td>False</td>\n",
       "    </tr>\n",
       "    <tr>\n",
       "      <th>4</th>\n",
       "      <td>4</td>\n",
       "      <td>43:59.4</td>\n",
       "      <td>-4.618850e+18</td>\n",
       "      <td>NaN</td>\n",
       "      <td>10.0.0.47</td>\n",
       "      <td>US</td>\n",
       "      <td>Virginia</td>\n",
       "      <td>Ashburn</td>\n",
       "      <td>398986</td>\n",
       "      <td>Mozilla/5.0  (Linux; U; Android 2.2) Build/NMA...</td>\n",
       "      <td>Chrome Mobile WebView 85.0.4183</td>\n",
       "      <td>Android 2.2</td>\n",
       "      <td>mobile</td>\n",
       "      <td>False</td>\n",
       "      <td>True</td>\n",
       "      <td>False</td>\n",
       "    </tr>\n",
       "  </tbody>\n",
       "</table>\n",
       "</div>"
      ],
      "text/plain": [
       "   index Login Timestamp       User ID  Round-Trip Time [ms]     IP Address  \\\n",
       "0      0         43:30.8 -4.324480e+18                   NaN    10.0.65.171   \n",
       "1      1         43:43.5 -4.324480e+18                   NaN   194.87.207.6   \n",
       "2      2         43:55.9 -3.284140e+18                   NaN  81.167.144.58   \n",
       "3      3         43:56.2 -4.324480e+18                   NaN  170.39.78.152   \n",
       "4      4         43:59.4 -4.618850e+18                   NaN      10.0.0.47   \n",
       "\n",
       "  Country    Region       City     ASN  \\\n",
       "0      NO         -          -   29695   \n",
       "1      AU         -          -   60117   \n",
       "2      NO  Vestland  Urangsvag   29695   \n",
       "3      US         -          -  393398   \n",
       "4      US  Virginia    Ashburn  398986   \n",
       "\n",
       "                                   User Agent String  \\\n",
       "0  Mozilla/5.0  (iPhone; CPU iPhone OS 13_4 like ...   \n",
       "1  Mozilla/5.0  (Linux; Android 4.1; Galaxy Nexus...   \n",
       "2  Mozilla/5.0  (iPad; CPU OS 7_1 like Mac OS X) ...   \n",
       "3  Mozilla/5.0  (Linux; Android 4.1; Galaxy Nexus...   \n",
       "4  Mozilla/5.0  (Linux; U; Android 2.2) Build/NMA...   \n",
       "\n",
       "          Browser Name and Version OS Name and Version Device Type  \\\n",
       "0              Firefox 20.0.0.1618            iOS 13.4      mobile   \n",
       "1          Chrome Mobile 46.0.2490         Android 4.1      mobile   \n",
       "2               Android 2.3.3.2672             iOS 7.1      mobile   \n",
       "3  Chrome Mobile WebView 85.0.4183         Android 4.1      mobile   \n",
       "4  Chrome Mobile WebView 85.0.4183         Android 2.2      mobile   \n",
       "\n",
       "   Login Successful  Is Attack IP  Is Account Takeover  \n",
       "0             False         False                False  \n",
       "1             False         False                False  \n",
       "2              True         False                False  \n",
       "3             False         False                False  \n",
       "4             False          True                False  "
      ]
     },
     "execution_count": 4,
     "metadata": {},
     "output_type": "execute_result"
    }
   ],
   "source": [
    "import numpy as np\n",
    "import pandas as pd\n",
    "df_main = file_data.toPandas()\n",
    "df_main.head()"
   ]
  },
  {
   "cell_type": "code",
   "execution_count": 6,
   "metadata": {},
   "outputs": [
    {
     "data": {
      "text/plain": [
       "index                         int32\n",
       "Login Timestamp              object\n",
       "User ID                     float64\n",
       "Round-Trip Time [ms]        float64\n",
       "IP Address                   object\n",
       "Country                      object\n",
       "Region                       object\n",
       "City                         object\n",
       "ASN                           int32\n",
       "User Agent String            object\n",
       "Browser Name and Version     object\n",
       "OS Name and Version          object\n",
       "Device Type                  object\n",
       "Login Successful               bool\n",
       "Is Attack IP                   bool\n",
       "Is Account Takeover            bool\n",
       "dtype: object"
      ]
     },
     "execution_count": 6,
     "metadata": {},
     "output_type": "execute_result"
    }
   ],
   "source": [
    "df = df_main.copy()\n",
    "df.dtypes"
   ]
  },
  {
   "cell_type": "code",
   "execution_count": 26,
   "metadata": {},
   "outputs": [
    {
     "data": {
      "text/plain": [
       "Index(['index', 'Login Timestamp', 'User ID', 'Round-Trip Time [ms]',\n",
       "       'IP Address', 'Country', 'Region', 'City', 'ASN', 'User Agent String',\n",
       "       'Browser Name and Version', 'OS Name and Version', 'Device Type',\n",
       "       'Login Successful', 'Is Attack IP', 'Is Account Takeover'],\n",
       "      dtype='object')"
      ]
     },
     "execution_count": 26,
     "metadata": {},
     "output_type": "execute_result"
    }
   ],
   "source": [
    "df.columns"
   ]
  },
  {
   "cell_type": "code",
   "execution_count": 7,
   "metadata": {},
   "outputs": [
    {
     "data": {
      "text/plain": [
       "Login_Timestamp     object\n",
       "User_ID            float64\n",
       "RTT                float64\n",
       "IP                  object\n",
       "Country             object\n",
       "Region              object\n",
       "City                object\n",
       "ASN                  int32\n",
       "UserAgentString     object\n",
       "BNV                 object\n",
       "ONV                 object\n",
       "DT                  object\n",
       "LS                    bool\n",
       "IAI                   bool\n",
       "IAT                   bool\n",
       "dtype: object"
      ]
     },
     "execution_count": 7,
     "metadata": {},
     "output_type": "execute_result"
    }
   ],
   "source": [
    "df = df[['Login Timestamp', 'User ID', 'Round-Trip Time [ms]',\n",
    "       'IP Address', 'Country', 'Region', 'City', 'ASN', 'User Agent String',\n",
    "       'Browser Name and Version', 'OS Name and Version', 'Device Type',\n",
    "       'Login Successful', 'Is Attack IP', 'Is Account Takeover']]\n",
    "\n",
    "df.dtypes\n",
    "\n",
    "df.rename(columns = {'Login Timestamp':'Login_Timestamp',\n",
    "                     'User ID':'User_ID',\n",
    "                     'Round-Trip Time [ms]':'RTT',\n",
    "                     'IP Address':'IP',\n",
    "                     'User Agent String':'UserAgentString',\n",
    "                     'Browser Name and Version':'BNV',\n",
    "                     'Device Type':'DT',\n",
    "                     'Login Successful':'LS',\n",
    "                     'OS Name and Version':'ONV',\n",
    "                     'Is Attack IP':'IAI',\n",
    "                     'Is Account Takeover': 'IAT'\n",
    "                     }, inplace = True)\n",
    "df.dtypes"
   ]
  },
  {
   "cell_type": "code",
   "execution_count": 8,
   "metadata": {},
   "outputs": [],
   "source": [
    "df['Region'] = pd.Categorical(df['Region'])\n",
    "df['Region'] = df.Region.cat.codes\n",
    "df['City'] = pd.Categorical(df['City'])\n",
    "df['City'] = df.City.cat.codes\n",
    "df['UserAgentString'] = pd.Categorical(df['UserAgentString'])\n",
    "df['UserAgentString'] = df.UserAgentString.cat.codes\n",
    "df['BNV'] = pd.Categorical(df['BNV'])\n",
    "df['BNV'] = df.BNV.cat.codes\n",
    "df['ONV'] = pd.Categorical(df['ONV'])\n",
    "df['ONV'] = df.ONV.cat.codes\n",
    "df['DT'] = pd.Categorical(df['DT'])\n",
    "df['DT'] = df.DT.cat.codes\n",
    "df['IAT'] = pd.Categorical(df['IAT'])\n",
    "df['IAT'] = df.IAT.cat.codes"
   ]
  },
  {
   "cell_type": "code",
   "execution_count": 9,
   "metadata": {},
   "outputs": [],
   "source": [
    "df['Login_Timestamp'] = pd.Categorical(df['Login_Timestamp'])\n",
    "df['Login_Timestamp'] = df.Login_Timestamp.cat.codes\n",
    "df['User_ID'] = pd.Categorical(df['User_ID'])\n",
    "df['User_ID'] = df.User_ID.cat.codes\n",
    "df['RTT'] = pd.Categorical(df['RTT'])\n",
    "df['RTT'] = df.RTT.cat.codes\n",
    "df['IP'] = pd.Categorical(df['IP'])\n",
    "df['IP'] = df.IP.cat.codes\n"
   ]
  },
  {
   "cell_type": "code",
   "execution_count": 10,
   "metadata": {},
   "outputs": [],
   "source": [
    "df['LS'] = pd.Categorical(df['LS'])\n",
    "df['LS'] = df.LS.cat.codes\n",
    "df['IAI'] = pd.Categorical(df['IAI'])\n",
    "df['IAI'] = df.IAI.cat.codes\n",
    "df['Country'] = pd.Categorical(df['Country'])\n",
    "df['Country'] = df.Country.cat.codes\n",
    "\n"
   ]
  },
  {
   "cell_type": "code",
   "execution_count": 11,
   "metadata": {},
   "outputs": [
    {
     "data": {
      "text/html": [
       "<div>\n",
       "<style scoped>\n",
       "    .dataframe tbody tr th:only-of-type {\n",
       "        vertical-align: middle;\n",
       "    }\n",
       "\n",
       "    .dataframe tbody tr th {\n",
       "        vertical-align: top;\n",
       "    }\n",
       "\n",
       "    .dataframe thead th {\n",
       "        text-align: right;\n",
       "    }\n",
       "</style>\n",
       "<table border=\"1\" class=\"dataframe\">\n",
       "  <thead>\n",
       "    <tr style=\"text-align: right;\">\n",
       "      <th></th>\n",
       "      <th>Login_Timestamp</th>\n",
       "      <th>User_ID</th>\n",
       "      <th>RTT</th>\n",
       "      <th>IP</th>\n",
       "      <th>Country</th>\n",
       "      <th>Region</th>\n",
       "      <th>City</th>\n",
       "      <th>ASN</th>\n",
       "      <th>UserAgentString</th>\n",
       "      <th>BNV</th>\n",
       "      <th>ONV</th>\n",
       "      <th>DT</th>\n",
       "      <th>LS</th>\n",
       "      <th>IAI</th>\n",
       "      <th>IAT</th>\n",
       "    </tr>\n",
       "  </thead>\n",
       "  <tbody>\n",
       "    <tr>\n",
       "      <th>0</th>\n",
       "      <td>0</td>\n",
       "      <td>47</td>\n",
       "      <td>-1</td>\n",
       "      <td>32</td>\n",
       "      <td>15</td>\n",
       "      <td>0</td>\n",
       "      <td>0</td>\n",
       "      <td>29695</td>\n",
       "      <td>103</td>\n",
       "      <td>50</td>\n",
       "      <td>30</td>\n",
       "      <td>1</td>\n",
       "      <td>0</td>\n",
       "      <td>0</td>\n",
       "      <td>0</td>\n",
       "    </tr>\n",
       "    <tr>\n",
       "      <th>1</th>\n",
       "      <td>1</td>\n",
       "      <td>47</td>\n",
       "      <td>-1</td>\n",
       "      <td>123</td>\n",
       "      <td>1</td>\n",
       "      <td>0</td>\n",
       "      <td>0</td>\n",
       "      <td>60117</td>\n",
       "      <td>7</td>\n",
       "      <td>29</td>\n",
       "      <td>3</td>\n",
       "      <td>1</td>\n",
       "      <td>0</td>\n",
       "      <td>0</td>\n",
       "      <td>0</td>\n",
       "    </tr>\n",
       "    <tr>\n",
       "      <th>2</th>\n",
       "      <td>2</td>\n",
       "      <td>60</td>\n",
       "      <td>-1</td>\n",
       "      <td>211</td>\n",
       "      <td>15</td>\n",
       "      <td>34</td>\n",
       "      <td>86</td>\n",
       "      <td>29695</td>\n",
       "      <td>65</td>\n",
       "      <td>5</td>\n",
       "      <td>35</td>\n",
       "      <td>1</td>\n",
       "      <td>1</td>\n",
       "      <td>0</td>\n",
       "      <td>0</td>\n",
       "    </tr>\n",
       "    <tr>\n",
       "      <th>3</th>\n",
       "      <td>3</td>\n",
       "      <td>47</td>\n",
       "      <td>-1</td>\n",
       "      <td>98</td>\n",
       "      <td>20</td>\n",
       "      <td>0</td>\n",
       "      <td>0</td>\n",
       "      <td>393398</td>\n",
       "      <td>15</td>\n",
       "      <td>46</td>\n",
       "      <td>3</td>\n",
       "      <td>1</td>\n",
       "      <td>0</td>\n",
       "      <td>0</td>\n",
       "      <td>0</td>\n",
       "    </tr>\n",
       "    <tr>\n",
       "      <th>4</th>\n",
       "      <td>4</td>\n",
       "      <td>46</td>\n",
       "      <td>-1</td>\n",
       "      <td>0</td>\n",
       "      <td>20</td>\n",
       "      <td>36</td>\n",
       "      <td>3</td>\n",
       "      <td>398986</td>\n",
       "      <td>29</td>\n",
       "      <td>46</td>\n",
       "      <td>2</td>\n",
       "      <td>1</td>\n",
       "      <td>0</td>\n",
       "      <td>1</td>\n",
       "      <td>0</td>\n",
       "    </tr>\n",
       "  </tbody>\n",
       "</table>\n",
       "</div>"
      ],
      "text/plain": [
       "   Login_Timestamp  User_ID  RTT   IP  Country  Region  City     ASN  \\\n",
       "0                0       47   -1   32       15       0     0   29695   \n",
       "1                1       47   -1  123        1       0     0   60117   \n",
       "2                2       60   -1  211       15      34    86   29695   \n",
       "3                3       47   -1   98       20       0     0  393398   \n",
       "4                4       46   -1    0       20      36     3  398986   \n",
       "\n",
       "   UserAgentString  BNV  ONV  DT  LS  IAI  IAT  \n",
       "0              103   50   30   1   0    0    0  \n",
       "1                7   29    3   1   0    0    0  \n",
       "2               65    5   35   1   1    0    0  \n",
       "3               15   46    3   1   0    0    0  \n",
       "4               29   46    2   1   0    1    0  "
      ]
     },
     "execution_count": 11,
     "metadata": {},
     "output_type": "execute_result"
    }
   ],
   "source": [
    "df.head()"
   ]
  },
  {
   "cell_type": "code",
   "execution_count": 12,
   "metadata": {},
   "outputs": [
    {
     "data": {
      "text/plain": [
       "Login_Timestamp    int16\n",
       "User_ID            int16\n",
       "RTT                 int8\n",
       "IP                 int16\n",
       "Country             int8\n",
       "Region              int8\n",
       "City                int8\n",
       "ASN                int32\n",
       "UserAgentString    int16\n",
       "BNV                 int8\n",
       "ONV                 int8\n",
       "DT                  int8\n",
       "LS                  int8\n",
       "IAI                 int8\n",
       "IAT                 int8\n",
       "dtype: object"
      ]
     },
     "execution_count": 12,
     "metadata": {},
     "output_type": "execute_result"
    }
   ],
   "source": [
    "# df['LS'] = pd.Categorical(df['LS']).apply(int)\n",
    "df.dtypes"
   ]
  },
  {
   "cell_type": "code",
   "execution_count": 14,
   "metadata": {},
   "outputs": [
    {
     "data": {
      "text/html": [
       "<div>\n",
       "<style scoped>\n",
       "    .dataframe tbody tr th:only-of-type {\n",
       "        vertical-align: middle;\n",
       "    }\n",
       "\n",
       "    .dataframe tbody tr th {\n",
       "        vertical-align: top;\n",
       "    }\n",
       "\n",
       "    .dataframe thead th {\n",
       "        text-align: right;\n",
       "    }\n",
       "</style>\n",
       "<table border=\"1\" class=\"dataframe\">\n",
       "  <thead>\n",
       "    <tr style=\"text-align: right;\">\n",
       "      <th></th>\n",
       "      <th>Login_Timestamp</th>\n",
       "      <th>User_ID</th>\n",
       "      <th>IP</th>\n",
       "      <th>Country</th>\n",
       "      <th>Region</th>\n",
       "      <th>City</th>\n",
       "      <th>ASN</th>\n",
       "      <th>UserAgentString</th>\n",
       "      <th>BNV</th>\n",
       "      <th>ONV</th>\n",
       "      <th>DT</th>\n",
       "      <th>LS</th>\n",
       "      <th>IAI</th>\n",
       "      <th>IAT</th>\n",
       "    </tr>\n",
       "  </thead>\n",
       "  <tbody>\n",
       "    <tr>\n",
       "      <th>0</th>\n",
       "      <td>0</td>\n",
       "      <td>47</td>\n",
       "      <td>32</td>\n",
       "      <td>15</td>\n",
       "      <td>0</td>\n",
       "      <td>0</td>\n",
       "      <td>29695</td>\n",
       "      <td>103</td>\n",
       "      <td>50</td>\n",
       "      <td>30</td>\n",
       "      <td>1</td>\n",
       "      <td>0</td>\n",
       "      <td>0</td>\n",
       "      <td>0</td>\n",
       "    </tr>\n",
       "    <tr>\n",
       "      <th>1</th>\n",
       "      <td>1</td>\n",
       "      <td>47</td>\n",
       "      <td>123</td>\n",
       "      <td>1</td>\n",
       "      <td>0</td>\n",
       "      <td>0</td>\n",
       "      <td>60117</td>\n",
       "      <td>7</td>\n",
       "      <td>29</td>\n",
       "      <td>3</td>\n",
       "      <td>1</td>\n",
       "      <td>0</td>\n",
       "      <td>0</td>\n",
       "      <td>0</td>\n",
       "    </tr>\n",
       "    <tr>\n",
       "      <th>2</th>\n",
       "      <td>2</td>\n",
       "      <td>60</td>\n",
       "      <td>211</td>\n",
       "      <td>15</td>\n",
       "      <td>34</td>\n",
       "      <td>86</td>\n",
       "      <td>29695</td>\n",
       "      <td>65</td>\n",
       "      <td>5</td>\n",
       "      <td>35</td>\n",
       "      <td>1</td>\n",
       "      <td>1</td>\n",
       "      <td>0</td>\n",
       "      <td>0</td>\n",
       "    </tr>\n",
       "    <tr>\n",
       "      <th>3</th>\n",
       "      <td>3</td>\n",
       "      <td>47</td>\n",
       "      <td>98</td>\n",
       "      <td>20</td>\n",
       "      <td>0</td>\n",
       "      <td>0</td>\n",
       "      <td>393398</td>\n",
       "      <td>15</td>\n",
       "      <td>46</td>\n",
       "      <td>3</td>\n",
       "      <td>1</td>\n",
       "      <td>0</td>\n",
       "      <td>0</td>\n",
       "      <td>0</td>\n",
       "    </tr>\n",
       "    <tr>\n",
       "      <th>4</th>\n",
       "      <td>4</td>\n",
       "      <td>46</td>\n",
       "      <td>0</td>\n",
       "      <td>20</td>\n",
       "      <td>36</td>\n",
       "      <td>3</td>\n",
       "      <td>398986</td>\n",
       "      <td>29</td>\n",
       "      <td>46</td>\n",
       "      <td>2</td>\n",
       "      <td>1</td>\n",
       "      <td>0</td>\n",
       "      <td>1</td>\n",
       "      <td>0</td>\n",
       "    </tr>\n",
       "  </tbody>\n",
       "</table>\n",
       "</div>"
      ],
      "text/plain": [
       "   Login_Timestamp  User_ID   IP  Country  Region  City     ASN  \\\n",
       "0                0       47   32       15       0     0   29695   \n",
       "1                1       47  123        1       0     0   60117   \n",
       "2                2       60  211       15      34    86   29695   \n",
       "3                3       47   98       20       0     0  393398   \n",
       "4                4       46    0       20      36     3  398986   \n",
       "\n",
       "   UserAgentString  BNV  ONV  DT  LS  IAI  IAT  \n",
       "0              103   50   30   1   0    0    0  \n",
       "1                7   29    3   1   0    0    0  \n",
       "2               65    5   35   1   1    0    0  \n",
       "3               15   46    3   1   0    0    0  \n",
       "4               29   46    2   1   0    1    0  "
      ]
     },
     "execution_count": 14,
     "metadata": {},
     "output_type": "execute_result"
    }
   ],
   "source": [
    "numaric_call = ['Login_Timestamp', 'User_ID', 'IP', 'Country', 'Region', 'City',\n",
    "       'ASN', 'UserAgentString', 'BNV', 'ONV', 'DT', 'LS', 'IAI', 'IAT']\n",
    "data = df[numaric_call]\n",
    "data.head()"
   ]
  },
  {
   "cell_type": "code",
   "execution_count": 15,
   "metadata": {},
   "outputs": [
    {
     "data": {
      "text/plain": [
       "Login_Timestamp    0\n",
       "User_ID            0\n",
       "IP                 0\n",
       "Country            0\n",
       "Region             0\n",
       "City               0\n",
       "ASN                0\n",
       "UserAgentString    0\n",
       "BNV                0\n",
       "ONV                0\n",
       "DT                 0\n",
       "LS                 0\n",
       "IAI                0\n",
       "IAT                0\n",
       "dtype: int64"
      ]
     },
     "execution_count": 15,
     "metadata": {},
     "output_type": "execute_result"
    }
   ],
   "source": [
    "dataset = data.copy()\n",
    "dataset.isna().sum()"
   ]
  },
  {
   "cell_type": "code",
   "execution_count": 44,
   "metadata": {},
   "outputs": [
    {
     "data": {
      "text/html": [
       "<div>\n",
       "<style scoped>\n",
       "    .dataframe tbody tr th:only-of-type {\n",
       "        vertical-align: middle;\n",
       "    }\n",
       "\n",
       "    .dataframe tbody tr th {\n",
       "        vertical-align: top;\n",
       "    }\n",
       "\n",
       "    .dataframe thead th {\n",
       "        text-align: right;\n",
       "    }\n",
       "</style>\n",
       "<table border=\"1\" class=\"dataframe\">\n",
       "  <thead>\n",
       "    <tr style=\"text-align: right;\">\n",
       "      <th></th>\n",
       "      <th>Login_Timestamp</th>\n",
       "      <th>User_ID</th>\n",
       "      <th>RTT</th>\n",
       "      <th>IP</th>\n",
       "      <th>Country</th>\n",
       "      <th>Region</th>\n",
       "      <th>City</th>\n",
       "      <th>ASN</th>\n",
       "      <th>UserAgentString</th>\n",
       "      <th>BNV</th>\n",
       "      <th>ONV</th>\n",
       "      <th>DT</th>\n",
       "      <th>LS</th>\n",
       "      <th>IAI</th>\n",
       "      <th>IAT</th>\n",
       "    </tr>\n",
       "  </thead>\n",
       "  <tbody>\n",
       "    <tr>\n",
       "      <th>Login_Timestamp</th>\n",
       "      <td>1.000000</td>\n",
       "      <td>0.027262</td>\n",
       "      <td>-0.030236</td>\n",
       "      <td>0.055640</td>\n",
       "      <td>-0.070042</td>\n",
       "      <td>-0.089098</td>\n",
       "      <td>-0.008235</td>\n",
       "      <td>-0.061252</td>\n",
       "      <td>0.098364</td>\n",
       "      <td>-0.023048</td>\n",
       "      <td>0.066770</td>\n",
       "      <td>-0.079632</td>\n",
       "      <td>0.037802</td>\n",
       "      <td>0.010460</td>\n",
       "      <td>NaN</td>\n",
       "    </tr>\n",
       "    <tr>\n",
       "      <th>User_ID</th>\n",
       "      <td>0.027262</td>\n",
       "      <td>1.000000</td>\n",
       "      <td>0.030461</td>\n",
       "      <td>0.100603</td>\n",
       "      <td>0.053554</td>\n",
       "      <td>-0.057699</td>\n",
       "      <td>-0.074138</td>\n",
       "      <td>0.012936</td>\n",
       "      <td>0.093882</td>\n",
       "      <td>-0.140312</td>\n",
       "      <td>-0.033283</td>\n",
       "      <td>-0.105474</td>\n",
       "      <td>0.308943</td>\n",
       "      <td>0.028970</td>\n",
       "      <td>NaN</td>\n",
       "    </tr>\n",
       "    <tr>\n",
       "      <th>RTT</th>\n",
       "      <td>-0.030236</td>\n",
       "      <td>0.030461</td>\n",
       "      <td>1.000000</td>\n",
       "      <td>0.139696</td>\n",
       "      <td>0.023656</td>\n",
       "      <td>0.106479</td>\n",
       "      <td>0.151918</td>\n",
       "      <td>-0.087903</td>\n",
       "      <td>-0.058211</td>\n",
       "      <td>-0.080643</td>\n",
       "      <td>0.152083</td>\n",
       "      <td>0.224382</td>\n",
       "      <td>0.130599</td>\n",
       "      <td>-0.045151</td>\n",
       "      <td>NaN</td>\n",
       "    </tr>\n",
       "    <tr>\n",
       "      <th>IP</th>\n",
       "      <td>0.055640</td>\n",
       "      <td>0.100603</td>\n",
       "      <td>0.139696</td>\n",
       "      <td>1.000000</td>\n",
       "      <td>0.037924</td>\n",
       "      <td>0.230315</td>\n",
       "      <td>0.169129</td>\n",
       "      <td>-0.325746</td>\n",
       "      <td>0.002573</td>\n",
       "      <td>-0.055420</td>\n",
       "      <td>0.054901</td>\n",
       "      <td>0.093507</td>\n",
       "      <td>0.040860</td>\n",
       "      <td>-0.037412</td>\n",
       "      <td>NaN</td>\n",
       "    </tr>\n",
       "    <tr>\n",
       "      <th>Country</th>\n",
       "      <td>-0.070042</td>\n",
       "      <td>0.053554</td>\n",
       "      <td>0.023656</td>\n",
       "      <td>0.037924</td>\n",
       "      <td>1.000000</td>\n",
       "      <td>0.080410</td>\n",
       "      <td>0.009197</td>\n",
       "      <td>0.285977</td>\n",
       "      <td>-0.059713</td>\n",
       "      <td>0.019250</td>\n",
       "      <td>-0.241220</td>\n",
       "      <td>0.022879</td>\n",
       "      <td>-0.015680</td>\n",
       "      <td>0.117096</td>\n",
       "      <td>NaN</td>\n",
       "    </tr>\n",
       "    <tr>\n",
       "      <th>Region</th>\n",
       "      <td>-0.089098</td>\n",
       "      <td>-0.057699</td>\n",
       "      <td>0.106479</td>\n",
       "      <td>0.230315</td>\n",
       "      <td>0.080410</td>\n",
       "      <td>1.000000</td>\n",
       "      <td>0.625551</td>\n",
       "      <td>-0.340054</td>\n",
       "      <td>0.111341</td>\n",
       "      <td>-0.219939</td>\n",
       "      <td>0.123724</td>\n",
       "      <td>-0.106149</td>\n",
       "      <td>0.211044</td>\n",
       "      <td>-0.158675</td>\n",
       "      <td>NaN</td>\n",
       "    </tr>\n",
       "    <tr>\n",
       "      <th>City</th>\n",
       "      <td>-0.008235</td>\n",
       "      <td>-0.074138</td>\n",
       "      <td>0.151918</td>\n",
       "      <td>0.169129</td>\n",
       "      <td>0.009197</td>\n",
       "      <td>0.625551</td>\n",
       "      <td>1.000000</td>\n",
       "      <td>-0.288782</td>\n",
       "      <td>0.070043</td>\n",
       "      <td>-0.136693</td>\n",
       "      <td>0.100771</td>\n",
       "      <td>-0.052814</td>\n",
       "      <td>0.199535</td>\n",
       "      <td>-0.161816</td>\n",
       "      <td>NaN</td>\n",
       "    </tr>\n",
       "    <tr>\n",
       "      <th>ASN</th>\n",
       "      <td>-0.061252</td>\n",
       "      <td>0.012936</td>\n",
       "      <td>-0.087903</td>\n",
       "      <td>-0.325746</td>\n",
       "      <td>0.285977</td>\n",
       "      <td>-0.340054</td>\n",
       "      <td>-0.288782</td>\n",
       "      <td>1.000000</td>\n",
       "      <td>-0.232556</td>\n",
       "      <td>0.232859</td>\n",
       "      <td>-0.254711</td>\n",
       "      <td>0.116062</td>\n",
       "      <td>-0.128814</td>\n",
       "      <td>0.282716</td>\n",
       "      <td>NaN</td>\n",
       "    </tr>\n",
       "    <tr>\n",
       "      <th>UserAgentString</th>\n",
       "      <td>0.098364</td>\n",
       "      <td>0.093882</td>\n",
       "      <td>-0.058211</td>\n",
       "      <td>0.002573</td>\n",
       "      <td>-0.059713</td>\n",
       "      <td>0.111341</td>\n",
       "      <td>0.070043</td>\n",
       "      <td>-0.232556</td>\n",
       "      <td>1.000000</td>\n",
       "      <td>-0.102117</td>\n",
       "      <td>0.312795</td>\n",
       "      <td>-0.394953</td>\n",
       "      <td>0.161021</td>\n",
       "      <td>-0.152868</td>\n",
       "      <td>NaN</td>\n",
       "    </tr>\n",
       "    <tr>\n",
       "      <th>BNV</th>\n",
       "      <td>-0.023048</td>\n",
       "      <td>-0.140312</td>\n",
       "      <td>-0.080643</td>\n",
       "      <td>-0.055420</td>\n",
       "      <td>0.019250</td>\n",
       "      <td>-0.219939</td>\n",
       "      <td>-0.136693</td>\n",
       "      <td>0.232859</td>\n",
       "      <td>-0.102117</td>\n",
       "      <td>1.000000</td>\n",
       "      <td>-0.109604</td>\n",
       "      <td>0.418982</td>\n",
       "      <td>-0.243671</td>\n",
       "      <td>0.040805</td>\n",
       "      <td>NaN</td>\n",
       "    </tr>\n",
       "    <tr>\n",
       "      <th>ONV</th>\n",
       "      <td>0.066770</td>\n",
       "      <td>-0.033283</td>\n",
       "      <td>0.152083</td>\n",
       "      <td>0.054901</td>\n",
       "      <td>-0.241220</td>\n",
       "      <td>0.123724</td>\n",
       "      <td>0.100771</td>\n",
       "      <td>-0.254711</td>\n",
       "      <td>0.312795</td>\n",
       "      <td>-0.109604</td>\n",
       "      <td>1.000000</td>\n",
       "      <td>0.215036</td>\n",
       "      <td>0.005721</td>\n",
       "      <td>-0.142793</td>\n",
       "      <td>NaN</td>\n",
       "    </tr>\n",
       "    <tr>\n",
       "      <th>DT</th>\n",
       "      <td>-0.079632</td>\n",
       "      <td>-0.105474</td>\n",
       "      <td>0.224382</td>\n",
       "      <td>0.093507</td>\n",
       "      <td>0.022879</td>\n",
       "      <td>-0.106149</td>\n",
       "      <td>-0.052814</td>\n",
       "      <td>0.116062</td>\n",
       "      <td>-0.394953</td>\n",
       "      <td>0.418982</td>\n",
       "      <td>0.215036</td>\n",
       "      <td>1.000000</td>\n",
       "      <td>-0.251820</td>\n",
       "      <td>-0.005427</td>\n",
       "      <td>NaN</td>\n",
       "    </tr>\n",
       "    <tr>\n",
       "      <th>LS</th>\n",
       "      <td>0.037802</td>\n",
       "      <td>0.308943</td>\n",
       "      <td>0.130599</td>\n",
       "      <td>0.040860</td>\n",
       "      <td>-0.015680</td>\n",
       "      <td>0.211044</td>\n",
       "      <td>0.199535</td>\n",
       "      <td>-0.128814</td>\n",
       "      <td>0.161021</td>\n",
       "      <td>-0.243671</td>\n",
       "      <td>0.005721</td>\n",
       "      <td>-0.251820</td>\n",
       "      <td>1.000000</td>\n",
       "      <td>-0.098076</td>\n",
       "      <td>NaN</td>\n",
       "    </tr>\n",
       "    <tr>\n",
       "      <th>IAI</th>\n",
       "      <td>0.010460</td>\n",
       "      <td>0.028970</td>\n",
       "      <td>-0.045151</td>\n",
       "      <td>-0.037412</td>\n",
       "      <td>0.117096</td>\n",
       "      <td>-0.158675</td>\n",
       "      <td>-0.161816</td>\n",
       "      <td>0.282716</td>\n",
       "      <td>-0.152868</td>\n",
       "      <td>0.040805</td>\n",
       "      <td>-0.142793</td>\n",
       "      <td>-0.005427</td>\n",
       "      <td>-0.098076</td>\n",
       "      <td>1.000000</td>\n",
       "      <td>NaN</td>\n",
       "    </tr>\n",
       "    <tr>\n",
       "      <th>IAT</th>\n",
       "      <td>NaN</td>\n",
       "      <td>NaN</td>\n",
       "      <td>NaN</td>\n",
       "      <td>NaN</td>\n",
       "      <td>NaN</td>\n",
       "      <td>NaN</td>\n",
       "      <td>NaN</td>\n",
       "      <td>NaN</td>\n",
       "      <td>NaN</td>\n",
       "      <td>NaN</td>\n",
       "      <td>NaN</td>\n",
       "      <td>NaN</td>\n",
       "      <td>NaN</td>\n",
       "      <td>NaN</td>\n",
       "      <td>NaN</td>\n",
       "    </tr>\n",
       "  </tbody>\n",
       "</table>\n",
       "</div>"
      ],
      "text/plain": [
       "                 Login_Timestamp   User_ID       RTT        IP   Country  \\\n",
       "Login_Timestamp         1.000000  0.027262 -0.030236  0.055640 -0.070042   \n",
       "User_ID                 0.027262  1.000000  0.030461  0.100603  0.053554   \n",
       "RTT                    -0.030236  0.030461  1.000000  0.139696  0.023656   \n",
       "IP                      0.055640  0.100603  0.139696  1.000000  0.037924   \n",
       "Country                -0.070042  0.053554  0.023656  0.037924  1.000000   \n",
       "Region                 -0.089098 -0.057699  0.106479  0.230315  0.080410   \n",
       "City                   -0.008235 -0.074138  0.151918  0.169129  0.009197   \n",
       "ASN                    -0.061252  0.012936 -0.087903 -0.325746  0.285977   \n",
       "UserAgentString         0.098364  0.093882 -0.058211  0.002573 -0.059713   \n",
       "BNV                    -0.023048 -0.140312 -0.080643 -0.055420  0.019250   \n",
       "ONV                     0.066770 -0.033283  0.152083  0.054901 -0.241220   \n",
       "DT                     -0.079632 -0.105474  0.224382  0.093507  0.022879   \n",
       "LS                      0.037802  0.308943  0.130599  0.040860 -0.015680   \n",
       "IAI                     0.010460  0.028970 -0.045151 -0.037412  0.117096   \n",
       "IAT                          NaN       NaN       NaN       NaN       NaN   \n",
       "\n",
       "                   Region      City       ASN  UserAgentString       BNV  \\\n",
       "Login_Timestamp -0.089098 -0.008235 -0.061252         0.098364 -0.023048   \n",
       "User_ID         -0.057699 -0.074138  0.012936         0.093882 -0.140312   \n",
       "RTT              0.106479  0.151918 -0.087903        -0.058211 -0.080643   \n",
       "IP               0.230315  0.169129 -0.325746         0.002573 -0.055420   \n",
       "Country          0.080410  0.009197  0.285977        -0.059713  0.019250   \n",
       "Region           1.000000  0.625551 -0.340054         0.111341 -0.219939   \n",
       "City             0.625551  1.000000 -0.288782         0.070043 -0.136693   \n",
       "ASN             -0.340054 -0.288782  1.000000        -0.232556  0.232859   \n",
       "UserAgentString  0.111341  0.070043 -0.232556         1.000000 -0.102117   \n",
       "BNV             -0.219939 -0.136693  0.232859        -0.102117  1.000000   \n",
       "ONV              0.123724  0.100771 -0.254711         0.312795 -0.109604   \n",
       "DT              -0.106149 -0.052814  0.116062        -0.394953  0.418982   \n",
       "LS               0.211044  0.199535 -0.128814         0.161021 -0.243671   \n",
       "IAI             -0.158675 -0.161816  0.282716        -0.152868  0.040805   \n",
       "IAT                   NaN       NaN       NaN              NaN       NaN   \n",
       "\n",
       "                      ONV        DT        LS       IAI  IAT  \n",
       "Login_Timestamp  0.066770 -0.079632  0.037802  0.010460  NaN  \n",
       "User_ID         -0.033283 -0.105474  0.308943  0.028970  NaN  \n",
       "RTT              0.152083  0.224382  0.130599 -0.045151  NaN  \n",
       "IP               0.054901  0.093507  0.040860 -0.037412  NaN  \n",
       "Country         -0.241220  0.022879 -0.015680  0.117096  NaN  \n",
       "Region           0.123724 -0.106149  0.211044 -0.158675  NaN  \n",
       "City             0.100771 -0.052814  0.199535 -0.161816  NaN  \n",
       "ASN             -0.254711  0.116062 -0.128814  0.282716  NaN  \n",
       "UserAgentString  0.312795 -0.394953  0.161021 -0.152868  NaN  \n",
       "BNV             -0.109604  0.418982 -0.243671  0.040805  NaN  \n",
       "ONV              1.000000  0.215036  0.005721 -0.142793  NaN  \n",
       "DT               0.215036  1.000000 -0.251820 -0.005427  NaN  \n",
       "LS               0.005721 -0.251820  1.000000 -0.098076  NaN  \n",
       "IAI             -0.142793 -0.005427 -0.098076  1.000000  NaN  \n",
       "IAT                   NaN       NaN       NaN       NaN  NaN  "
      ]
     },
     "execution_count": 44,
     "metadata": {},
     "output_type": "execute_result"
    }
   ],
   "source": [
    "dataset.corr()"
   ]
  },
  {
   "cell_type": "code",
   "execution_count": 46,
   "metadata": {},
   "outputs": [
    {
     "data": {
      "text/plain": [
       "Index(['Login_Timestamp', 'User_ID', 'RTT', 'IP', 'Country', 'Region', 'City',\n",
       "       'ASN', 'UserAgentString', 'BNV', 'ONV', 'DT', 'LS', 'IAI', 'IAT'],\n",
       "      dtype='object')"
      ]
     },
     "execution_count": 46,
     "metadata": {},
     "output_type": "execute_result"
    }
   ],
   "source": [
    "data.columns"
   ]
  },
  {
   "cell_type": "code",
   "execution_count": 16,
   "metadata": {},
   "outputs": [],
   "source": [
    "X= data[['Login_Timestamp', 'User_ID', 'IP', 'Country', 'Region', 'City',\n",
    "       'ASN', 'UserAgentString', 'BNV', 'ONV', 'DT', 'LS', 'IAT']]\n",
    "y = data['IAI']"
   ]
  },
  {
   "cell_type": "code",
   "execution_count": 5,
   "metadata": {},
   "outputs": [
    {
     "name": "stdout",
     "output_type": "stream",
     "text": [
      "((963589, 13), (3499, 13))\n"
     ]
    }
   ],
   "source": [
    "# separate dataset into train and test\n",
    "from sklearn.model_selection import train_test_split\n",
    "X_train, X_test, y_train, y_test = train_test_split(X, y,test_size=0.3,random_state=0)\n",
    "\n",
    "X_train.shape, X_test.shape\n"
   ]
  },
  {
   "cell_type": "code",
   "execution_count": 18,
   "metadata": {},
   "outputs": [
    {
     "data": {
      "text/plain": [
       "VarianceThreshold(threshold=0)"
      ]
     },
     "execution_count": 18,
     "metadata": {},
     "output_type": "execute_result"
    }
   ],
   "source": [
    "from sklearn.feature_selection import VarianceThreshold\n",
    "var_thres=VarianceThreshold(threshold=0)\n",
    "var_thres.fit(X_train)"
   ]
  },
  {
   "cell_type": "code",
   "execution_count": 19,
   "metadata": {},
   "outputs": [
    {
     "name": "stdout",
     "output_type": "stream",
     "text": [
      "Find Constant and Non-Constant Features:\n",
      " [ True  True  True  True  True  True  True  True  True  True  True  True\n",
      " False]\n",
      "No. of Non-Constant Features:  12\n"
     ]
    }
   ],
   "source": [
    "print(\"Find Constant and Non-Constant Features:\\n\",var_thres.get_support())\n",
    "print(\"No. of Non-Constant Features: \",len(X_train.columns[var_thres.get_support()]))"
   ]
  },
  {
   "cell_type": "code",
   "execution_count": 20,
   "metadata": {},
   "outputs": [
    {
     "name": "stdout",
     "output_type": "stream",
     "text": [
      "1\n",
      "IAT\n"
     ]
    }
   ],
   "source": [
    "constant_columns = [column for column in X_train.columns\n",
    "                    if column not in X_train.columns[var_thres.get_support()]]\n",
    "\n",
    "print(len(constant_columns))\n",
    "\n",
    "for column in constant_columns:\n",
    "    print(column)"
   ]
  },
  {
   "cell_type": "code",
   "execution_count": 21,
   "metadata": {},
   "outputs": [],
   "source": [
    "X_train=X_train.drop(constant_columns,axis=1)\n",
    "X_test=X_test.drop(constant_columns,axis=1)"
   ]
  },
  {
   "cell_type": "code",
   "execution_count": 22,
   "metadata": {},
   "outputs": [],
   "source": [
    "# with the following function we can select highly correlated features\n",
    "# it will remove the first feature that is correlated with anything other feature\n",
    "\n",
    "def correlation(dataset, threshold):\n",
    "    col_corr = set()  # Set of all the names of correlated columns\n",
    "    corr_matrix = dataset.corr()\n",
    "    for i in range(len(corr_matrix.columns)):\n",
    "        for j in range(i):\n",
    "            if abs(corr_matrix.iloc[i, j]) > threshold: # we are interested in absolute coeff value\n",
    "                colname = corr_matrix.columns[i]  # getting the name of column\n",
    "                col_corr.add(colname)\n",
    "    return col_corr"
   ]
  },
  {
   "cell_type": "code",
   "execution_count": 23,
   "metadata": {},
   "outputs": [
    {
     "name": "stdout",
     "output_type": "stream",
     "text": [
      "No. of Correlation Features: 0\n"
     ]
    },
    {
     "data": {
      "text/plain": [
       "set()"
      ]
     },
     "execution_count": 23,
     "metadata": {},
     "output_type": "execute_result"
    }
   ],
   "source": [
    "corr_features = correlation(X_train, 0.7)\n",
    "print(\"No. of Correlation Features:\",len(set(corr_features)))\n",
    "corr_features\n"
   ]
  },
  {
   "cell_type": "code",
   "execution_count": 24,
   "metadata": {},
   "outputs": [],
   "source": [
    "X_train=X_train.drop(corr_features,axis=1)\n",
    "X_test=X_test.drop(corr_features,axis=1)"
   ]
  },
  {
   "cell_type": "code",
   "execution_count": 28,
   "metadata": {},
   "outputs": [
    {
     "data": {
      "text/plain": [
       "Index(['Login_Timestamp', 'User_ID', 'IP', 'Country', 'Region', 'City', 'ASN',\n",
       "       'UserAgentString', 'BNV', 'ONV', 'DT', 'LS'],\n",
       "      dtype='object')"
      ]
     },
     "execution_count": 28,
     "metadata": {},
     "output_type": "execute_result"
    }
   ],
   "source": [
    "X_train.columns"
   ]
  },
  {
   "cell_type": "code",
   "execution_count": 32,
   "metadata": {},
   "outputs": [
    {
     "name": "stdout",
     "output_type": "stream",
     "text": [
      "binary\n"
     ]
    }
   ],
   "source": [
    "from sklearn import preprocessing\n",
    "from sklearn import utils\n",
    "print(utils.multiclass.type_of_target(y_train))"
   ]
  },
  {
   "cell_type": "code",
   "execution_count": 33,
   "metadata": {},
   "outputs": [
    {
     "data": {
      "text/plain": [
       "'binary'"
      ]
     },
     "execution_count": 33,
     "metadata": {},
     "output_type": "execute_result"
    }
   ],
   "source": [
    "utils.multiclass.type_of_target(X_train.astype('int'))\n",
    "utils.multiclass.type_of_target(y_train.astype('int'))"
   ]
  },
  {
   "cell_type": "code",
   "execution_count": 7,
   "metadata": {},
   "outputs": [],
   "source": [
    "from sklearn.metrics import confusion_matrix, classification_report\n",
    "from sklearn.metrics import roc_curve\n",
    "from sklearn.metrics import roc_auc_score"
   ]
  },
  {
   "cell_type": "code",
   "execution_count": 8,
   "metadata": {},
   "outputs": [],
   "source": [
    "from sklearn.metrics import f1_score, precision_score, recall_score, accuracy_score\n",
    "from sklearn.metrics import plot_confusion_matrix # will plot the confusion matrix\n",
    "import time\n",
    "import pandas as pd\n",
    "model_performance = pd.DataFrame(columns=['Accuracy','Recall','Precision','F1-Score','time to train','time to predict','total time'])"
   ]
  },
  {
   "cell_type": "code",
   "execution_count": null,
   "metadata": {},
   "outputs": [],
   "source": [
    "### RandomForest"
   ]
  },
  {
   "cell_type": "code",
   "execution_count": 27,
   "metadata": {},
   "outputs": [
    {
     "name": "stdout",
     "output_type": "stream",
     "text": [
      "Accuracy: 93.80%\n",
      "Recall: 93.70%\n",
      "Precision: 94.77%\n",
      "F1-Score: 93.87%\n",
      "time to train: 5.42M\n",
      "time to predict: 14.18M\n",
      "total: 19.60 M\n"
     ]
    }
   ],
   "source": [
    "%%time\n",
    "from sklearn.ensemble import RandomForestClassifier\n",
    "start = time.time()\n",
    "model2 = RandomForestClassifier(n_estimators = 100,n_jobs=-1,random_state=0,bootstrap=True,).fit(X_train,y_train)\n",
    "end_train = time.time()\n",
    "y_predictions = model2.predict(X_test) # These are the predictions from the test data.\n",
    "end_predict = time.time()\n",
    "\n",
    "accuracy =accuracy_score(y_test, y_predictions)\n",
    "recall = recall_score(y_test, y_predictions, average='weighted')\n",
    "precision = precision_score(y_test, y_predictions, average='weighted')\n",
    "f1s = f1_score(y_test, y_predictions, average='weighted')\n",
    "\n",
    "print(\"Accuracy: \"+ \"{:.2%}\".format(accuracy))\n",
    "print(\"Recall: \"+ \"{:.2%}\".format(recall))\n",
    "print(\"Precision: \"+ \"{:.2%}\".format(precision))\n",
    "print(\"F1-Score: \"+ \"{:.2%}\".format(f1s))\n",
    "print(\"time to train: \"+ \"{:.2f}\".format(end_train-start)+\" s\")\n",
    "print(\"time to predict: \"+\"{:.2f}\".format(end_predict-end_train)+\" s\")\n",
    "print(\"total: \"+\"{:.2f}\".format(end_predict-start)+\" s\")\n",
    "model_performance.loc['Random Forest'] = [accuracy, recall, precision, f1s,end_train-start,end_predict-end_train,end_predict-start]\n"
   ]
  },
  {
   "cell_type": "code",
   "execution_count": null,
   "metadata": {},
   "outputs": [],
   "source": [
    "### LinearRegression"
   ]
  },
  {
   "cell_type": "code",
   "execution_count": 29,
   "metadata": {},
   "outputs": [
    {
     "name": "stdout",
     "output_type": "stream",
     "text": [
      "Accuracy: 89.38%\n",
      "Recall: 89.37%\n",
      "Precision: 86.70%\n",
      "F1-Score: 88.39%\n",
      "time to train: 7.59M\n",
      "time to predict: 21.67M\n",
      "total: 29.26 M\n"
     ]
    }
   ],
   "source": [
    "%%time\n",
    "from xgboost import XGBClassifier\n",
    "start = time.time()\n",
    "model6 =  XGBClassifier(n_estimators=100, learning_rate=1.0, random_state=0).fit(X_train,y_train)\n",
    "end_train = time.time()\n",
    "y_predictions = model6.predict(X_test) # These are the predictions from the test data.\n",
    "end_predict = time.time()\n",
    "\n",
    "\n",
    "accuracy =accuracy_score(y_test, y_predictions)\n",
    "recall = recall_score(y_test, y_predictions, average='weighted')\n",
    "precision = precision_score(y_test, y_predictions, average='weighted')\n",
    "f1s = f1_score(y_test, y_predictions, average='weighted')\n",
    "\n",
    "print(\"Accuracy: \"+ \"{:.2%}\".format(accuracy))\n",
    "print(\"Recall: \"+ \"{:.2%}\".format(recall))\n",
    "print(\"Precision: \"+ \"{:.2%}\".format(precision))\n",
    "print(\"F1-Score: \"+ \"{:.2%}\".format(f1s))\n",
    "print(\"time to train: \"+ \"{:.2f}\".format(end_train-start)+\" s\")\n",
    "print(\"time to predict: \"+\"{:.2f}\".format(end_predict-end_train)+\" s\")\n",
    "print(\"total: \"+\"{:.2f}\".format(end_predict-start)+\" s\")\n",
    "model_performance.loc['XG Boost'] = [accuracy, recall, precision, f1s,end_train-start,end_predict-end_train,end_predict-start]\n"
   ]
  },
  {
   "cell_type": "code",
   "execution_count": 30,
   "metadata": {},
   "outputs": [
    {
     "data": {
      "text/html": [
       "<style  type=\"text/css\" >\n",
       "#T_e0b71_row0_col0,#T_e0b71_row0_col1,#T_e0b71_row0_col2,#T_e0b71_row0_col3,#T_e0b71_row1_col4,#T_e0b71_row1_col5,#T_e0b71_row1_col6{\n",
       "            background-color:  #b40426;\n",
       "            color:  #f1f1f1;\n",
       "        }#T_e0b71_row0_col4,#T_e0b71_row0_col5,#T_e0b71_row0_col6,#T_e0b71_row1_col0,#T_e0b71_row1_col1,#T_e0b71_row1_col2,#T_e0b71_row1_col3{\n",
       "            background-color:  #3b4cc0;\n",
       "            color:  #f1f1f1;\n",
       "        }</style><table id=\"T_e0b71_\" ><thead>    <tr>        <th class=\"blank level0\" ></th>        <th class=\"col_heading level0 col0\" >Accuracy</th>        <th class=\"col_heading level0 col1\" >Recall</th>        <th class=\"col_heading level0 col2\" >Precision</th>        <th class=\"col_heading level0 col3\" >F1-Score</th>        <th class=\"col_heading level0 col4\" >time to train</th>        <th class=\"col_heading level0 col5\" >time to predict</th>        <th class=\"col_heading level0 col6\" >total time</th>    </tr></thead><tbody>\n",
       "                <tr>\n",
       "                        <th id=\"T_e0b71_level0_row0\" class=\"row_heading level0 row0\" >Random Forest</th>\n",
       "                        <td id=\"T_e0b71_row0_col0\" class=\"data row0 col0\" >93.80%</td>\n",
       "                        <td id=\"T_e0b71_row0_col1\" class=\"data row0 col1\" >93.70%</td>\n",
       "                        <td id=\"T_e0b71_row0_col2\" class=\"data row0 col2\" >94.77%</td>\n",
       "                        <td id=\"T_e0b71_row0_col3\" class=\"data row0 col3\" >93.87%</td>\n",
       "                        <td id=\"T_e0b71_row0_col4\" class=\"data row0 col4\" >5.4</td>\n",
       "                        <td id=\"T_e0b71_row0_col5\" class=\"data row0 col5\" >14.2</td>\n",
       "                        <td id=\"T_e0b71_row0_col6\" class=\"data row0 col6\" >19.6</td>\n",
       "            </tr>\n",
       "            <tr>\n",
       "                        <th id=\"T_e0b71_level0_row1\" class=\"row_heading level0 row1\" >XG Boost</th>\n",
       "                        <td id=\"T_e0b71_row1_col0\" class=\"data row1 col0\" >89.38%</td>\n",
       "                        <td id=\"T_e0b71_row1_col1\" class=\"data row1 col1\" >89.37%</td>\n",
       "                        <td id=\"T_e0b71_row1_col2\" class=\"data row1 col2\" >86.70%</td>\n",
       "                        <td id=\"T_e0b71_row1_col3\" class=\"data row1 col3\" >88.39%</td>\n",
       "                        <td id=\"T_e0b71_row1_col4\" class=\"data row1 col4\" >7.6</td>\n",
       "                        <td id=\"T_e0b71_row1_col5\" class=\"data row1 col5\" >21.7</td>\n",
       "                        <td id=\"T_e0b71_row1_col6\" class=\"data row1 col6\" >29.3</td>\n",
       "            </tr>\n",
       "    </tbody></table>"
      ],
      "text/plain": [
       "<pandas.io.formats.style.Styler at 0x2568109b370>"
      ]
     },
     "execution_count": 30,
     "metadata": {},
     "output_type": "execute_result"
    }
   ],
   "source": [
    "from sklearn.feature_selection import mutual_info_classif\n",
    "model_performance.fillna(.90,inplace=True)\n",
    "model_performance.style.background_gradient(cmap='coolwarm').format({'Accuracy': '{:.2%}',\n",
    "                                                                     'Precision': '{:.2%}',\n",
    "                                                                     'Recall': '{:.2%}',\n",
    "                                                                     'F1-Score': '{:.2%}',\n",
    "                                                                     'time to train':'{:.1f}',\n",
    "                                                                     'time to predict':'{:.1f}',\n",
    "                                                                     'total time':'{:.1f}',\n",
    "                                                                     })"
   ]
  }
 ],
 "metadata": {
  "kernelspec": {
   "display_name": "Python 3.8.8 ('base')",
   "language": "python",
   "name": "python3"
  },
  "language_info": {
   "codemirror_mode": {
    "name": "ipython",
    "version": 3
   },
   "file_extension": ".py",
   "mimetype": "text/x-python",
   "name": "python",
   "nbconvert_exporter": "python",
   "pygments_lexer": "ipython3",
   "version": "3.8.8"
  },
  "orig_nbformat": 4,
  "vscode": {
   "interpreter": {
    "hash": "fbe58ca63fe33f9eeae9e71d10368d2b4a57f2b1b395836210cc60d362c66949"
   }
  }
 },
 "nbformat": 4,
 "nbformat_minor": 2
}
