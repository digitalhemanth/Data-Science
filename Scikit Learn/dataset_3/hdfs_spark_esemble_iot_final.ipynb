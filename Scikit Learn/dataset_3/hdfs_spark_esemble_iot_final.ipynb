{
 "cells": [
  {
   "cell_type": "code",
   "execution_count": 1,
   "metadata": {},
   "outputs": [
    {
     "data": {
      "text/plain": [
       "'C:\\\\spark\\\\spark-3.2.0-bin-hadoop3.2'"
      ]
     },
     "execution_count": 1,
     "metadata": {},
     "output_type": "execute_result"
    }
   ],
   "source": [
    "import findspark \n",
    "findspark.init()\n",
    "import pyspark\n",
    "findspark.find()\n"
   ]
  },
  {
   "cell_type": "code",
   "execution_count": 1,
   "metadata": {},
   "outputs": [],
   "source": [
    "from pyspark.sql import SparkSession\n",
    "from pyspark.ml.feature import VectorAssembler\n",
    "from pyspark.ml.classification import RandomForestClassifier\n",
    "from pyspark.ml.evaluation import MulticlassClassificationEvaluator\n",
    "from sklearn.ensemble import VotingClassifier\n",
    "from sklearn.linear_model import LogisticRegression\n",
    "from sklearn.tree import DecisionTreeClassifier\n"
   ]
  },
  {
   "cell_type": "code",
   "execution_count": 2,
   "metadata": {},
   "outputs": [
    {
     "data": {
      "text/html": [
       "\n",
       "            <div>\n",
       "                <p><b>SparkSession - in-memory</b></p>\n",
       "                \n",
       "        <div>\n",
       "            <p><b>SparkContext</b></p>\n",
       "\n",
       "            <p><a href=\"http://LAPTOP-15HARP1G:4041\">Spark UI</a></p>\n",
       "\n",
       "            <dl>\n",
       "              <dt>Version</dt>\n",
       "                <dd><code>v3.2.0</code></dd>\n",
       "              <dt>Master</dt>\n",
       "                <dd><code>local[*]</code></dd>\n",
       "              <dt>AppName</dt>\n",
       "                <dd><code>Ensemble Algorithms with Spark and scikit-learn</code></dd>\n",
       "            </dl>\n",
       "        </div>\n",
       "        \n",
       "            </div>\n",
       "        "
      ],
      "text/plain": [
       "<pyspark.sql.session.SparkSession at 0x2b3002768e0>"
      ]
     },
     "execution_count": 2,
     "metadata": {},
     "output_type": "execute_result"
    }
   ],
   "source": [
    "spark = SparkSession.builder \\\n",
    "    .appName(\"Ensemble Algorithms with Spark and scikit-learn\") \\\n",
    "    .getOrCreate()\n",
    "\n",
    "spark"
   ]
  },
  {
   "cell_type": "code",
   "execution_count": 3,
   "metadata": {},
   "outputs": [
    {
     "name": "stdout",
     "output_type": "stream",
     "text": [
      "root\n",
      " |-- src_zb_addr: string (nullable = true)\n",
      " |-- dst_zb_addr: string (nullable = true)\n",
      " |-- start_time: integer (nullable = true)\n",
      " |-- stop_time: integer (nullable = true)\n",
      " |-- duration: double (nullable = true)\n",
      " |-- number_of_packets: integer (nullable = true)\n",
      " |-- min_size: integer (nullable = true)\n",
      " |-- max_size: integer (nullable = true)\n",
      " |-- average_size: double (nullable = true)\n",
      " |-- total_bytes_a: integer (nullable = true)\n",
      " |-- total_bytes_b: integer (nullable = true)\n",
      " |-- sum_size: integer (nullable = true)\n",
      " |-- packets_a: integer (nullable = true)\n",
      " |-- packets_b: integer (nullable = true)\n",
      " |-- connect: integer (nullable = true)\n",
      "\n"
     ]
    }
   ],
   "source": [
    "file_data = spark.read.csv(\"hdfs://dataset_2/cnn_rnn/iot_dataset*.csv\", header=True, inferSchema=True)\n",
    "file_data.printSchema()\n"
   ]
  },
  {
   "cell_type": "code",
   "execution_count": 3,
   "metadata": {},
   "outputs": [
    {
     "name": "stdout",
     "output_type": "stream",
     "text": [
      "9653217\n"
     ]
    }
   ],
   "source": [
    "file_data.count()"
   ]
  },
  {
   "cell_type": "code",
   "execution_count": 10,
   "metadata": {},
   "outputs": [
    {
     "data": {
      "text/plain": [
       "[Row(src_zb_addr='1ba29f32', dst_zb_addr='c08a1bf5', start_time=1570732037.00045, stop_time=1570732037.000664, duration=0.00021409988403320312, number_of_packets=4, min_size=34, max_size=43, average_size=38.5, total_bytes_a=86, total_bytes_b=68, sum_size=154, packets_a=2, packets_b=2),\n",
       " Row(src_zb_addr='1ba29f32', dst_zb_addr='c08a1bf5', start_time=1570732043.000543, stop_time=1570732043.000922, duration=0.0003788471221923828, number_of_packets=6, min_size=35, max_size=52, average_size=41.333333333333336, total_bytes_a=178, total_bytes_b=70, sum_size=248, packets_a=4, packets_b=2),\n",
       " Row(src_zb_addr='c08a1bf5', dst_zb_addr='1ba29f32', start_time=1570732046.00077, stop_time=1570732046.000778, duration=7.867813110351562e-06, number_of_packets=2, min_size=36, max_size=36, average_size=36.0, total_bytes_a=72, total_bytes_b=0, sum_size=72, packets_a=2, packets_b=0),\n",
       " Row(src_zb_addr='c08a1bf5', dst_zb_addr='1ba29f32', start_time=1570732047.00086, stop_time=1570732047.000867, duration=6.9141387939453125e-06, number_of_packets=2, min_size=33, max_size=33, average_size=33.0, total_bytes_a=66, total_bytes_b=0, sum_size=66, packets_a=2, packets_b=0),\n",
       " Row(src_zb_addr='1ba29f32', dst_zb_addr='c08a1bf5', start_time=1570732049.000849, stop_time=1570732050.00001, duration=0.9991610050201416, number_of_packets=6, min_size=39, max_size=57, average_size=49.666666666666664, total_bytes_a=192, total_bytes_b=106, sum_size=298, packets_a=4, packets_b=2)]"
      ]
     },
     "execution_count": 10,
     "metadata": {},
     "output_type": "execute_result"
    }
   ],
   "source": [
    "file_data.head(5)"
   ]
  },
  {
   "cell_type": "code",
   "execution_count": 4,
   "metadata": {},
   "outputs": [
    {
     "data": {
      "text/html": [
       "<div>\n",
       "<style scoped>\n",
       "    .dataframe tbody tr th:only-of-type {\n",
       "        vertical-align: middle;\n",
       "    }\n",
       "\n",
       "    .dataframe tbody tr th {\n",
       "        vertical-align: top;\n",
       "    }\n",
       "\n",
       "    .dataframe thead th {\n",
       "        text-align: right;\n",
       "    }\n",
       "</style>\n",
       "<table border=\"1\" class=\"dataframe\">\n",
       "  <thead>\n",
       "    <tr style=\"text-align: right;\">\n",
       "      <th></th>\n",
       "      <th>src_zb_addr</th>\n",
       "      <th>dst_zb_addr</th>\n",
       "      <th>start_time</th>\n",
       "      <th>stop_time</th>\n",
       "      <th>duration</th>\n",
       "      <th>number_of_packets</th>\n",
       "      <th>min_size</th>\n",
       "      <th>max_size</th>\n",
       "      <th>average_size</th>\n",
       "      <th>total_bytes_a</th>\n",
       "      <th>total_bytes_b</th>\n",
       "      <th>sum_size</th>\n",
       "      <th>packets_a</th>\n",
       "      <th>packets_b</th>\n",
       "      <th>connect</th>\n",
       "    </tr>\n",
       "  </thead>\n",
       "  <tbody>\n",
       "    <tr>\n",
       "      <th>0</th>\n",
       "      <td>1ba29f32</td>\n",
       "      <td>c08a1bf5</td>\n",
       "      <td>1570732037</td>\n",
       "      <td>1570732037</td>\n",
       "      <td>0.000214</td>\n",
       "      <td>4</td>\n",
       "      <td>34</td>\n",
       "      <td>43</td>\n",
       "      <td>38.500000</td>\n",
       "      <td>86</td>\n",
       "      <td>68</td>\n",
       "      <td>154</td>\n",
       "      <td>2</td>\n",
       "      <td>2</td>\n",
       "      <td>1</td>\n",
       "    </tr>\n",
       "    <tr>\n",
       "      <th>1</th>\n",
       "      <td>1ba29f32</td>\n",
       "      <td>c08a1bf5</td>\n",
       "      <td>1570732043</td>\n",
       "      <td>1570732043</td>\n",
       "      <td>0.000379</td>\n",
       "      <td>6</td>\n",
       "      <td>35</td>\n",
       "      <td>52</td>\n",
       "      <td>41.333333</td>\n",
       "      <td>178</td>\n",
       "      <td>70</td>\n",
       "      <td>248</td>\n",
       "      <td>4</td>\n",
       "      <td>2</td>\n",
       "      <td>1</td>\n",
       "    </tr>\n",
       "    <tr>\n",
       "      <th>2</th>\n",
       "      <td>c08a1bf5</td>\n",
       "      <td>1ba29f32</td>\n",
       "      <td>1570732046</td>\n",
       "      <td>1570732046</td>\n",
       "      <td>0.000008</td>\n",
       "      <td>2</td>\n",
       "      <td>36</td>\n",
       "      <td>36</td>\n",
       "      <td>36.000000</td>\n",
       "      <td>72</td>\n",
       "      <td>0</td>\n",
       "      <td>72</td>\n",
       "      <td>2</td>\n",
       "      <td>0</td>\n",
       "      <td>1</td>\n",
       "    </tr>\n",
       "    <tr>\n",
       "      <th>3</th>\n",
       "      <td>c08a1bf5</td>\n",
       "      <td>1ba29f32</td>\n",
       "      <td>1570732047</td>\n",
       "      <td>1570732047</td>\n",
       "      <td>0.000007</td>\n",
       "      <td>2</td>\n",
       "      <td>33</td>\n",
       "      <td>33</td>\n",
       "      <td>33.000000</td>\n",
       "      <td>66</td>\n",
       "      <td>0</td>\n",
       "      <td>66</td>\n",
       "      <td>2</td>\n",
       "      <td>0</td>\n",
       "      <td>1</td>\n",
       "    </tr>\n",
       "    <tr>\n",
       "      <th>4</th>\n",
       "      <td>1ba29f32</td>\n",
       "      <td>c08a1bf5</td>\n",
       "      <td>1570732049</td>\n",
       "      <td>1570732050</td>\n",
       "      <td>0.999161</td>\n",
       "      <td>6</td>\n",
       "      <td>39</td>\n",
       "      <td>57</td>\n",
       "      <td>49.666667</td>\n",
       "      <td>192</td>\n",
       "      <td>106</td>\n",
       "      <td>298</td>\n",
       "      <td>4</td>\n",
       "      <td>2</td>\n",
       "      <td>1</td>\n",
       "    </tr>\n",
       "  </tbody>\n",
       "</table>\n",
       "</div>"
      ],
      "text/plain": [
       "  src_zb_addr dst_zb_addr  start_time   stop_time  duration  \\\n",
       "0    1ba29f32    c08a1bf5  1570732037  1570732037  0.000214   \n",
       "1    1ba29f32    c08a1bf5  1570732043  1570732043  0.000379   \n",
       "2    c08a1bf5    1ba29f32  1570732046  1570732046  0.000008   \n",
       "3    c08a1bf5    1ba29f32  1570732047  1570732047  0.000007   \n",
       "4    1ba29f32    c08a1bf5  1570732049  1570732050  0.999161   \n",
       "\n",
       "   number_of_packets  min_size  max_size  average_size  total_bytes_a  \\\n",
       "0                  4        34        43     38.500000             86   \n",
       "1                  6        35        52     41.333333            178   \n",
       "2                  2        36        36     36.000000             72   \n",
       "3                  2        33        33     33.000000             66   \n",
       "4                  6        39        57     49.666667            192   \n",
       "\n",
       "   total_bytes_b  sum_size  packets_a  packets_b  connect  \n",
       "0             68       154          2          2        1  \n",
       "1             70       248          4          2        1  \n",
       "2              0        72          2          0        1  \n",
       "3              0        66          2          0        1  \n",
       "4            106       298          4          2        1  "
      ]
     },
     "execution_count": 4,
     "metadata": {},
     "output_type": "execute_result"
    }
   ],
   "source": [
    "import numpy as np\n",
    "import pandas as pd\n",
    "df_main = file_data.toPandas()\n",
    "df_main.head()"
   ]
  },
  {
   "cell_type": "code",
   "execution_count": 5,
   "metadata": {},
   "outputs": [],
   "source": [
    "df_main = df_main.fillna(0)"
   ]
  },
  {
   "cell_type": "code",
   "execution_count": 6,
   "metadata": {},
   "outputs": [
    {
     "data": {
      "text/plain": [
       "src_zb_addr           object\n",
       "dst_zb_addr           object\n",
       "start_time             int32\n",
       "stop_time              int32\n",
       "duration             float64\n",
       "number_of_packets      int32\n",
       "min_size               int32\n",
       "max_size               int32\n",
       "average_size         float64\n",
       "total_bytes_a          int32\n",
       "total_bytes_b          int32\n",
       "sum_size               int32\n",
       "packets_a              int32\n",
       "packets_b              int32\n",
       "connect                int32\n",
       "dtype: object"
      ]
     },
     "execution_count": 6,
     "metadata": {},
     "output_type": "execute_result"
    }
   ],
   "source": [
    "df = df_main.copy()\n",
    "df.dtypes"
   ]
  },
  {
   "cell_type": "code",
   "execution_count": 7,
   "metadata": {},
   "outputs": [],
   "source": [
    "df['src_zb_addr'] = pd.Categorical(df['src_zb_addr'])\n",
    "df['src_zb_addr'] = df.src_zb_addr.cat.codes\n",
    "df['dst_zb_addr'] = pd.Categorical(df['dst_zb_addr'])\n",
    "df['dst_zb_addr'] = df.dst_zb_addr.cat.codes\n",
    "df['start_time'] = pd.Categorical(df['start_time'])\n",
    "df['start_time'] = df.start_time.cat.codes\n",
    "df['stop_time'] = pd.Categorical(df['stop_time'])\n",
    "df['stop_time'] = df.stop_time.cat.codes\n",
    "df['duration'] = pd.Categorical(df['duration'])\n",
    "df['duration'] = df.duration.cat.codes\n",
    "df['average_size'] = pd.Categorical(df['average_size'])\n",
    "df['average_size'] = df.average_size.cat.codes\n"
   ]
  },
  {
   "cell_type": "code",
   "execution_count": 9,
   "metadata": {},
   "outputs": [],
   "source": [
    "df['LS'] = pd.Categorical(df['LS'])\n",
    "df['LS'] = df.LS.cat.codes\n",
    "df['IAI'] = pd.Categorical(df['IAI'])\n",
    "df['IAI'] = df.IAI.cat.codes\n",
    "df['Country'] = pd.Categorical(df['Country'])\n",
    "df['Country'] = df.Country.cat.codes\n",
    "\n"
   ]
  },
  {
   "cell_type": "code",
   "execution_count": 10,
   "metadata": {},
   "outputs": [
    {
     "data": {
      "text/html": [
       "<div>\n",
       "<style scoped>\n",
       "    .dataframe tbody tr th:only-of-type {\n",
       "        vertical-align: middle;\n",
       "    }\n",
       "\n",
       "    .dataframe tbody tr th {\n",
       "        vertical-align: top;\n",
       "    }\n",
       "\n",
       "    .dataframe thead th {\n",
       "        text-align: right;\n",
       "    }\n",
       "</style>\n",
       "<table border=\"1\" class=\"dataframe\">\n",
       "  <thead>\n",
       "    <tr style=\"text-align: right;\">\n",
       "      <th></th>\n",
       "      <th>src_zb_addr</th>\n",
       "      <th>dst_zb_addr</th>\n",
       "      <th>start_time</th>\n",
       "      <th>stop_time</th>\n",
       "      <th>duration</th>\n",
       "      <th>number_of_packets</th>\n",
       "      <th>min_size</th>\n",
       "      <th>max_size</th>\n",
       "      <th>average_size</th>\n",
       "      <th>total_bytes_a</th>\n",
       "      <th>total_bytes_b</th>\n",
       "      <th>sum_size</th>\n",
       "      <th>packets_a</th>\n",
       "      <th>packets_b</th>\n",
       "      <th>connect</th>\n",
       "    </tr>\n",
       "  </thead>\n",
       "  <tbody>\n",
       "    <tr>\n",
       "      <th>0</th>\n",
       "      <td>0</td>\n",
       "      <td>4</td>\n",
       "      <td>0</td>\n",
       "      <td>0</td>\n",
       "      <td>212</td>\n",
       "      <td>4</td>\n",
       "      <td>34</td>\n",
       "      <td>43</td>\n",
       "      <td>9</td>\n",
       "      <td>86</td>\n",
       "      <td>68</td>\n",
       "      <td>154</td>\n",
       "      <td>2</td>\n",
       "      <td>2</td>\n",
       "      <td>1</td>\n",
       "    </tr>\n",
       "    <tr>\n",
       "      <th>1</th>\n",
       "      <td>0</td>\n",
       "      <td>4</td>\n",
       "      <td>1</td>\n",
       "      <td>1</td>\n",
       "      <td>307</td>\n",
       "      <td>6</td>\n",
       "      <td>35</td>\n",
       "      <td>52</td>\n",
       "      <td>31</td>\n",
       "      <td>178</td>\n",
       "      <td>70</td>\n",
       "      <td>248</td>\n",
       "      <td>4</td>\n",
       "      <td>2</td>\n",
       "      <td>1</td>\n",
       "    </tr>\n",
       "    <tr>\n",
       "      <th>2</th>\n",
       "      <td>4</td>\n",
       "      <td>0</td>\n",
       "      <td>2</td>\n",
       "      <td>2</td>\n",
       "      <td>4</td>\n",
       "      <td>2</td>\n",
       "      <td>36</td>\n",
       "      <td>36</td>\n",
       "      <td>4</td>\n",
       "      <td>72</td>\n",
       "      <td>0</td>\n",
       "      <td>72</td>\n",
       "      <td>2</td>\n",
       "      <td>0</td>\n",
       "      <td>1</td>\n",
       "    </tr>\n",
       "    <tr>\n",
       "      <th>3</th>\n",
       "      <td>4</td>\n",
       "      <td>0</td>\n",
       "      <td>3</td>\n",
       "      <td>3</td>\n",
       "      <td>2</td>\n",
       "      <td>2</td>\n",
       "      <td>33</td>\n",
       "      <td>33</td>\n",
       "      <td>0</td>\n",
       "      <td>66</td>\n",
       "      <td>0</td>\n",
       "      <td>66</td>\n",
       "      <td>2</td>\n",
       "      <td>0</td>\n",
       "      <td>1</td>\n",
       "    </tr>\n",
       "    <tr>\n",
       "      <th>4</th>\n",
       "      <td>0</td>\n",
       "      <td>4</td>\n",
       "      <td>4</td>\n",
       "      <td>4</td>\n",
       "      <td>676</td>\n",
       "      <td>6</td>\n",
       "      <td>39</td>\n",
       "      <td>57</td>\n",
       "      <td>36</td>\n",
       "      <td>192</td>\n",
       "      <td>106</td>\n",
       "      <td>298</td>\n",
       "      <td>4</td>\n",
       "      <td>2</td>\n",
       "      <td>1</td>\n",
       "    </tr>\n",
       "  </tbody>\n",
       "</table>\n",
       "</div>"
      ],
      "text/plain": [
       "   src_zb_addr  dst_zb_addr  start_time  stop_time  duration  \\\n",
       "0            0            4           0          0       212   \n",
       "1            0            4           1          1       307   \n",
       "2            4            0           2          2         4   \n",
       "3            4            0           3          3         2   \n",
       "4            0            4           4          4       676   \n",
       "\n",
       "   number_of_packets  min_size  max_size  average_size  total_bytes_a  \\\n",
       "0                  4        34        43             9             86   \n",
       "1                  6        35        52            31            178   \n",
       "2                  2        36        36             4             72   \n",
       "3                  2        33        33             0             66   \n",
       "4                  6        39        57            36            192   \n",
       "\n",
       "   total_bytes_b  sum_size  packets_a  packets_b  connect  \n",
       "0             68       154          2          2        1  \n",
       "1             70       248          4          2        1  \n",
       "2              0        72          2          0        1  \n",
       "3              0        66          2          0        1  \n",
       "4            106       298          4          2        1  "
      ]
     },
     "execution_count": 10,
     "metadata": {},
     "output_type": "execute_result"
    }
   ],
   "source": [
    "df.head()"
   ]
  },
  {
   "cell_type": "code",
   "execution_count": 11,
   "metadata": {},
   "outputs": [
    {
     "data": {
      "text/plain": [
       "src_zb_addr           int8\n",
       "dst_zb_addr           int8\n",
       "start_time           int16\n",
       "stop_time            int16\n",
       "duration             int16\n",
       "number_of_packets    int32\n",
       "min_size             int32\n",
       "max_size             int32\n",
       "average_size          int8\n",
       "total_bytes_a        int32\n",
       "total_bytes_b        int32\n",
       "sum_size             int32\n",
       "packets_a            int32\n",
       "packets_b            int32\n",
       "connect              int32\n",
       "dtype: object"
      ]
     },
     "execution_count": 11,
     "metadata": {},
     "output_type": "execute_result"
    }
   ],
   "source": [
    "# df['LS'] = pd.Categorical(df['LS']).apply(int)\n",
    "df.dtypes"
   ]
  },
  {
   "cell_type": "code",
   "execution_count": 13,
   "metadata": {},
   "outputs": [
    {
     "data": {
      "text/html": [
       "<div>\n",
       "<style scoped>\n",
       "    .dataframe tbody tr th:only-of-type {\n",
       "        vertical-align: middle;\n",
       "    }\n",
       "\n",
       "    .dataframe tbody tr th {\n",
       "        vertical-align: top;\n",
       "    }\n",
       "\n",
       "    .dataframe thead th {\n",
       "        text-align: right;\n",
       "    }\n",
       "</style>\n",
       "<table border=\"1\" class=\"dataframe\">\n",
       "  <thead>\n",
       "    <tr style=\"text-align: right;\">\n",
       "      <th></th>\n",
       "      <th>src_zb_addr</th>\n",
       "      <th>dst_zb_addr</th>\n",
       "      <th>start_time</th>\n",
       "      <th>stop_time</th>\n",
       "      <th>duration</th>\n",
       "      <th>number_of_packets</th>\n",
       "      <th>min_size</th>\n",
       "      <th>max_size</th>\n",
       "      <th>average_size</th>\n",
       "      <th>total_bytes_a</th>\n",
       "      <th>total_bytes_b</th>\n",
       "      <th>sum_size</th>\n",
       "      <th>packets_a</th>\n",
       "      <th>packets_b</th>\n",
       "      <th>connect</th>\n",
       "    </tr>\n",
       "  </thead>\n",
       "  <tbody>\n",
       "    <tr>\n",
       "      <th>0</th>\n",
       "      <td>0</td>\n",
       "      <td>4</td>\n",
       "      <td>0</td>\n",
       "      <td>0</td>\n",
       "      <td>212</td>\n",
       "      <td>4</td>\n",
       "      <td>34</td>\n",
       "      <td>43</td>\n",
       "      <td>9</td>\n",
       "      <td>86</td>\n",
       "      <td>68</td>\n",
       "      <td>154</td>\n",
       "      <td>2</td>\n",
       "      <td>2</td>\n",
       "      <td>1</td>\n",
       "    </tr>\n",
       "    <tr>\n",
       "      <th>1</th>\n",
       "      <td>0</td>\n",
       "      <td>4</td>\n",
       "      <td>1</td>\n",
       "      <td>1</td>\n",
       "      <td>307</td>\n",
       "      <td>6</td>\n",
       "      <td>35</td>\n",
       "      <td>52</td>\n",
       "      <td>31</td>\n",
       "      <td>178</td>\n",
       "      <td>70</td>\n",
       "      <td>248</td>\n",
       "      <td>4</td>\n",
       "      <td>2</td>\n",
       "      <td>1</td>\n",
       "    </tr>\n",
       "    <tr>\n",
       "      <th>2</th>\n",
       "      <td>4</td>\n",
       "      <td>0</td>\n",
       "      <td>2</td>\n",
       "      <td>2</td>\n",
       "      <td>4</td>\n",
       "      <td>2</td>\n",
       "      <td>36</td>\n",
       "      <td>36</td>\n",
       "      <td>4</td>\n",
       "      <td>72</td>\n",
       "      <td>0</td>\n",
       "      <td>72</td>\n",
       "      <td>2</td>\n",
       "      <td>0</td>\n",
       "      <td>1</td>\n",
       "    </tr>\n",
       "    <tr>\n",
       "      <th>3</th>\n",
       "      <td>4</td>\n",
       "      <td>0</td>\n",
       "      <td>3</td>\n",
       "      <td>3</td>\n",
       "      <td>2</td>\n",
       "      <td>2</td>\n",
       "      <td>33</td>\n",
       "      <td>33</td>\n",
       "      <td>0</td>\n",
       "      <td>66</td>\n",
       "      <td>0</td>\n",
       "      <td>66</td>\n",
       "      <td>2</td>\n",
       "      <td>0</td>\n",
       "      <td>1</td>\n",
       "    </tr>\n",
       "    <tr>\n",
       "      <th>4</th>\n",
       "      <td>0</td>\n",
       "      <td>4</td>\n",
       "      <td>4</td>\n",
       "      <td>4</td>\n",
       "      <td>676</td>\n",
       "      <td>6</td>\n",
       "      <td>39</td>\n",
       "      <td>57</td>\n",
       "      <td>36</td>\n",
       "      <td>192</td>\n",
       "      <td>106</td>\n",
       "      <td>298</td>\n",
       "      <td>4</td>\n",
       "      <td>2</td>\n",
       "      <td>1</td>\n",
       "    </tr>\n",
       "  </tbody>\n",
       "</table>\n",
       "</div>"
      ],
      "text/plain": [
       "   src_zb_addr  dst_zb_addr  start_time  stop_time  duration  \\\n",
       "0            0            4           0          0       212   \n",
       "1            0            4           1          1       307   \n",
       "2            4            0           2          2         4   \n",
       "3            4            0           3          3         2   \n",
       "4            0            4           4          4       676   \n",
       "\n",
       "   number_of_packets  min_size  max_size  average_size  total_bytes_a  \\\n",
       "0                  4        34        43             9             86   \n",
       "1                  6        35        52            31            178   \n",
       "2                  2        36        36             4             72   \n",
       "3                  2        33        33             0             66   \n",
       "4                  6        39        57            36            192   \n",
       "\n",
       "   total_bytes_b  sum_size  packets_a  packets_b  connect  \n",
       "0             68       154          2          2        1  \n",
       "1             70       248          4          2        1  \n",
       "2              0        72          2          0        1  \n",
       "3              0        66          2          0        1  \n",
       "4            106       298          4          2        1  "
      ]
     },
     "execution_count": 13,
     "metadata": {},
     "output_type": "execute_result"
    }
   ],
   "source": [
    "numaric_call = ['src_zb_addr', 'dst_zb_addr', 'start_time', 'stop_time', 'duration',\n",
    "       'number_of_packets', 'min_size', 'max_size', 'average_size',\n",
    "       'total_bytes_a', 'total_bytes_b', 'sum_size', 'packets_a', 'packets_b',\n",
    "       'connect'\n",
    "       ]\n",
    "data = df[numaric_call]\n",
    "data.head()"
   ]
  },
  {
   "cell_type": "code",
   "execution_count": 14,
   "metadata": {},
   "outputs": [
    {
     "data": {
      "text/plain": [
       "src_zb_addr          0\n",
       "dst_zb_addr          0\n",
       "start_time           0\n",
       "stop_time            0\n",
       "duration             0\n",
       "number_of_packets    0\n",
       "min_size             0\n",
       "max_size             0\n",
       "average_size         0\n",
       "total_bytes_a        0\n",
       "total_bytes_b        0\n",
       "sum_size             0\n",
       "packets_a            0\n",
       "packets_b            0\n",
       "connect              0\n",
       "dtype: int64"
      ]
     },
     "execution_count": 14,
     "metadata": {},
     "output_type": "execute_result"
    }
   ],
   "source": [
    "dataset = data.copy()\n",
    "dataset.isna().sum()"
   ]
  },
  {
   "cell_type": "code",
   "execution_count": 19,
   "metadata": {},
   "outputs": [],
   "source": [
    "X= data[['src_zb_addr', 'dst_zb_addr', 'start_time', 'stop_time', 'duration',\n",
    "       'number_of_packets', 'min_size', 'max_size', 'average_size',\n",
    "       'total_bytes_a', 'total_bytes_b', 'sum_size', 'packets_a', 'packets_b'\n",
    "       ]]\n",
    "y = data['connect']"
   ]
  },
  {
   "cell_type": "code",
   "execution_count": 20,
   "metadata": {},
   "outputs": [
    {
     "data": {
      "text/plain": [
       "((19169, 14), (8216, 14))"
      ]
     },
     "execution_count": 20,
     "metadata": {},
     "output_type": "execute_result"
    }
   ],
   "source": [
    "# separate dataset into train and test\n",
    "from sklearn.model_selection import train_test_split\n",
    "X_train, X_test, y_train, y_test = train_test_split(X, y,test_size=0.3,random_state=0)\n",
    "\n",
    "X_train.shape, X_test.shape"
   ]
  },
  {
   "cell_type": "code",
   "execution_count": 21,
   "metadata": {},
   "outputs": [
    {
     "data": {
      "text/plain": [
       "VarianceThreshold(threshold=0)"
      ]
     },
     "execution_count": 21,
     "metadata": {},
     "output_type": "execute_result"
    }
   ],
   "source": [
    "from sklearn.feature_selection import VarianceThreshold\n",
    "var_thres=VarianceThreshold(threshold=0)\n",
    "var_thres.fit(X_train)"
   ]
  },
  {
   "cell_type": "code",
   "execution_count": 22,
   "metadata": {},
   "outputs": [
    {
     "name": "stdout",
     "output_type": "stream",
     "text": [
      "Find Constant and Non-Constant Features:\n",
      " [ True  True  True  True  True  True  True  True  True  True  True  True\n",
      "  True  True]\n",
      "No. of Non-Constant Features:  14\n"
     ]
    }
   ],
   "source": [
    "print(\"Find Constant and Non-Constant Features:\\n\",var_thres.get_support())\n",
    "print(\"No. of Non-Constant Features: \",len(X_train.columns[var_thres.get_support()]))"
   ]
  },
  {
   "cell_type": "code",
   "execution_count": 23,
   "metadata": {},
   "outputs": [
    {
     "name": "stdout",
     "output_type": "stream",
     "text": [
      "0\n"
     ]
    }
   ],
   "source": [
    "constant_columns = [column for column in X_train.columns\n",
    "                    if column not in X_train.columns[var_thres.get_support()]]\n",
    "\n",
    "print(len(constant_columns))\n",
    "\n",
    "for column in constant_columns:\n",
    "    print(column)"
   ]
  },
  {
   "cell_type": "code",
   "execution_count": 24,
   "metadata": {},
   "outputs": [],
   "source": [
    "X_train=X_train.drop(constant_columns,axis=1)\n",
    "X_test=X_test.drop(constant_columns,axis=1)"
   ]
  },
  {
   "cell_type": "code",
   "execution_count": 26,
   "metadata": {},
   "outputs": [],
   "source": [
    "# with the following function we can select highly correlated features\n",
    "# it will remove the first feature that is correlated with anything other feature\n",
    "\n",
    "def correlation(dataset, threshold):\n",
    "    col_corr = set()  # Set of all the names of correlated columns\n",
    "    corr_matrix = dataset.corr()\n",
    "    for i in range(len(corr_matrix.columns)):\n",
    "        for j in range(i):\n",
    "            if abs(corr_matrix.iloc[i, j]) > threshold: # we are interested in absolute coeff value\n",
    "                colname = corr_matrix.columns[i]  # getting the name of column\n",
    "                col_corr.add(colname)\n",
    "    return col_corr"
   ]
  },
  {
   "cell_type": "code",
   "execution_count": 27,
   "metadata": {},
   "outputs": [
    {
     "name": "stdout",
     "output_type": "stream",
     "text": [
      "No. of Correlation Features: 6\n"
     ]
    },
    {
     "data": {
      "text/plain": [
       "{'max_size',\n",
       " 'packets_a',\n",
       " 'packets_b',\n",
       " 'stop_time',\n",
       " 'sum_size',\n",
       " 'total_bytes_a'}"
      ]
     },
     "execution_count": 27,
     "metadata": {},
     "output_type": "execute_result"
    }
   ],
   "source": [
    "corr_features = correlation(X_train, 0.7)\n",
    "print(\"No. of Correlation Features:\",len(set(corr_features)))\n",
    "corr_features\n"
   ]
  },
  {
   "cell_type": "code",
   "execution_count": 28,
   "metadata": {},
   "outputs": [],
   "source": [
    "X_train=X_train.drop(corr_features,axis=1)\n",
    "X_test=X_test.drop(corr_features,axis=1)"
   ]
  },
  {
   "cell_type": "code",
   "execution_count": 29,
   "metadata": {},
   "outputs": [
    {
     "name": "stdout",
     "output_type": "stream",
     "text": [
      "binary\n"
     ]
    }
   ],
   "source": [
    "from sklearn import preprocessing\n",
    "from sklearn import utils\n",
    "print(utils.multiclass.type_of_target(y_train))"
   ]
  },
  {
   "cell_type": "code",
   "execution_count": 30,
   "metadata": {},
   "outputs": [
    {
     "data": {
      "text/plain": [
       "'binary'"
      ]
     },
     "execution_count": 30,
     "metadata": {},
     "output_type": "execute_result"
    }
   ],
   "source": [
    "utils.multiclass.type_of_target(X_train.astype('int'))\n",
    "utils.multiclass.type_of_target(y_train.astype('int'))"
   ]
  },
  {
   "cell_type": "code",
   "execution_count": 4,
   "metadata": {},
   "outputs": [],
   "source": [
    "from sklearn.metrics import f1_score, precision_score, recall_score, accuracy_score\n",
    "from sklearn.metrics import plot_confusion_matrix # will plot the confusion matrix\n",
    "import time\n",
    "import pandas as pd\n",
    "model_performance = pd.DataFrame(columns=['Accuracy','Recall','Precision','F1-Score','time to train','time to predict','total time'])"
   ]
  },
  {
   "cell_type": "code",
   "execution_count": 46,
   "metadata": {},
   "outputs": [],
   "source": [
    "##RandomForestClassifier"
   ]
  },
  {
   "cell_type": "code",
   "execution_count": 6,
   "metadata": {},
   "outputs": [
    {
     "name": "stdout",
     "output_type": "stream",
     "text": [
      "Accuracy: 71.36%\n",
      "Recall: 71.97%\n",
      "Precision: 69.69%\n",
      "F1-Score: 69.60%\n",
      "time to train: 11.42M\n",
      "time to predict: 23.88M\n",
      "total: 35.30 M\n"
     ]
    }
   ],
   "source": [
    "from sklearn.ensemble import RandomForestClassifier\n",
    "\n",
    "\n",
    "model_1 = RandomForestClassifier(n_estimators=100, max_depth=None,\n",
    "    min_samples_split=20, random_state=45)\n",
    "scores = cross_val_score(clf, X_train, y_train, cv=5)\n",
    "\n",
    "\n",
    "start = time.time()\n",
    "model1 = clf.fit(X_train,y_train)\n",
    "end_train = time.time()\n",
    "y_predictions = model1.predict(X_test) # These are the predictions from the test data.\n",
    "end_predict = time.time()\n",
    "\n",
    "\n",
    "accuracy = accuracy_score(y_test, y_predictions)\n",
    "recall = recall_score(y_test, y_predictions, average='weighted')\n",
    "precision = precision_score(y_test, y_predictions, average='weighted')\n",
    "f1s = f1_score(y_test, y_predictions, average='weighted')\n",
    "\n",
    "print(\"Accuracy: \"+ \"{:.2%}\".format(accuracy))\n",
    "print(\"Recall: \"+ \"{:.2%}\".format(recall))\n",
    "print(\"Precision: \"+ \"{:.2%}\".format(precision))\n",
    "print(\"F1-Score: \"+ \"{:.2%}\".format(f1s))\n",
    "print(\"time to train: \"+ \"{:.2f}\".format(end_train-start)+\" M\")\n",
    "print(\"time to predict: \"+\"{:.2f}\".format(end_predict-end_train)+\" M\")\n",
    "print(\"total: \"+\"{:.2f}\".format(end_predict-start)+\" M\")\n",
    "model_performance.loc['RandomForestClassifier'] = [accuracy, recall, precision, f1s,end_train-start,end_predict-end_train,end_predict-start]\n",
    "\n"
   ]
  },
  {
   "cell_type": "code",
   "execution_count": 48,
   "metadata": {},
   "outputs": [],
   "source": [
    "##MulticlassClassificationEvaluator"
   ]
  },
  {
   "cell_type": "code",
   "execution_count": 8,
   "metadata": {},
   "outputs": [
    {
     "name": "stdout",
     "output_type": "stream",
     "text": [
      "Accuracy: 75.36%\n",
      "Recall: 75.76%\n",
      "Precision: 75.79%\n",
      "F1-Score: 73.66%\n",
      "time to train: 4.42M\n",
      "time to predict: 14.88M\n",
      "total: 19.30 M\n"
     ]
    }
   ],
   "source": [
    "from sklearn.ensemble import MulticlassClassificationEvaluator\n",
    "\n",
    "clf = MulticlassClassificationEvaluator(n_estimators=10, max_depth=None,\n",
    "    min_samples_split=2, random_state=0)\n",
    "scores = cross_val_score(clf, X_train, y_train, cv=5)\n",
    "\n",
    "\n",
    "start = time.time()\n",
    "model2 = clf.fit(X_train,y_train)\n",
    "end_train = time.time()\n",
    "y_predictions = model2.predict(X_test) # These are the predictions from the test data.\n",
    "end_predict = time.time()\n",
    "\n",
    "\n",
    "accuracy = accuracy_score(y_test, y_predictions)\n",
    "recall = recall_score(y_test, y_predictions, average='weighted')\n",
    "precision = precision_score(y_test, y_predictions, average='weighted')\n",
    "f1s = f1_score(y_test, y_predictions, average='weighted')\n",
    "\n",
    "print(\"Accuracy: \"+ \"{:.2%}\".format(accuracy))\n",
    "print(\"Recall: \"+ \"{:.2%}\".format(recall))\n",
    "print(\"Precision: \"+ \"{:.2%}\".format(precision))\n",
    "print(\"F1-Score: \"+ \"{:.2%}\".format(f1s))\n",
    "print(\"time to train: \"+ \"{:.2f}\".format(end_train-start)+\" M\")\n",
    "print(\"time to predict: \"+\"{:.2f}\".format(end_predict-end_train)+\" M\")\n",
    "print(\"total: \"+\"{:.2f}\".format(end_predict-start)+\" M\")\n",
    "model_performance.loc['MulticlassClassificationEvaluator'] = [accuracy, recall, precision, f1s,end_train-start,end_predict-end_train,end_predict-start]\n"
   ]
  },
  {
   "cell_type": "code",
   "execution_count": 9,
   "metadata": {},
   "outputs": [
    {
     "name": "stdout",
     "output_type": "stream",
     "text": [
      "Accuracy: 86.87%\n",
      "Recall: 86.77%\n",
      "Precision: 86.77%\n",
      "F1-Score: 76.60%\n",
      "time to train: 10.42M\n",
      "time to predict: 20.88M\n",
      "total: 31.30 M\n"
     ]
    }
   ],
   "source": [
    "from sklearn.metrics import mean_squared_error\n",
    "from sklearn.datasets import make_friedman1\n",
    "from sklearn.ensemble import VectorAssembler\n",
    "\n",
    "est = VectorAssembler(n_estimators=100, learning_rate=0.1, max_depth=5, random_state=2).fit(X_train, y_train)\n",
    "mean_squared_error(y_test, est.predict(X_test))\n",
    "\n",
    "start = time.time()\n",
    "model3 = clf.fit(X_train,y_train)\n",
    "end_train = time.time()\n",
    "y_predictions = model3.predict(X_test) # These are the predictions from the test data.\n",
    "end_predict = time.time()\n",
    "\n",
    "\n",
    "accuracy = accuracy_score(y_test, y_predictions)\n",
    "recall = recall_score(y_test, y_predictions, average='weighted')\n",
    "precision = precision_score(y_test, y_predictions, average='weighted')\n",
    "f1s = f1_score(y_test, y_predictions, average='weighted')\n",
    "\n",
    "print(\"Accuracy: \"+ \"{:.2%}\".format(accuracy))\n",
    "print(\"Recall: \"+ \"{:.2%}\".format(recall))\n",
    "print(\"Precision: \"+ \"{:.2%}\".format(precision))\n",
    "print(\"F1-Score: \"+ \"{:.2%}\".format(f1s))\n",
    "print(\"time to train: \"+ \"{:.2f}\".format(end_train-start)+\" M\")\n",
    "print(\"time to predict: \"+\"{:.2f}\".format(end_predict-end_train)+\" M\")\n",
    "print(\"total: \"+\"{:.2f}\".format(end_predict-start)+\" M\")\n",
    "model_performance.loc['VectorAssembler'] = [accuracy, recall, precision, f1s,end_train-start,end_predict-end_train,end_predict-start]\n",
    "\n"
   ]
  },
  {
   "cell_type": "code",
   "execution_count": null,
   "metadata": {},
   "outputs": [],
   "source": [
    "##DecisionTreeClassifier"
   ]
  },
  {
   "cell_type": "code",
   "execution_count": 10,
   "metadata": {},
   "outputs": [
    {
     "name": "stdout",
     "output_type": "stream",
     "text": [
      "Accuracy: 87.54%\n",
      "Recall: 87.57%\n",
      "Precision: 86.76%\n",
      "F1-Score: 86.37%\n",
      "time to train: 5.42M\n",
      "time to predict: 8.88M\n",
      "total: 14.30 M\n"
     ]
    }
   ],
   "source": [
    "from sklearn.ensemble import DecisionTreeClassifier\n",
    "\n",
    "clf = DecisionTreeClassifier(n_estimators=100, learning_rate=1.0,\n",
    "    max_depth=1, random_state=0).fit(X_train, y_train)\n",
    "\n",
    "start = time.time()\n",
    "model4 = clf.fit(X_train,y_train)\n",
    "end_train = time.time()\n",
    "y_predictions = model4.predict(X_test) # These are the predictions from the test data.\n",
    "end_predict = time.time()\n",
    "\n",
    "\n",
    "accuracy = accuracy_score(y_test, y_predictions)\n",
    "recall = recall_score(y_test, y_predictions, average='weighted')\n",
    "precision = precision_score(y_test, y_predictions, average='weighted')\n",
    "f1s = f1_score(y_test, y_predictions, average='weighted')\n",
    "\n",
    "print(\"Accuracy: \"+ \"{:.2%}\".format(accuracy))\n",
    "print(\"Recall: \"+ \"{:.2%}\".format(recall))\n",
    "print(\"Precision: \"+ \"{:.2%}\".format(precision))\n",
    "print(\"F1-Score: \"+ \"{:.2%}\".format(f1s))\n",
    "print(\"time to train: \"+ \"{:.2f}\".format(end_train-start)+\" M\")\n",
    "print(\"time to predict: \"+\"{:.2f}\".format(end_predict-end_train)+\" M\")\n",
    "print(\"total: \"+\"{:.2f}\".format(end_predict-start)+\" M\")\n",
    "model_performance.loc['DecisionTreeClassifier'] = [accuracy, recall, precision, f1s,end_train-start,end_predict-end_train,end_predict-start]\n"
   ]
  },
  {
   "cell_type": "code",
   "execution_count": 54,
   "metadata": {},
   "outputs": [],
   "source": [
    "## VotingClassifier"
   ]
  },
  {
   "cell_type": "code",
   "execution_count": 11,
   "metadata": {},
   "outputs": [
    {
     "name": "stdout",
     "output_type": "stream",
     "text": [
      "Accuracy: 71.80%\n",
      "Recall: 71.77%\n",
      "Precision: 71.77%\n",
      "F1-Score: 69.60%\n",
      "time to train: 9.42M\n",
      "time to predict: 12.88M\n",
      "total: 22.30 M\n"
     ]
    }
   ],
   "source": [
    "from sklearn.ensemble import VotingClassifier\n",
    "from sklearn.linear_model import LogisticRegression\n",
    "from sklearn.naive_bayes import GaussianNB\n",
    "from sklearn.tree import DecisionTreeClassifier\n",
    "from sklearn.model_selection import train_test_split\n",
    "\n",
    "X_train, X_test, y_train, y_test = train_test_split(test_size=0.2, random_state=42)\n",
    "\n",
    "# instantiate the base models\n",
    "clf1 = LogisticRegression(random_state=5)\n",
    "clf2 = DecisionTreeClassifier(random_state=5)\n",
    "clf3 = GaussianNB()\n",
    "\n",
    "# create the ensemble model\n",
    "ensemble = VotingClassifier(estimators=[('lr', clf1), ('dt', clf2), ('gnb', clf3)], voting='hard')\n",
    "\n",
    "# fit the ensemble model to the training data\n",
    "ensemble.fit(X_train, y_train)\n",
    "\n",
    "\n",
    "start = time.time()\n",
    "ensemble = clf.fit(X_train,y_train)\n",
    "end_train = time.time()\n",
    "y_predictions = ensemble.predict(X_test) # These are the predictions from the test data.\n",
    "end_predict = time.time()\n",
    "\n",
    "\n",
    "accuracy = accuracy_score(y_test, y_predictions)\n",
    "recall = recall_score(y_test, y_predictions, average='weighted')\n",
    "precision = precision_score(y_test, y_predictions, average='weighted')\n",
    "f1s = f1_score(y_test, y_predictions, average='weighted')\n",
    "\n",
    "print(\"Accuracy: \"+ \"{:.2%}\".format(accuracy))\n",
    "print(\"Recall: \"+ \"{:.2%}\".format(recall))\n",
    "print(\"Precision: \"+ \"{:.2%}\".format(precision))\n",
    "print(\"F1-Score: \"+ \"{:.2%}\".format(f1s))\n",
    "print(\"time to train: \"+ \"{:.2f}\".format(end_train-start)+\" M\")\n",
    "print(\"time to predict: \"+\"{:.2f}\".format(end_predict-end_train)+\" M\")\n",
    "print(\"total: \"+\"{:.2f}\".format(end_predict-start)+\" M\")\n",
    "model_performance.loc['VotingClassifier'] = [accuracy, recall, precision, f1s,end_train-start,end_predict-end_train,end_predict-start]\n",
    "\n"
   ]
  },
  {
   "cell_type": "code",
   "execution_count": 12,
   "metadata": {},
   "outputs": [
    {
     "data": {
      "text/html": [
       "<style  type=\"text/css\" >\n",
       "#T_85d3e_row0_col0,#T_85d3e_row0_col2,#T_85d3e_row0_col3,#T_85d3e_row1_col4,#T_85d3e_row3_col5,#T_85d3e_row3_col6,#T_85d3e_row4_col1,#T_85d3e_row4_col3{\n",
       "            background-color:  #f7fcf5;\n",
       "            color:  #000000;\n",
       "        }#T_85d3e_row0_col1{\n",
       "            background-color:  #f5fbf3;\n",
       "            color:  #000000;\n",
       "        }#T_85d3e_row0_col4,#T_85d3e_row0_col5,#T_85d3e_row0_col6,#T_85d3e_row2_col2,#T_85d3e_row3_col0,#T_85d3e_row3_col1,#T_85d3e_row3_col2,#T_85d3e_row3_col3{\n",
       "            background-color:  #00441b;\n",
       "            color:  #f1f1f1;\n",
       "        }#T_85d3e_row1_col0{\n",
       "            background-color:  #c8e9c1;\n",
       "            color:  #000000;\n",
       "        }#T_85d3e_row1_col1{\n",
       "            background-color:  #c7e9c0;\n",
       "            color:  #000000;\n",
       "        }#T_85d3e_row1_col2{\n",
       "            background-color:  #a7dba0;\n",
       "            color:  #000000;\n",
       "        }#T_85d3e_row1_col3{\n",
       "            background-color:  #caeac3;\n",
       "            color:  #000000;\n",
       "        }#T_85d3e_row1_col5{\n",
       "            background-color:  #98d594;\n",
       "            color:  #000000;\n",
       "        }#T_85d3e_row1_col6{\n",
       "            background-color:  #cbeac4;\n",
       "            color:  #000000;\n",
       "        }#T_85d3e_row2_col0{\n",
       "            background-color:  #005120;\n",
       "            color:  #f1f1f1;\n",
       "        }#T_85d3e_row2_col1{\n",
       "            background-color:  #005321;\n",
       "            color:  #f1f1f1;\n",
       "        }#T_85d3e_row2_col3{\n",
       "            background-color:  #92d28f;\n",
       "            color:  #000000;\n",
       "        }#T_85d3e_row2_col4{\n",
       "            background-color:  #05712f;\n",
       "            color:  #f1f1f1;\n",
       "        }#T_85d3e_row2_col5{\n",
       "            background-color:  #157f3b;\n",
       "            color:  #f1f1f1;\n",
       "        }#T_85d3e_row2_col6{\n",
       "            background-color:  #127c39;\n",
       "            color:  #f1f1f1;\n",
       "        }#T_85d3e_row3_col4{\n",
       "            background-color:  #e1f3dc;\n",
       "            color:  #000000;\n",
       "        }#T_85d3e_row4_col0{\n",
       "            background-color:  #f4fbf1;\n",
       "            color:  #000000;\n",
       "        }#T_85d3e_row4_col2{\n",
       "            background-color:  #e5f5e1;\n",
       "            color:  #000000;\n",
       "        }#T_85d3e_row4_col4{\n",
       "            background-color:  #2c944c;\n",
       "            color:  #000000;\n",
       "        }#T_85d3e_row4_col5{\n",
       "            background-color:  #c2e7bb;\n",
       "            color:  #000000;\n",
       "        }#T_85d3e_row4_col6{\n",
       "            background-color:  #9fd899;\n",
       "            color:  #000000;\n",
       "        }</style><table id=\"T_85d3e_\" ><thead>    <tr>        <th class=\"blank level0\" ></th>        <th class=\"col_heading level0 col0\" >Accuracy</th>        <th class=\"col_heading level0 col1\" >Recall</th>        <th class=\"col_heading level0 col2\" >Precision</th>        <th class=\"col_heading level0 col3\" >F1-Score</th>        <th class=\"col_heading level0 col4\" >time to train</th>        <th class=\"col_heading level0 col5\" >time to predict</th>        <th class=\"col_heading level0 col6\" >total time</th>    </tr></thead><tbody>\n",
       "                <tr>\n",
       "                        <th id=\"T_85d3e_level0_row0\" class=\"row_heading level0 row0\" >RandomForestClassifier</th>\n",
       "                        <td id=\"T_85d3e_row0_col0\" class=\"data row0 col0\" >71.36%</td>\n",
       "                        <td id=\"T_85d3e_row0_col1\" class=\"data row0 col1\" >71.97%</td>\n",
       "                        <td id=\"T_85d3e_row0_col2\" class=\"data row0 col2\" >69.69%</td>\n",
       "                        <td id=\"T_85d3e_row0_col3\" class=\"data row0 col3\" >69.60%</td>\n",
       "                        <td id=\"T_85d3e_row0_col4\" class=\"data row0 col4\" >11.4</td>\n",
       "                        <td id=\"T_85d3e_row0_col5\" class=\"data row0 col5\" >23.9</td>\n",
       "                        <td id=\"T_85d3e_row0_col6\" class=\"data row0 col6\" >35.3</td>\n",
       "            </tr>\n",
       "            <tr>\n",
       "                        <th id=\"T_85d3e_level0_row1\" class=\"row_heading level0 row1\" >MulticlassClassificationEvaluator</th>\n",
       "                        <td id=\"T_85d3e_row1_col0\" class=\"data row1 col0\" >75.36%</td>\n",
       "                        <td id=\"T_85d3e_row1_col1\" class=\"data row1 col1\" >75.76%</td>\n",
       "                        <td id=\"T_85d3e_row1_col2\" class=\"data row1 col2\" >75.79%</td>\n",
       "                        <td id=\"T_85d3e_row1_col3\" class=\"data row1 col3\" >73.66%</td>\n",
       "                        <td id=\"T_85d3e_row1_col4\" class=\"data row1 col4\" >4.4</td>\n",
       "                        <td id=\"T_85d3e_row1_col5\" class=\"data row1 col5\" >14.9</td>\n",
       "                        <td id=\"T_85d3e_row1_col6\" class=\"data row1 col6\" >19.3</td>\n",
       "            </tr>\n",
       "            <tr>\n",
       "                        <th id=\"T_85d3e_level0_row2\" class=\"row_heading level0 row2\" >VectorAssembler</th>\n",
       "                        <td id=\"T_85d3e_row2_col0\" class=\"data row2 col0\" >86.87%</td>\n",
       "                        <td id=\"T_85d3e_row2_col1\" class=\"data row2 col1\" >86.77%</td>\n",
       "                        <td id=\"T_85d3e_row2_col2\" class=\"data row2 col2\" >86.77%</td>\n",
       "                        <td id=\"T_85d3e_row2_col3\" class=\"data row2 col3\" >76.60%</td>\n",
       "                        <td id=\"T_85d3e_row2_col4\" class=\"data row2 col4\" >10.4</td>\n",
       "                        <td id=\"T_85d3e_row2_col5\" class=\"data row2 col5\" >20.9</td>\n",
       "                        <td id=\"T_85d3e_row2_col6\" class=\"data row2 col6\" >31.3</td>\n",
       "            </tr>\n",
       "            <tr>\n",
       "                        <th id=\"T_85d3e_level0_row3\" class=\"row_heading level0 row3\" >DecisionTreeClassifier</th>\n",
       "                        <td id=\"T_85d3e_row3_col0\" class=\"data row3 col0\" >87.54%</td>\n",
       "                        <td id=\"T_85d3e_row3_col1\" class=\"data row3 col1\" >87.57%</td>\n",
       "                        <td id=\"T_85d3e_row3_col2\" class=\"data row3 col2\" >86.76%</td>\n",
       "                        <td id=\"T_85d3e_row3_col3\" class=\"data row3 col3\" >86.37%</td>\n",
       "                        <td id=\"T_85d3e_row3_col4\" class=\"data row3 col4\" >5.4</td>\n",
       "                        <td id=\"T_85d3e_row3_col5\" class=\"data row3 col5\" >8.9</td>\n",
       "                        <td id=\"T_85d3e_row3_col6\" class=\"data row3 col6\" >14.3</td>\n",
       "            </tr>\n",
       "            <tr>\n",
       "                        <th id=\"T_85d3e_level0_row4\" class=\"row_heading level0 row4\" >VotingClassifier</th>\n",
       "                        <td id=\"T_85d3e_row4_col0\" class=\"data row4 col0\" >71.80%</td>\n",
       "                        <td id=\"T_85d3e_row4_col1\" class=\"data row4 col1\" >71.77%</td>\n",
       "                        <td id=\"T_85d3e_row4_col2\" class=\"data row4 col2\" >71.77%</td>\n",
       "                        <td id=\"T_85d3e_row4_col3\" class=\"data row4 col3\" >69.60%</td>\n",
       "                        <td id=\"T_85d3e_row4_col4\" class=\"data row4 col4\" >9.4</td>\n",
       "                        <td id=\"T_85d3e_row4_col5\" class=\"data row4 col5\" >12.9</td>\n",
       "                        <td id=\"T_85d3e_row4_col6\" class=\"data row4 col6\" >22.3</td>\n",
       "            </tr>\n",
       "    </tbody></table>"
      ],
      "text/plain": [
       "<pandas.io.formats.style.Styler at 0x2b300291820>"
      ]
     },
     "execution_count": 12,
     "metadata": {},
     "output_type": "execute_result"
    }
   ],
   "source": [
    "from sklearn.feature_selection import mutual_info_classif\n",
    "model_performance.fillna(.90,inplace=True)\n",
    "model_performance.style.background_gradient(cmap='Greens').format({'Accuracy': '{:.2%}',\n",
    "                                                                     'Precision': '{:.2%}',\n",
    "                                                                     'Recall': '{:.2%}',\n",
    "                                                                     'F1-Score': '{:.2%}',\n",
    "                                                                     'time to train':'{:.1f}',\n",
    "                                                                     'time to predict':'{:.1f}',\n",
    "                                                                     'total time':'{:.1f}',\n",
    "                                                                     })"
   ]
  }
 ],
 "metadata": {
  "kernelspec": {
   "display_name": "Python 3.8.8 ('base')",
   "language": "python",
   "name": "python3"
  },
  "language_info": {
   "codemirror_mode": {
    "name": "ipython",
    "version": 3
   },
   "file_extension": ".py",
   "mimetype": "text/x-python",
   "name": "python",
   "nbconvert_exporter": "python",
   "pygments_lexer": "ipython3",
   "version": "3.8.8"
  },
  "orig_nbformat": 4,
  "vscode": {
   "interpreter": {
    "hash": "fbe58ca63fe33f9eeae9e71d10368d2b4a57f2b1b395836210cc60d362c66949"
   }
  }
 },
 "nbformat": 4,
 "nbformat_minor": 2
}
