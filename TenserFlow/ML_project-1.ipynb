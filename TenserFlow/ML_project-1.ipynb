{
 "cells": [
  {
   "cell_type": "code",
   "execution_count": 23,
   "id": "48520011",
   "metadata": {},
   "outputs": [
    {
     "data": {
      "text/html": [
       "<div>\n",
       "<style scoped>\n",
       "    .dataframe tbody tr th:only-of-type {\n",
       "        vertical-align: middle;\n",
       "    }\n",
       "\n",
       "    .dataframe tbody tr th {\n",
       "        vertical-align: top;\n",
       "    }\n",
       "\n",
       "    .dataframe thead th {\n",
       "        text-align: right;\n",
       "    }\n",
       "</style>\n",
       "<table border=\"1\" class=\"dataframe\">\n",
       "  <thead>\n",
       "    <tr style=\"text-align: right;\">\n",
       "      <th></th>\n",
       "      <th>session_id</th>\n",
       "      <th>flow_name</th>\n",
       "      <th>error_msg</th>\n",
       "    </tr>\n",
       "  </thead>\n",
       "  <tbody>\n",
       "    <tr>\n",
       "      <th>0</th>\n",
       "      <td>995</td>\n",
       "      <td>xyz</td>\n",
       "      <td>this code is failed with ERR_980</td>\n",
       "    </tr>\n",
       "    <tr>\n",
       "      <th>1</th>\n",
       "      <td>996</td>\n",
       "      <td>xxx</td>\n",
       "      <td>this code is failed with ERR_900</td>\n",
       "    </tr>\n",
       "    <tr>\n",
       "      <th>2</th>\n",
       "      <td>991</td>\n",
       "      <td>xyy</td>\n",
       "      <td>this code is failed with ERR_980</td>\n",
       "    </tr>\n",
       "    <tr>\n",
       "      <th>3</th>\n",
       "      <td>995</td>\n",
       "      <td>xyz</td>\n",
       "      <td>this code is failed with ERR_980</td>\n",
       "    </tr>\n",
       "    <tr>\n",
       "      <th>4</th>\n",
       "      <td>996</td>\n",
       "      <td>xxx</td>\n",
       "      <td>this code is failed with ERR_900</td>\n",
       "    </tr>\n",
       "    <tr>\n",
       "      <th>5</th>\n",
       "      <td>996</td>\n",
       "      <td>xxx</td>\n",
       "      <td>this code is failed with ERR_700 and</td>\n",
       "    </tr>\n",
       "  </tbody>\n",
       "</table>\n",
       "</div>"
      ],
      "text/plain": [
       "   session_id flow_name                              error_msg\n",
       "0         995       xyz       this code is failed with ERR_980\n",
       "1         996       xxx       this code is failed with ERR_900\n",
       "2         991       xyy       this code is failed with ERR_980\n",
       "3         995       xyz       this code is failed with ERR_980\n",
       "4         996       xxx       this code is failed with ERR_900\n",
       "5         996       xxx  this code is failed with ERR_700 and "
      ]
     },
     "execution_count": 23,
     "metadata": {},
     "output_type": "execute_result"
    }
   ],
   "source": [
    "import pandas as pd\n",
    "\n",
    "df = pd.read_csv('logs.csv')\n",
    "df"
   ]
  },
  {
   "cell_type": "code",
   "execution_count": 24,
   "id": "0a81c2e4",
   "metadata": {},
   "outputs": [
    {
     "data": {
      "text/plain": [
       "0         this code is failed with ERR_980\n",
       "1         this code is failed with ERR_900\n",
       "2         this code is failed with ERR_980\n",
       "3         this code is failed with ERR_980\n",
       "4         this code is failed with ERR_900\n",
       "5    this code is failed with ERR_700 and \n",
       "Name: error_msg, dtype: object"
      ]
     },
     "execution_count": 24,
     "metadata": {},
     "output_type": "execute_result"
    }
   ],
   "source": [
    "df['error_msg']"
   ]
  },
  {
   "cell_type": "code",
   "execution_count": 25,
   "id": "e41fa74b",
   "metadata": {},
   "outputs": [],
   "source": [
    "import re\n",
    "\n",
    "err_codes = []\n",
    "\n",
    "for line in re.findall(\"ERR.{4}\", str(df['error_msg'])):\n",
    "    err_codes.append(line)"
   ]
  },
  {
   "cell_type": "code",
   "execution_count": 26,
   "id": "5856c03b",
   "metadata": {},
   "outputs": [
    {
     "data": {
      "text/plain": [
       "['ERR_980', 'ERR_900', 'ERR_980', 'ERR_980', 'ERR_900', 'ERR_700']"
      ]
     },
     "execution_count": 26,
     "metadata": {},
     "output_type": "execute_result"
    }
   ],
   "source": [
    "err_codes"
   ]
  },
  {
   "cell_type": "code",
   "execution_count": 27,
   "id": "19b13f0d",
   "metadata": {},
   "outputs": [],
   "source": [
    "df['err_codes'] = err_codes"
   ]
  },
  {
   "cell_type": "code",
   "execution_count": 28,
   "id": "198911f5",
   "metadata": {},
   "outputs": [
    {
     "data": {
      "text/html": [
       "<div>\n",
       "<style scoped>\n",
       "    .dataframe tbody tr th:only-of-type {\n",
       "        vertical-align: middle;\n",
       "    }\n",
       "\n",
       "    .dataframe tbody tr th {\n",
       "        vertical-align: top;\n",
       "    }\n",
       "\n",
       "    .dataframe thead th {\n",
       "        text-align: right;\n",
       "    }\n",
       "</style>\n",
       "<table border=\"1\" class=\"dataframe\">\n",
       "  <thead>\n",
       "    <tr style=\"text-align: right;\">\n",
       "      <th></th>\n",
       "      <th>session_id</th>\n",
       "      <th>flow_name</th>\n",
       "      <th>error_msg</th>\n",
       "      <th>err_codes</th>\n",
       "    </tr>\n",
       "  </thead>\n",
       "  <tbody>\n",
       "    <tr>\n",
       "      <th>0</th>\n",
       "      <td>995</td>\n",
       "      <td>xyz</td>\n",
       "      <td>this code is failed with ERR_980</td>\n",
       "      <td>ERR_980</td>\n",
       "    </tr>\n",
       "    <tr>\n",
       "      <th>1</th>\n",
       "      <td>996</td>\n",
       "      <td>xxx</td>\n",
       "      <td>this code is failed with ERR_900</td>\n",
       "      <td>ERR_900</td>\n",
       "    </tr>\n",
       "    <tr>\n",
       "      <th>2</th>\n",
       "      <td>991</td>\n",
       "      <td>xyy</td>\n",
       "      <td>this code is failed with ERR_980</td>\n",
       "      <td>ERR_980</td>\n",
       "    </tr>\n",
       "    <tr>\n",
       "      <th>3</th>\n",
       "      <td>995</td>\n",
       "      <td>xyz</td>\n",
       "      <td>this code is failed with ERR_980</td>\n",
       "      <td>ERR_980</td>\n",
       "    </tr>\n",
       "    <tr>\n",
       "      <th>4</th>\n",
       "      <td>996</td>\n",
       "      <td>xxx</td>\n",
       "      <td>this code is failed with ERR_900</td>\n",
       "      <td>ERR_900</td>\n",
       "    </tr>\n",
       "    <tr>\n",
       "      <th>5</th>\n",
       "      <td>996</td>\n",
       "      <td>xxx</td>\n",
       "      <td>this code is failed with ERR_700 and</td>\n",
       "      <td>ERR_700</td>\n",
       "    </tr>\n",
       "  </tbody>\n",
       "</table>\n",
       "</div>"
      ],
      "text/plain": [
       "   session_id flow_name                              error_msg err_codes\n",
       "0         995       xyz       this code is failed with ERR_980   ERR_980\n",
       "1         996       xxx       this code is failed with ERR_900   ERR_900\n",
       "2         991       xyy       this code is failed with ERR_980   ERR_980\n",
       "3         995       xyz       this code is failed with ERR_980   ERR_980\n",
       "4         996       xxx       this code is failed with ERR_900   ERR_900\n",
       "5         996       xxx  this code is failed with ERR_700 and    ERR_700"
      ]
     },
     "execution_count": 28,
     "metadata": {},
     "output_type": "execute_result"
    }
   ],
   "source": [
    "df"
   ]
  },
  {
   "cell_type": "code",
   "execution_count": 7,
   "id": "da763036",
   "metadata": {},
   "outputs": [
    {
     "data": {
      "text/plain": [
       "Index(['session_id', 'flow_name', 'error_msg', 'err_codes'], dtype='object')"
      ]
     },
     "execution_count": 7,
     "metadata": {},
     "output_type": "execute_result"
    }
   ],
   "source": [
    "df.columns"
   ]
  },
  {
   "cell_type": "code",
   "execution_count": 29,
   "id": "18dcc18b",
   "metadata": {},
   "outputs": [],
   "source": [
    "df_f = df[['session_id','flow_name', 'error_msg','err_codes']]"
   ]
  },
  {
   "cell_type": "code",
   "execution_count": 30,
   "id": "fe984f3c",
   "metadata": {},
   "outputs": [
    {
     "data": {
      "text/html": [
       "<div>\n",
       "<style scoped>\n",
       "    .dataframe tbody tr th:only-of-type {\n",
       "        vertical-align: middle;\n",
       "    }\n",
       "\n",
       "    .dataframe tbody tr th {\n",
       "        vertical-align: top;\n",
       "    }\n",
       "\n",
       "    .dataframe thead th {\n",
       "        text-align: right;\n",
       "    }\n",
       "</style>\n",
       "<table border=\"1\" class=\"dataframe\">\n",
       "  <thead>\n",
       "    <tr style=\"text-align: right;\">\n",
       "      <th></th>\n",
       "      <th>session_id</th>\n",
       "      <th>flow_name</th>\n",
       "      <th>error_msg</th>\n",
       "      <th>err_codes</th>\n",
       "    </tr>\n",
       "  </thead>\n",
       "  <tbody>\n",
       "    <tr>\n",
       "      <th>0</th>\n",
       "      <td>995</td>\n",
       "      <td>xyz</td>\n",
       "      <td>this code is failed with ERR_980</td>\n",
       "      <td>ERR_980</td>\n",
       "    </tr>\n",
       "    <tr>\n",
       "      <th>1</th>\n",
       "      <td>996</td>\n",
       "      <td>xxx</td>\n",
       "      <td>this code is failed with ERR_900</td>\n",
       "      <td>ERR_900</td>\n",
       "    </tr>\n",
       "    <tr>\n",
       "      <th>2</th>\n",
       "      <td>991</td>\n",
       "      <td>xyy</td>\n",
       "      <td>this code is failed with ERR_980</td>\n",
       "      <td>ERR_980</td>\n",
       "    </tr>\n",
       "    <tr>\n",
       "      <th>3</th>\n",
       "      <td>995</td>\n",
       "      <td>xyz</td>\n",
       "      <td>this code is failed with ERR_980</td>\n",
       "      <td>ERR_980</td>\n",
       "    </tr>\n",
       "    <tr>\n",
       "      <th>4</th>\n",
       "      <td>996</td>\n",
       "      <td>xxx</td>\n",
       "      <td>this code is failed with ERR_900</td>\n",
       "      <td>ERR_900</td>\n",
       "    </tr>\n",
       "    <tr>\n",
       "      <th>5</th>\n",
       "      <td>996</td>\n",
       "      <td>xxx</td>\n",
       "      <td>this code is failed with ERR_700 and</td>\n",
       "      <td>ERR_700</td>\n",
       "    </tr>\n",
       "  </tbody>\n",
       "</table>\n",
       "</div>"
      ],
      "text/plain": [
       "   session_id flow_name                              error_msg err_codes\n",
       "0         995       xyz       this code is failed with ERR_980   ERR_980\n",
       "1         996       xxx       this code is failed with ERR_900   ERR_900\n",
       "2         991       xyy       this code is failed with ERR_980   ERR_980\n",
       "3         995       xyz       this code is failed with ERR_980   ERR_980\n",
       "4         996       xxx       this code is failed with ERR_900   ERR_900\n",
       "5         996       xxx  this code is failed with ERR_700 and    ERR_700"
      ]
     },
     "execution_count": 30,
     "metadata": {},
     "output_type": "execute_result"
    }
   ],
   "source": [
    "df_f"
   ]
  },
  {
   "cell_type": "code",
   "execution_count": 31,
   "id": "e5da2e76",
   "metadata": {},
   "outputs": [
    {
     "data": {
      "text/html": [
       "<div>\n",
       "<style scoped>\n",
       "    .dataframe tbody tr th:only-of-type {\n",
       "        vertical-align: middle;\n",
       "    }\n",
       "\n",
       "    .dataframe tbody tr th {\n",
       "        vertical-align: top;\n",
       "    }\n",
       "\n",
       "    .dataframe thead th {\n",
       "        text-align: right;\n",
       "    }\n",
       "</style>\n",
       "<table border=\"1\" class=\"dataframe\">\n",
       "  <thead>\n",
       "    <tr style=\"text-align: right;\">\n",
       "      <th></th>\n",
       "      <th>session_id</th>\n",
       "      <th>flow_name</th>\n",
       "      <th>error_msg</th>\n",
       "      <th>err_codes</th>\n",
       "    </tr>\n",
       "  </thead>\n",
       "  <tbody>\n",
       "    <tr>\n",
       "      <th>0</th>\n",
       "      <td>False</td>\n",
       "      <td>False</td>\n",
       "      <td>False</td>\n",
       "      <td>False</td>\n",
       "    </tr>\n",
       "    <tr>\n",
       "      <th>1</th>\n",
       "      <td>False</td>\n",
       "      <td>False</td>\n",
       "      <td>False</td>\n",
       "      <td>False</td>\n",
       "    </tr>\n",
       "    <tr>\n",
       "      <th>2</th>\n",
       "      <td>False</td>\n",
       "      <td>False</td>\n",
       "      <td>False</td>\n",
       "      <td>False</td>\n",
       "    </tr>\n",
       "    <tr>\n",
       "      <th>3</th>\n",
       "      <td>False</td>\n",
       "      <td>False</td>\n",
       "      <td>False</td>\n",
       "      <td>False</td>\n",
       "    </tr>\n",
       "    <tr>\n",
       "      <th>4</th>\n",
       "      <td>False</td>\n",
       "      <td>False</td>\n",
       "      <td>False</td>\n",
       "      <td>False</td>\n",
       "    </tr>\n",
       "    <tr>\n",
       "      <th>5</th>\n",
       "      <td>False</td>\n",
       "      <td>False</td>\n",
       "      <td>False</td>\n",
       "      <td>False</td>\n",
       "    </tr>\n",
       "  </tbody>\n",
       "</table>\n",
       "</div>"
      ],
      "text/plain": [
       "   session_id  flow_name  error_msg  err_codes\n",
       "0       False      False      False      False\n",
       "1       False      False      False      False\n",
       "2       False      False      False      False\n",
       "3       False      False      False      False\n",
       "4       False      False      False      False\n",
       "5       False      False      False      False"
      ]
     },
     "execution_count": 31,
     "metadata": {},
     "output_type": "execute_result"
    }
   ],
   "source": [
    "df_f.isna()"
   ]
  },
  {
   "cell_type": "code",
   "execution_count": 11,
   "id": "dd446bcd",
   "metadata": {},
   "outputs": [],
   "source": [
    "#df_f.hist(bins=10)"
   ]
  },
  {
   "cell_type": "code",
   "execution_count": 32,
   "id": "33d3a32f",
   "metadata": {},
   "outputs": [
    {
     "data": {
      "text/plain": [
       "[0, 1, 0, 0, 1, 2]"
      ]
     },
     "execution_count": 32,
     "metadata": {},
     "output_type": "execute_result"
    }
   ],
   "source": [
    "col = list(pd.factorize(df_f['err_codes'])[0])\n",
    "col"
   ]
  },
  {
   "cell_type": "code",
   "execution_count": 34,
   "id": "f0cd3bff",
   "metadata": {},
   "outputs": [
    {
     "data": {
      "text/html": [
       "<div>\n",
       "<style scoped>\n",
       "    .dataframe tbody tr th:only-of-type {\n",
       "        vertical-align: middle;\n",
       "    }\n",
       "\n",
       "    .dataframe tbody tr th {\n",
       "        vertical-align: top;\n",
       "    }\n",
       "\n",
       "    .dataframe thead th {\n",
       "        text-align: right;\n",
       "    }\n",
       "</style>\n",
       "<table border=\"1\" class=\"dataframe\">\n",
       "  <thead>\n",
       "    <tr style=\"text-align: right;\">\n",
       "      <th></th>\n",
       "      <th>session_id</th>\n",
       "      <th>flow_name</th>\n",
       "      <th>error_msg</th>\n",
       "      <th>err_codes</th>\n",
       "      <th>Error</th>\n",
       "    </tr>\n",
       "  </thead>\n",
       "  <tbody>\n",
       "    <tr>\n",
       "      <th>0</th>\n",
       "      <td>995</td>\n",
       "      <td>xyz</td>\n",
       "      <td>this code is failed with ERR_980</td>\n",
       "      <td>ERR_980</td>\n",
       "      <td>0</td>\n",
       "    </tr>\n",
       "    <tr>\n",
       "      <th>1</th>\n",
       "      <td>996</td>\n",
       "      <td>xxx</td>\n",
       "      <td>this code is failed with ERR_900</td>\n",
       "      <td>ERR_900</td>\n",
       "      <td>1</td>\n",
       "    </tr>\n",
       "    <tr>\n",
       "      <th>2</th>\n",
       "      <td>991</td>\n",
       "      <td>xyy</td>\n",
       "      <td>this code is failed with ERR_980</td>\n",
       "      <td>ERR_980</td>\n",
       "      <td>0</td>\n",
       "    </tr>\n",
       "    <tr>\n",
       "      <th>3</th>\n",
       "      <td>995</td>\n",
       "      <td>xyz</td>\n",
       "      <td>this code is failed with ERR_980</td>\n",
       "      <td>ERR_980</td>\n",
       "      <td>0</td>\n",
       "    </tr>\n",
       "    <tr>\n",
       "      <th>4</th>\n",
       "      <td>996</td>\n",
       "      <td>xxx</td>\n",
       "      <td>this code is failed with ERR_900</td>\n",
       "      <td>ERR_900</td>\n",
       "      <td>1</td>\n",
       "    </tr>\n",
       "    <tr>\n",
       "      <th>5</th>\n",
       "      <td>996</td>\n",
       "      <td>xxx</td>\n",
       "      <td>this code is failed with ERR_700 and</td>\n",
       "      <td>ERR_700</td>\n",
       "      <td>2</td>\n",
       "    </tr>\n",
       "  </tbody>\n",
       "</table>\n",
       "</div>"
      ],
      "text/plain": [
       "   session_id flow_name                              error_msg err_codes  \\\n",
       "0         995       xyz       this code is failed with ERR_980   ERR_980   \n",
       "1         996       xxx       this code is failed with ERR_900   ERR_900   \n",
       "2         991       xyy       this code is failed with ERR_980   ERR_980   \n",
       "3         995       xyz       this code is failed with ERR_980   ERR_980   \n",
       "4         996       xxx       this code is failed with ERR_900   ERR_900   \n",
       "5         996       xxx  this code is failed with ERR_700 and    ERR_700   \n",
       "\n",
       "   Error  \n",
       "0      0  \n",
       "1      1  \n",
       "2      0  \n",
       "3      0  \n",
       "4      1  \n",
       "5      2  "
      ]
     },
     "execution_count": 34,
     "metadata": {},
     "output_type": "execute_result"
    }
   ],
   "source": [
    "df_f[\"Error\"]= col\n",
    "df_f"
   ]
  },
  {
   "cell_type": "code",
   "execution_count": 78,
   "id": "faadcd10",
   "metadata": {},
   "outputs": [
    {
     "data": {
      "text/html": [
       "<div>\n",
       "<style scoped>\n",
       "    .dataframe tbody tr th:only-of-type {\n",
       "        vertical-align: middle;\n",
       "    }\n",
       "\n",
       "    .dataframe tbody tr th {\n",
       "        vertical-align: top;\n",
       "    }\n",
       "\n",
       "    .dataframe thead th {\n",
       "        text-align: right;\n",
       "    }\n",
       "</style>\n",
       "<table border=\"1\" class=\"dataframe\">\n",
       "  <thead>\n",
       "    <tr style=\"text-align: right;\">\n",
       "      <th></th>\n",
       "      <th>session_id</th>\n",
       "      <th>Error</th>\n",
       "    </tr>\n",
       "  </thead>\n",
       "  <tbody>\n",
       "    <tr>\n",
       "      <th>count</th>\n",
       "      <td>6.000000</td>\n",
       "      <td>6.000000</td>\n",
       "    </tr>\n",
       "    <tr>\n",
       "      <th>mean</th>\n",
       "      <td>994.833333</td>\n",
       "      <td>0.666667</td>\n",
       "    </tr>\n",
       "    <tr>\n",
       "      <th>std</th>\n",
       "      <td>1.940790</td>\n",
       "      <td>0.816497</td>\n",
       "    </tr>\n",
       "    <tr>\n",
       "      <th>min</th>\n",
       "      <td>991.000000</td>\n",
       "      <td>0.000000</td>\n",
       "    </tr>\n",
       "    <tr>\n",
       "      <th>25%</th>\n",
       "      <td>995.000000</td>\n",
       "      <td>0.000000</td>\n",
       "    </tr>\n",
       "    <tr>\n",
       "      <th>50%</th>\n",
       "      <td>995.500000</td>\n",
       "      <td>0.500000</td>\n",
       "    </tr>\n",
       "    <tr>\n",
       "      <th>75%</th>\n",
       "      <td>996.000000</td>\n",
       "      <td>1.000000</td>\n",
       "    </tr>\n",
       "    <tr>\n",
       "      <th>max</th>\n",
       "      <td>996.000000</td>\n",
       "      <td>2.000000</td>\n",
       "    </tr>\n",
       "  </tbody>\n",
       "</table>\n",
       "</div>"
      ],
      "text/plain": [
       "       session_id     Error\n",
       "count    6.000000  6.000000\n",
       "mean   994.833333  0.666667\n",
       "std      1.940790  0.816497\n",
       "min    991.000000  0.000000\n",
       "25%    995.000000  0.000000\n",
       "50%    995.500000  0.500000\n",
       "75%    996.000000  1.000000\n",
       "max    996.000000  2.000000"
      ]
     },
     "execution_count": 78,
     "metadata": {},
     "output_type": "execute_result"
    }
   ],
   "source": [
    "df_f.describe()"
   ]
  },
  {
   "cell_type": "code",
   "execution_count": 82,
   "id": "29c58521",
   "metadata": {},
   "outputs": [
    {
     "data": {
      "text/plain": [
       "session_id  flow_name  error_msg                              err_codes  Error\n",
       "995         xyz        this code is failed with ERR_980       ERR_980    0        2\n",
       "996         xxx        this code is failed with ERR_900       ERR_900    1        2\n",
       "991         xyy        this code is failed with ERR_980       ERR_980    0        1\n",
       "996         xxx        this code is failed with ERR_700 and   ERR_700    2        1\n",
       "dtype: int64"
      ]
     },
     "execution_count": 82,
     "metadata": {},
     "output_type": "execute_result"
    }
   ],
   "source": [
    "dfc = df_f.value_counts()\n",
    "dfc"
   ]
  },
  {
   "cell_type": "code",
   "execution_count": 119,
   "id": "4e9fa1df",
   "metadata": {},
   "outputs": [],
   "source": [
    "dfc.to_csv('saves.csv')"
   ]
  },
  {
   "cell_type": "code",
   "execution_count": 120,
   "id": "7272ddea",
   "metadata": {},
   "outputs": [
    {
     "data": {
      "text/html": [
       "<div>\n",
       "<style scoped>\n",
       "    .dataframe tbody tr th:only-of-type {\n",
       "        vertical-align: middle;\n",
       "    }\n",
       "\n",
       "    .dataframe tbody tr th {\n",
       "        vertical-align: top;\n",
       "    }\n",
       "\n",
       "    .dataframe thead th {\n",
       "        text-align: right;\n",
       "    }\n",
       "</style>\n",
       "<table border=\"1\" class=\"dataframe\">\n",
       "  <thead>\n",
       "    <tr style=\"text-align: right;\">\n",
       "      <th></th>\n",
       "      <th>session_id</th>\n",
       "      <th>flow_name</th>\n",
       "      <th>error_msg</th>\n",
       "      <th>err_codes</th>\n",
       "      <th>Error</th>\n",
       "      <th>0</th>\n",
       "    </tr>\n",
       "  </thead>\n",
       "  <tbody>\n",
       "    <tr>\n",
       "      <th>0</th>\n",
       "      <td>995</td>\n",
       "      <td>xyz</td>\n",
       "      <td>this code is failed with ERR_980</td>\n",
       "      <td>ERR_980</td>\n",
       "      <td>0</td>\n",
       "      <td>2</td>\n",
       "    </tr>\n",
       "    <tr>\n",
       "      <th>1</th>\n",
       "      <td>996</td>\n",
       "      <td>xxx</td>\n",
       "      <td>this code is failed with ERR_900</td>\n",
       "      <td>ERR_900</td>\n",
       "      <td>1</td>\n",
       "      <td>2</td>\n",
       "    </tr>\n",
       "    <tr>\n",
       "      <th>2</th>\n",
       "      <td>991</td>\n",
       "      <td>xyy</td>\n",
       "      <td>this code is failed with ERR_980</td>\n",
       "      <td>ERR_980</td>\n",
       "      <td>0</td>\n",
       "      <td>1</td>\n",
       "    </tr>\n",
       "    <tr>\n",
       "      <th>3</th>\n",
       "      <td>996</td>\n",
       "      <td>xxx</td>\n",
       "      <td>this code is failed with ERR_700 and</td>\n",
       "      <td>ERR_700</td>\n",
       "      <td>2</td>\n",
       "      <td>1</td>\n",
       "    </tr>\n",
       "  </tbody>\n",
       "</table>\n",
       "</div>"
      ],
      "text/plain": [
       "   session_id flow_name                              error_msg err_codes  \\\n",
       "0         995       xyz       this code is failed with ERR_980   ERR_980   \n",
       "1         996       xxx       this code is failed with ERR_900   ERR_900   \n",
       "2         991       xyy       this code is failed with ERR_980   ERR_980   \n",
       "3         996       xxx  this code is failed with ERR_700 and    ERR_700   \n",
       "\n",
       "   Error  0  \n",
       "0      0  2  \n",
       "1      1  2  \n",
       "2      0  1  \n",
       "3      2  1  "
      ]
     },
     "execution_count": 120,
     "metadata": {},
     "output_type": "execute_result"
    }
   ],
   "source": [
    "new = pd.read_csv('saves.csv')\n",
    "new"
   ]
  },
  {
   "cell_type": "code",
   "execution_count": 122,
   "id": "e98b75df",
   "metadata": {},
   "outputs": [
    {
     "data": {
      "text/plain": [
       "Index(['session_id', 'flow_name', 'error_msg', 'err_codes', 'Error', '0'], dtype='object')"
      ]
     },
     "execution_count": 122,
     "metadata": {},
     "output_type": "execute_result"
    }
   ],
   "source": [
    "new.columns"
   ]
  },
  {
   "cell_type": "code",
   "execution_count": 125,
   "id": "c26a93ba",
   "metadata": {},
   "outputs": [],
   "source": [
    "new.columns = ['session_id', 'flow_name', 'error_msg', 'err_codes', 'Error', 'failed']"
   ]
  },
  {
   "cell_type": "code",
   "execution_count": 126,
   "id": "9cbbc230",
   "metadata": {},
   "outputs": [
    {
     "data": {
      "text/html": [
       "<div>\n",
       "<style scoped>\n",
       "    .dataframe tbody tr th:only-of-type {\n",
       "        vertical-align: middle;\n",
       "    }\n",
       "\n",
       "    .dataframe tbody tr th {\n",
       "        vertical-align: top;\n",
       "    }\n",
       "\n",
       "    .dataframe thead th {\n",
       "        text-align: right;\n",
       "    }\n",
       "</style>\n",
       "<table border=\"1\" class=\"dataframe\">\n",
       "  <thead>\n",
       "    <tr style=\"text-align: right;\">\n",
       "      <th></th>\n",
       "      <th>session_id</th>\n",
       "      <th>flow_name</th>\n",
       "      <th>error_msg</th>\n",
       "      <th>err_codes</th>\n",
       "      <th>Error</th>\n",
       "      <th>failed</th>\n",
       "    </tr>\n",
       "  </thead>\n",
       "  <tbody>\n",
       "    <tr>\n",
       "      <th>0</th>\n",
       "      <td>995</td>\n",
       "      <td>xyz</td>\n",
       "      <td>this code is failed with ERR_980</td>\n",
       "      <td>ERR_980</td>\n",
       "      <td>0</td>\n",
       "      <td>2</td>\n",
       "    </tr>\n",
       "    <tr>\n",
       "      <th>1</th>\n",
       "      <td>996</td>\n",
       "      <td>xxx</td>\n",
       "      <td>this code is failed with ERR_900</td>\n",
       "      <td>ERR_900</td>\n",
       "      <td>1</td>\n",
       "      <td>2</td>\n",
       "    </tr>\n",
       "    <tr>\n",
       "      <th>2</th>\n",
       "      <td>991</td>\n",
       "      <td>xyy</td>\n",
       "      <td>this code is failed with ERR_980</td>\n",
       "      <td>ERR_980</td>\n",
       "      <td>0</td>\n",
       "      <td>1</td>\n",
       "    </tr>\n",
       "    <tr>\n",
       "      <th>3</th>\n",
       "      <td>996</td>\n",
       "      <td>xxx</td>\n",
       "      <td>this code is failed with ERR_700 and</td>\n",
       "      <td>ERR_700</td>\n",
       "      <td>2</td>\n",
       "      <td>1</td>\n",
       "    </tr>\n",
       "  </tbody>\n",
       "</table>\n",
       "</div>"
      ],
      "text/plain": [
       "   session_id flow_name                              error_msg err_codes  \\\n",
       "0         995       xyz       this code is failed with ERR_980   ERR_980   \n",
       "1         996       xxx       this code is failed with ERR_900   ERR_900   \n",
       "2         991       xyy       this code is failed with ERR_980   ERR_980   \n",
       "3         996       xxx  this code is failed with ERR_700 and    ERR_700   \n",
       "\n",
       "   Error  failed  \n",
       "0      0       2  \n",
       "1      1       2  \n",
       "2      0       1  \n",
       "3      2       1  "
      ]
     },
     "execution_count": 126,
     "metadata": {},
     "output_type": "execute_result"
    }
   ],
   "source": [
    "new"
   ]
  },
  {
   "cell_type": "code",
   "execution_count": 117,
   "id": "ec27b182",
   "metadata": {},
   "outputs": [
    {
     "ename": "AttributeError",
     "evalue": "'Series' object has no attribute 'columns'",
     "output_type": "error",
     "traceback": [
      "\u001b[1;31m---------------------------------------------------------------------------\u001b[0m",
      "\u001b[1;31mAttributeError\u001b[0m                            Traceback (most recent call last)",
      "\u001b[1;32m<ipython-input-117-7301d465e1d8>\u001b[0m in \u001b[0;36m<module>\u001b[1;34m\u001b[0m\n\u001b[1;32m----> 1\u001b[1;33m \u001b[0mdfc\u001b[0m\u001b[1;33m.\u001b[0m\u001b[0mcolumns\u001b[0m\u001b[1;33m(\u001b[0m\u001b[1;33m)\u001b[0m\u001b[1;33m\u001b[0m\u001b[1;33m\u001b[0m\u001b[0m\n\u001b[0m",
      "\u001b[1;32mC:\\python\\lib\\site-packages\\pandas\\core\\generic.py\u001b[0m in \u001b[0;36m__getattr__\u001b[1;34m(self, name)\u001b[0m\n\u001b[0;32m   5463\u001b[0m             \u001b[1;32mif\u001b[0m \u001b[0mself\u001b[0m\u001b[1;33m.\u001b[0m\u001b[0m_info_axis\u001b[0m\u001b[1;33m.\u001b[0m\u001b[0m_can_hold_identifiers_and_holds_name\u001b[0m\u001b[1;33m(\u001b[0m\u001b[0mname\u001b[0m\u001b[1;33m)\u001b[0m\u001b[1;33m:\u001b[0m\u001b[1;33m\u001b[0m\u001b[1;33m\u001b[0m\u001b[0m\n\u001b[0;32m   5464\u001b[0m                 \u001b[1;32mreturn\u001b[0m \u001b[0mself\u001b[0m\u001b[1;33m[\u001b[0m\u001b[0mname\u001b[0m\u001b[1;33m]\u001b[0m\u001b[1;33m\u001b[0m\u001b[1;33m\u001b[0m\u001b[0m\n\u001b[1;32m-> 5465\u001b[1;33m             \u001b[1;32mreturn\u001b[0m \u001b[0mobject\u001b[0m\u001b[1;33m.\u001b[0m\u001b[0m__getattribute__\u001b[0m\u001b[1;33m(\u001b[0m\u001b[0mself\u001b[0m\u001b[1;33m,\u001b[0m \u001b[0mname\u001b[0m\u001b[1;33m)\u001b[0m\u001b[1;33m\u001b[0m\u001b[1;33m\u001b[0m\u001b[0m\n\u001b[0m\u001b[0;32m   5466\u001b[0m \u001b[1;33m\u001b[0m\u001b[0m\n\u001b[0;32m   5467\u001b[0m     \u001b[1;32mdef\u001b[0m \u001b[0m__setattr__\u001b[0m\u001b[1;33m(\u001b[0m\u001b[0mself\u001b[0m\u001b[1;33m,\u001b[0m \u001b[0mname\u001b[0m\u001b[1;33m:\u001b[0m \u001b[0mstr\u001b[0m\u001b[1;33m,\u001b[0m \u001b[0mvalue\u001b[0m\u001b[1;33m)\u001b[0m \u001b[1;33m->\u001b[0m \u001b[1;32mNone\u001b[0m\u001b[1;33m:\u001b[0m\u001b[1;33m\u001b[0m\u001b[1;33m\u001b[0m\u001b[0m\n",
      "\u001b[1;31mAttributeError\u001b[0m: 'Series' object has no attribute 'columns'"
     ]
    }
   ],
   "source": []
  },
  {
   "cell_type": "code",
   "execution_count": null,
   "id": "12a566cb",
   "metadata": {},
   "outputs": [],
   "source": []
  }
 ],
 "metadata": {
  "kernelspec": {
   "display_name": "Python 3",
   "language": "python",
   "name": "python3"
  },
  "language_info": {
   "codemirror_mode": {
    "name": "ipython",
    "version": 3
   },
   "file_extension": ".py",
   "mimetype": "text/x-python",
   "name": "python",
   "nbconvert_exporter": "python",
   "pygments_lexer": "ipython3",
   "version": "3.8.8"
  }
 },
 "nbformat": 4,
 "nbformat_minor": 5
}
