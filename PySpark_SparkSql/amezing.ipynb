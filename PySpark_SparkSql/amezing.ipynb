{
 "cells": [
  {
   "cell_type": "code",
   "execution_count": 9,
   "metadata": {},
   "outputs": [
    {
     "name": "stdout",
     "output_type": "stream",
     "text": [
      "{1: 1, 4: 1, 5: 1, 0: 1, 2: 1, 7: 1, 9: 1, 12: 1, 16: 1}\n",
      "<str_iterator object at 0x000001AA36E115E0>\n"
     ]
    }
   ],
   "source": [
    "def solution(l):\n",
    "    \n",
    "    temp = {}\n",
    "    count= 0 \n",
    "    for key in l:\n",
    "        if key in temp:\n",
    "           temp[count] = count+1\n",
    "        else:\n",
    "            temp[key] = 1 \n",
    "    print(temp)\n",
    "         \n",
    "    last_val = iter(str(temp))\n",
    "    print(last_val)\n",
    "    \"\"\"\n",
    "    for key, counts in temp.items():\n",
    "        if last_val == key:\n",
    "            return key,counts\n",
    "        else:\n",
    "            print(\"0\")\n",
    "    \"\"\" \n",
    "    \n",
    "l = [1,4,5,0,2,7,7,4,1,9,12,7,16,5]\n",
    "solution(l)"
   ]
  }
 ],
 "metadata": {
  "kernelspec": {
   "display_name": "Python 3.8.8 ('base')",
   "language": "python",
   "name": "python3"
  },
  "language_info": {
   "codemirror_mode": {
    "name": "ipython",
    "version": 3
   },
   "file_extension": ".py",
   "mimetype": "text/x-python",
   "name": "python",
   "nbconvert_exporter": "python",
   "pygments_lexer": "ipython3",
   "version": "3.8.8"
  },
  "orig_nbformat": 4,
  "vscode": {
   "interpreter": {
    "hash": "fbe58ca63fe33f9eeae9e71d10368d2b4a57f2b1b395836210cc60d362c66949"
   }
  }
 },
 "nbformat": 4,
 "nbformat_minor": 2
}
