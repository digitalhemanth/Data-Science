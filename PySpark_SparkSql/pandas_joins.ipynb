{
 "cells": [
  {
   "cell_type": "code",
   "execution_count": 5,
   "metadata": {},
   "outputs": [],
   "source": [
    "import pandas as pd"
   ]
  },
  {
   "cell_type": "code",
   "execution_count": 6,
   "metadata": {},
   "outputs": [
    {
     "name": "stdout",
     "output_type": "stream",
     "text": [
      "            Name Age University\n",
      "0        Hemanth  27       JNTU\n",
      "1      Aishwarya  21        JNU\n",
      "2        Shaurya  23         TU\n",
      "3  Hemanth Kumar  27       JNTU\n"
     ]
    }
   ],
   "source": [
    "# import pandas library\n",
    "details = {\n",
    "\t0 : {\n",
    "\t\t'Name' : 'Hemanth',\n",
    "\t\t'Age' : 27,\n",
    "\t\t'University' : 'JNTU'\n",
    "\t\t},\n",
    "\t1 : {\n",
    "\t\t'Name' : 'Aishwarya',\n",
    "\t\t'Age' : 21,\n",
    "\t\t'University' : 'JNU'\n",
    "\t\t},\n",
    "\t2 : {\n",
    "\t\t'Name' : 'Shaurya',\n",
    "\t\t'Age' : 23,\n",
    "\t\t'University' : 'TU'\n",
    "\t\t},\n",
    " \t3 : {\n",
    "\t\t'Name' : 'Hemanth Kumar',\n",
    "\t\t'Age' : 27,\n",
    "\t\t'University' : 'JNTU'\n",
    "\t\t},\n",
    "}\n",
    "\n",
    "# creating a Dataframe object\n",
    "# from nested dictionary\n",
    "# in which inside dictionary\n",
    "# key is act as index value\n",
    "# and column value is 0, 1, 2...\n",
    "df = pd.DataFrame(details)\n",
    "\n",
    "# swap the columns with indexes\n",
    "df = df.transpose()\n",
    "print(df)\n"
   ]
  },
  {
   "cell_type": "code",
   "execution_count": 4,
   "metadata": {},
   "outputs": [
    {
     "data": {
      "text/plain": [
       "Name          Hemanth\n",
       "Age                27\n",
       "University       JNTU\n",
       "Name: 0, dtype: object"
      ]
     },
     "execution_count": 4,
     "metadata": {},
     "output_type": "execute_result"
    }
   ],
   "source": [
    "# Single selections using iloc and DataFrame\n",
    "# Rows:\n",
    "df.iloc[0] # first row of data frame "
   ]
  },
  {
   "cell_type": "code",
   "execution_count": 7,
   "metadata": {},
   "outputs": [
    {
     "data": {
      "text/plain": [
       "0          Hemanth\n",
       "1        Aishwarya\n",
       "2          Shaurya\n",
       "3    Hemanth Kumar\n",
       "Name: Name, dtype: object"
      ]
     },
     "execution_count": 7,
     "metadata": {},
     "output_type": "execute_result"
    }
   ],
   "source": [
    "df.iloc[:,0]"
   ]
  },
  {
   "cell_type": "code",
   "execution_count": 8,
   "metadata": {},
   "outputs": [
    {
     "data": {
      "text/plain": [
       "0    JNTU\n",
       "1     JNU\n",
       "2      TU\n",
       "3    JNTU\n",
       "Name: University, dtype: object"
      ]
     },
     "execution_count": 8,
     "metadata": {},
     "output_type": "execute_result"
    }
   ],
   "source": [
    "df.iloc[:,-1]"
   ]
  },
  {
   "cell_type": "code",
   "execution_count": 10,
   "metadata": {},
   "outputs": [
    {
     "data": {
      "text/plain": [
       "<bound method Series.unique of 0    JNTU\n",
       "1     JNU\n",
       "2      TU\n",
       "3    JNTU\n",
       "Name: University, dtype: object>"
      ]
     },
     "execution_count": 10,
     "metadata": {},
     "output_type": "execute_result"
    }
   ],
   "source": [
    "df.iloc[:,-1].unique"
   ]
  },
  {
   "cell_type": "code",
   "execution_count": 13,
   "metadata": {},
   "outputs": [
    {
     "data": {
      "text/plain": [
       "0    JNTU\n",
       "1     JNU\n",
       "2      TU\n",
       "3    JNTU\n",
       "Name: University, dtype: object"
      ]
     },
     "execution_count": 13,
     "metadata": {},
     "output_type": "execute_result"
    }
   ],
   "source": [
    "df.iloc[:,-1]"
   ]
  },
  {
   "cell_type": "code",
   "execution_count": 21,
   "metadata": {},
   "outputs": [
    {
     "data": {
      "text/html": [
       "<div>\n",
       "<style scoped>\n",
       "    .dataframe tbody tr th:only-of-type {\n",
       "        vertical-align: middle;\n",
       "    }\n",
       "\n",
       "    .dataframe tbody tr th {\n",
       "        vertical-align: top;\n",
       "    }\n",
       "\n",
       "    .dataframe thead th {\n",
       "        text-align: right;\n",
       "    }\n",
       "</style>\n",
       "<table border=\"1\" class=\"dataframe\">\n",
       "  <thead>\n",
       "    <tr style=\"text-align: right;\">\n",
       "      <th></th>\n",
       "      <th>Name</th>\n",
       "      <th>Age</th>\n",
       "      <th>University</th>\n",
       "    </tr>\n",
       "  </thead>\n",
       "  <tbody>\n",
       "    <tr>\n",
       "      <th>0</th>\n",
       "      <td>Hemanth</td>\n",
       "      <td>27</td>\n",
       "      <td>JNTU</td>\n",
       "    </tr>\n",
       "  </tbody>\n",
       "</table>\n",
       "</div>"
      ],
      "text/plain": [
       "      Name Age University\n",
       "0  Hemanth  27       JNTU"
      ]
     },
     "execution_count": 21,
     "metadata": {},
     "output_type": "execute_result"
    }
   ],
   "source": [
    "df.loc[df['Name'] == 'Hemanth']\n",
    "\n"
   ]
  }
 ],
 "metadata": {
  "kernelspec": {
   "display_name": "Python 3.8.8 ('base')",
   "language": "python",
   "name": "python3"
  },
  "language_info": {
   "codemirror_mode": {
    "name": "ipython",
    "version": 3
   },
   "file_extension": ".py",
   "mimetype": "text/x-python",
   "name": "python",
   "nbconvert_exporter": "python",
   "pygments_lexer": "ipython3",
   "version": "3.8.8"
  },
  "orig_nbformat": 4,
  "vscode": {
   "interpreter": {
    "hash": "fbe58ca63fe33f9eeae9e71d10368d2b4a57f2b1b395836210cc60d362c66949"
   }
  }
 },
 "nbformat": 4,
 "nbformat_minor": 2
}
