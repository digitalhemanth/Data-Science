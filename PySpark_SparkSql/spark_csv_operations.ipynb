{
 "cells": [
  {
   "cell_type": "code",
   "execution_count": 1,
   "metadata": {},
   "outputs": [
    {
     "name": "stdout",
     "output_type": "stream",
     "text": [
      "<pyspark.sql.session.SparkSession object at 0x0000019300AC4F70>\n"
     ]
    }
   ],
   "source": [
    "import findspark\n",
    "findspark.init()\n",
    "\n",
    "# Create SparkSession from builder\n",
    "import pyspark\n",
    "from pyspark.sql import SparkSession\n",
    "spark = SparkSession.builder.master(\"local\") \\\n",
    "                    .appName('My App') \\\n",
    "                    .getOrCreate()\n",
    "print(spark)"
   ]
  },
  {
   "cell_type": "code",
   "execution_count": 2,
   "metadata": {},
   "outputs": [
    {
     "name": "stdout",
     "output_type": "stream",
     "text": [
      "+-------+----------+------+\n",
      "|   Name|Department|Salary|\n",
      "+-------+----------+------+\n",
      "|  James|     Sales|  3000|\n",
      "|Michael|     Sales|  4600|\n",
      "| Robert|     Sales|  4100|\n",
      "|  Maria|   Finance|  3000|\n",
      "|  Raman|   Finance|  3000|\n",
      "|  Scott|   Finance|  3300|\n",
      "|    Jen|   Finance|  3900|\n",
      "|   Jeff| Marketing|  3000|\n",
      "|  Kumar| Marketing|  2000|\n",
      "+-------+----------+------+\n",
      "\n"
     ]
    }
   ],
   "source": [
    "\n",
    "data = [(\"James\",\"Sales\",3000),(\"Michael\",\"Sales\",4600),\n",
    "      (\"Robert\",\"Sales\",4100),(\"Maria\",\"Finance\",3000),\n",
    "      (\"Raman\",\"Finance\",3000),(\"Scott\",\"Finance\",3300),\n",
    "      (\"Jen\",\"Finance\",3900),(\"Jeff\",\"Marketing\",3000),\n",
    "      (\"Kumar\",\"Marketing\",2000)]\n",
    "\n",
    "df = spark.createDataFrame(data,[\"Name\",\"Department\",\"Salary\"])\n",
    "df.show()\n"
   ]
  },
  {
   "cell_type": "code",
   "execution_count": 3,
   "metadata": {},
   "outputs": [
    {
     "name": "stdout",
     "output_type": "stream",
     "text": [
      "+-------+----------+------+---+\n",
      "|   Name|Department|Salary|row|\n",
      "+-------+----------+------+---+\n",
      "|    Jen|   Finance|  3900|  1|\n",
      "|  Scott|   Finance|  3300|  2|\n",
      "|  Maria|   Finance|  3000|  3|\n",
      "|  Raman|   Finance|  3000|  4|\n",
      "|   Jeff| Marketing|  3000|  1|\n",
      "|  Kumar| Marketing|  2000|  2|\n",
      "|Michael|     Sales|  4600|  1|\n",
      "| Robert|     Sales|  4100|  2|\n",
      "|  James|     Sales|  3000|  3|\n",
      "+-------+----------+------+---+\n",
      "\n"
     ]
    }
   ],
   "source": [
    "\n",
    "from pyspark.sql.window import Window\n",
    "from pyspark.sql.functions import col, row_number\n",
    "windowDept = Window.partitionBy(\"department\").orderBy(col(\"salary\").desc())\n",
    "df2=df.withColumn(\"row\",row_number().over(windowDept))\n",
    "df2.show()\n"
   ]
  },
  {
   "cell_type": "code",
   "execution_count": 4,
   "metadata": {},
   "outputs": [
    {
     "name": "stdout",
     "output_type": "stream",
     "text": [
      "+-------+----------+------+---+\n",
      "|   Name|Department|Salary|row|\n",
      "+-------+----------+------+---+\n",
      "|    Jen|   Finance|  3900|  1|\n",
      "|  Scott|   Finance|  3300|  2|\n",
      "|   Jeff| Marketing|  3000|  1|\n",
      "|  Kumar| Marketing|  2000|  2|\n",
      "|Michael|     Sales|  4600|  1|\n",
      "| Robert|     Sales|  4100|  2|\n",
      "+-------+----------+------+---+\n",
      "\n"
     ]
    }
   ],
   "source": [
    "\n",
    "df3=df2.filter(col(\"row\") <= 2)\n",
    "df3.show()\n"
   ]
  },
  {
   "cell_type": "code",
   "execution_count": 6,
   "metadata": {},
   "outputs": [
    {
     "name": "stdout",
     "output_type": "stream",
     "text": [
      "+-------+----------+------+\n",
      "|   Name|Department|Salary|\n",
      "+-------+----------+------+\n",
      "|    Jen|   Finance|  3900|\n",
      "|  Scott|   Finance|  3300|\n",
      "|   Jeff| Marketing|  3000|\n",
      "|  Kumar| Marketing|  2000|\n",
      "|Michael|     Sales|  4600|\n",
      "| Robert|     Sales|  4100|\n",
      "+-------+----------+------+\n",
      "\n"
     ]
    }
   ],
   "source": [
    "\n",
    "df3.drop(\"row\").show()\n"
   ]
  },
  {
   "cell_type": "code",
   "execution_count": null,
   "metadata": {},
   "outputs": [],
   "source": []
  },
  {
   "cell_type": "code",
   "execution_count": 4,
   "metadata": {},
   "outputs": [],
   "source": [
    "sdf = spark.read.csv(\"D:/Code_Place/Data-Science/PySpark_SparkSql/files/*.csv\")\n",
    "sdf.show(5)"
   ]
  },
  {
   "cell_type": "code",
   "execution_count": null,
   "metadata": {},
   "outputs": [],
   "source": []
  }
 ],
 "metadata": {
  "kernelspec": {
   "display_name": "Python 3.8.8 ('base')",
   "language": "python",
   "name": "python3"
  },
  "language_info": {
   "codemirror_mode": {
    "name": "ipython",
    "version": 3
   },
   "file_extension": ".py",
   "mimetype": "text/x-python",
   "name": "python",
   "nbconvert_exporter": "python",
   "pygments_lexer": "ipython3",
   "version": "3.8.8"
  },
  "orig_nbformat": 4,
  "vscode": {
   "interpreter": {
    "hash": "fbe58ca63fe33f9eeae9e71d10368d2b4a57f2b1b395836210cc60d362c66949"
   }
  }
 },
 "nbformat": 4,
 "nbformat_minor": 2
}
