{
 "cells": [
  {
   "cell_type": "code",
   "execution_count": 1,
   "id": "0716adf0",
   "metadata": {},
   "outputs": [
    {
     "data": {
      "text/plain": [
       "'C:\\\\spark\\\\spark-3.2.0-bin-hadoop3.2'"
      ]
     },
     "execution_count": 1,
     "metadata": {},
     "output_type": "execute_result"
    }
   ],
   "source": [
    "import findspark \n",
    "findspark.init()\n",
    "import pyspark\n",
    "findspark.find()"
   ]
  },
  {
   "cell_type": "code",
   "execution_count": 2,
   "id": "b9453b35",
   "metadata": {},
   "outputs": [
    {
     "data": {
      "text/html": [
       "\n",
       "            <div>\n",
       "                <p><b>SparkSession - in-memory</b></p>\n",
       "                \n",
       "        <div>\n",
       "            <p><b>SparkContext</b></p>\n",
       "\n",
       "            <p><a href=\"http://LAPTOP-15HARP1G:4040\">Spark UI</a></p>\n",
       "\n",
       "            <dl>\n",
       "              <dt>Version</dt>\n",
       "                <dd><code>v3.2.0</code></dd>\n",
       "              <dt>Master</dt>\n",
       "                <dd><code>local</code></dd>\n",
       "              <dt>AppName</dt>\n",
       "                <dd><code>MyApp</code></dd>\n",
       "            </dl>\n",
       "        </div>\n",
       "        \n",
       "            </div>\n",
       "        "
      ],
      "text/plain": [
       "<pyspark.sql.session.SparkSession at 0x1ed244576a0>"
      ]
     },
     "execution_count": 2,
     "metadata": {},
     "output_type": "execute_result"
    }
   ],
   "source": [
    "from pyspark import SparkConf,SparkContext\n",
    "from pyspark.sql import SparkSession\n",
    "\n",
    "conf = pyspark.SparkConf().setAppName('MyApp').setMaster('local')\n",
    "sc = pyspark.SparkContext(conf=conf)\n",
    "spark = SparkSession(sc)\n",
    "\n",
    "spark"
   ]
  },
  {
   "cell_type": "code",
   "execution_count": 5,
   "id": "6ca6fbf1",
   "metadata": {},
   "outputs": [
    {
     "name": "stdout",
     "output_type": "stream",
     "text": [
      "root\n",
      " |-- completed: boolean (nullable = true)\n",
      " |-- id: long (nullable = true)\n",
      " |-- title: string (nullable = true)\n",
      " |-- userId: long (nullable = true)\n",
      "\n"
     ]
    }
   ],
   "source": [
    "df = spark.read.json('todos_file.json')\n",
    "df.printSchema()"
   ]
  },
  {
   "cell_type": "code",
   "execution_count": 6,
   "id": "5cc4d803",
   "metadata": {},
   "outputs": [
    {
     "name": "stdout",
     "output_type": "stream",
     "text": [
      "+---------+---+--------------------+------+\n",
      "|completed| id|               title|userId|\n",
      "+---------+---+--------------------+------+\n",
      "|    false|  1|  delectus aut autem|     1|\n",
      "|    false|  2|quis ut nam facil...|     1|\n",
      "|    false|  3| fugiat veniam minus|     1|\n",
      "|     true|  4|    et porro tempora|     1|\n",
      "|    false|  5|laboriosam mollit...|     1|\n",
      "|    false|  6|qui ullam ratione...|     1|\n",
      "|    false|  7|illo expedita con...|     1|\n",
      "|     true|  8|quo adipisci enim...|     1|\n",
      "|    false|  9|molestiae perspic...|     1|\n",
      "|     true| 10|illo est ratione ...|     1|\n",
      "|     true| 11|vero rerum tempor...|     1|\n",
      "|     true| 12|ipsa repellendus ...|     1|\n",
      "|    false| 13| et doloremque nulla|     1|\n",
      "|     true| 14|repellendus sunt ...|     1|\n",
      "|     true| 15|ab voluptatum ame...|     1|\n",
      "|     true| 16|accusamus eos fac...|     1|\n",
      "|     true| 17|quo laboriosam de...|     1|\n",
      "|    false| 18|dolorum est conse...|     1|\n",
      "|     true| 19|molestiae ipsa au...|     1|\n",
      "|     true| 20|ullam nobis liber...|     1|\n",
      "+---------+---+--------------------+------+\n",
      "only showing top 20 rows\n",
      "\n"
     ]
    }
   ],
   "source": [
    "df.show()"
   ]
  },
  {
   "cell_type": "code",
   "execution_count": 7,
   "id": "248295b4",
   "metadata": {},
   "outputs": [
    {
     "name": "stdout",
     "output_type": "stream",
     "text": [
      "root\n",
      " |-- completed: boolean (nullable = true)\n",
      " |-- id: long (nullable = true)\n",
      " |-- title: string (nullable = true)\n",
      " |-- userId: long (nullable = true)\n",
      "\n"
     ]
    }
   ],
   "source": [
    "# Read JSON file into dataframe\n",
    "df = spark.read.format('org.apache.spark.sql.json') \\\n",
    "        .load(\"todos_file.json\")\n",
    "df.printSchema()"
   ]
  },
  {
   "cell_type": "code",
   "execution_count": 8,
   "id": "aeb5a4c9",
   "metadata": {},
   "outputs": [
    {
     "name": "stdout",
     "output_type": "stream",
     "text": [
      "+---------+---+--------------------+------+\n",
      "|completed| id|               title|userId|\n",
      "+---------+---+--------------------+------+\n",
      "|    false|  1|  delectus aut autem|     1|\n",
      "|    false|  2|quis ut nam facil...|     1|\n",
      "|    false|  3| fugiat veniam minus|     1|\n",
      "|     true|  4|    et porro tempora|     1|\n",
      "|    false|  5|laboriosam mollit...|     1|\n",
      "|    false|  6|qui ullam ratione...|     1|\n",
      "|    false|  7|illo expedita con...|     1|\n",
      "|     true|  8|quo adipisci enim...|     1|\n",
      "|    false|  9|molestiae perspic...|     1|\n",
      "|     true| 10|illo est ratione ...|     1|\n",
      "|     true| 11|vero rerum tempor...|     1|\n",
      "|     true| 12|ipsa repellendus ...|     1|\n",
      "|    false| 13| et doloremque nulla|     1|\n",
      "|     true| 14|repellendus sunt ...|     1|\n",
      "|     true| 15|ab voluptatum ame...|     1|\n",
      "|     true| 16|accusamus eos fac...|     1|\n",
      "|     true| 17|quo laboriosam de...|     1|\n",
      "|    false| 18|dolorum est conse...|     1|\n",
      "|     true| 19|molestiae ipsa au...|     1|\n",
      "|     true| 20|ullam nobis liber...|     1|\n",
      "+---------+---+--------------------+------+\n",
      "only showing top 20 rows\n",
      "\n"
     ]
    }
   ],
   "source": [
    "df.show()"
   ]
  },
  {
   "cell_type": "code",
   "execution_count": 10,
   "id": "ebcda123",
   "metadata": {},
   "outputs": [
    {
     "data": {
      "text/plain": [
       "[('completed', 'boolean'),\n",
       " ('id', 'bigint'),\n",
       " ('title', 'string'),\n",
       " ('userId', 'bigint')]"
      ]
     },
     "execution_count": 10,
     "metadata": {},
     "output_type": "execute_result"
    }
   ],
   "source": [
    "df.dtypes"
   ]
  },
  {
   "cell_type": "code",
   "execution_count": 11,
   "id": "36716277",
   "metadata": {},
   "outputs": [
    {
     "data": {
      "text/plain": [
       "['completed', 'id', 'title', 'userId']"
      ]
     },
     "execution_count": 11,
     "metadata": {},
     "output_type": "execute_result"
    }
   ],
   "source": [
    "df.columns"
   ]
  },
  {
   "cell_type": "code",
   "execution_count": 16,
   "id": "4d8acd65",
   "metadata": {},
   "outputs": [
    {
     "name": "stdout",
     "output_type": "stream",
     "text": [
      "+---------+---+---------------------------------------------------------------+------+\n",
      "|completed|id |title                                                          |userId|\n",
      "+---------+---+---------------------------------------------------------------+------+\n",
      "|false    |1  |delectus aut autem                                             |1     |\n",
      "|false    |2  |quis ut nam facilis et officia qui                             |1     |\n",
      "|false    |3  |fugiat veniam minus                                            |1     |\n",
      "|true     |4  |et porro tempora                                               |1     |\n",
      "|false    |5  |laboriosam mollitia et enim quasi adipisci quia provident illum|1     |\n",
      "|false    |6  |qui ullam ratione quibusdam voluptatem quia omnis              |1     |\n",
      "|false    |7  |illo expedita consequatur quia in                              |1     |\n",
      "|true     |8  |quo adipisci enim quam ut ab                                   |1     |\n",
      "|false    |9  |molestiae perspiciatis ipsa                                    |1     |\n",
      "|true     |10 |illo est ratione doloremque quia maiores aut                   |1     |\n",
      "|true     |11 |vero rerum temporibus dolor                                    |1     |\n",
      "|true     |12 |ipsa repellendus fugit nisi                                    |1     |\n",
      "|false    |13 |et doloremque nulla                                            |1     |\n",
      "|true     |14 |repellendus sunt dolores architecto voluptatum                 |1     |\n",
      "|true     |15 |ab voluptatum amet voluptas                                    |1     |\n",
      "|true     |16 |accusamus eos facilis sint et aut voluptatem                   |1     |\n",
      "|true     |17 |quo laboriosam deleniti aut qui                                |1     |\n",
      "|false    |18 |dolorum est consequatur ea mollitia in culpa                   |1     |\n",
      "|true     |19 |molestiae ipsa aut voluptatibus pariatur dolor nihil           |1     |\n",
      "|true     |20 |ullam nobis libero sapiente ad optio sint                      |1     |\n",
      "+---------+---+---------------------------------------------------------------+------+\n",
      "only showing top 20 rows\n",
      "\n"
     ]
    },
    {
     "data": {
      "text/plain": [
       "None"
      ]
     },
     "metadata": {},
     "output_type": "display_data"
    }
   ],
   "source": [
    "display(df.show(truncate=0))"
   ]
  },
  {
   "cell_type": "code",
   "execution_count": 17,
   "id": "4eff77e1",
   "metadata": {},
   "outputs": [],
   "source": [
    "df = df.select(['id','title','completed'])"
   ]
  },
  {
   "cell_type": "code",
   "execution_count": 22,
   "id": "8667e434",
   "metadata": {},
   "outputs": [
    {
     "name": "stdout",
     "output_type": "stream",
     "text": [
      "+---+---------------------------------------------------------------+---------+\n",
      "|id |title                                                          |completed|\n",
      "+---+---------------------------------------------------------------+---------+\n",
      "|1  |delectus aut autem                                             |false    |\n",
      "|2  |quis ut nam facilis et officia qui                             |false    |\n",
      "|3  |fugiat veniam minus                                            |false    |\n",
      "|4  |et porro tempora                                               |true     |\n",
      "|5  |laboriosam mollitia et enim quasi adipisci quia provident illum|false    |\n",
      "|6  |qui ullam ratione quibusdam voluptatem quia omnis              |false    |\n",
      "|7  |illo expedita consequatur quia in                              |false    |\n",
      "|8  |quo adipisci enim quam ut ab                                   |true     |\n",
      "|9  |molestiae perspiciatis ipsa                                    |false    |\n",
      "|10 |illo est ratione doloremque quia maiores aut                   |true     |\n",
      "|11 |vero rerum temporibus dolor                                    |true     |\n",
      "|12 |ipsa repellendus fugit nisi                                    |true     |\n",
      "|13 |et doloremque nulla                                            |false    |\n",
      "|14 |repellendus sunt dolores architecto voluptatum                 |true     |\n",
      "|15 |ab voluptatum amet voluptas                                    |true     |\n",
      "|16 |accusamus eos facilis sint et aut voluptatem                   |true     |\n",
      "|17 |quo laboriosam deleniti aut qui                                |true     |\n",
      "|18 |dolorum est consequatur ea mollitia in culpa                   |false    |\n",
      "|19 |molestiae ipsa aut voluptatibus pariatur dolor nihil           |true     |\n",
      "|20 |ullam nobis libero sapiente ad optio sint                      |true     |\n",
      "+---+---------------------------------------------------------------+---------+\n",
      "only showing top 20 rows\n",
      "\n"
     ]
    }
   ],
   "source": [
    "df.show(truncate=0)"
   ]
  },
  {
   "cell_type": "code",
   "execution_count": 36,
   "id": "87456c91",
   "metadata": {},
   "outputs": [],
   "source": [
    "#df.write.mode('Overwrite').csv(\"Spark.csv\")\n",
    "#import pands as pd\n",
    "\n",
    "df.toPandas().to_csv('spark_data.csv')"
   ]
  },
  {
   "cell_type": "code",
   "execution_count": 37,
   "id": "63bdc1d4",
   "metadata": {},
   "outputs": [],
   "source": [
    "#df.write.format('parquet').mode(\"overwrite\").saveAsTable('json_table')"
   ]
  },
  {
   "cell_type": "code",
   "execution_count": 49,
   "id": "b5d6b82a",
   "metadata": {},
   "outputs": [
    {
     "name": "stdout",
     "output_type": "stream",
     "text": [
      "root\n",
      " |-- _c0: string (nullable = true)\n",
      " |-- id: string (nullable = true)\n",
      " |-- title: string (nullable = true)\n",
      " |-- completed: string (nullable = true)\n",
      "\n"
     ]
    }
   ],
   "source": [
    "df_csv = spark.read.option(\"header\",True) \\\n",
    "                    .csv('spark_data.csv')\n",
    "\n",
    "df_csv.printSchema()"
   ]
  },
  {
   "cell_type": "code",
   "execution_count": 50,
   "id": "41b5bccf",
   "metadata": {},
   "outputs": [
    {
     "name": "stdout",
     "output_type": "stream",
     "text": [
      "+---+---+---------------------------------------------------------------+---------+\n",
      "|_c0|id |title                                                          |completed|\n",
      "+---+---+---------------------------------------------------------------+---------+\n",
      "|0  |1  |delectus aut autem                                             |False    |\n",
      "|1  |2  |quis ut nam facilis et officia qui                             |False    |\n",
      "|2  |3  |fugiat veniam minus                                            |False    |\n",
      "|3  |4  |et porro tempora                                               |True     |\n",
      "|4  |5  |laboriosam mollitia et enim quasi adipisci quia provident illum|False    |\n",
      "|5  |6  |qui ullam ratione quibusdam voluptatem quia omnis              |False    |\n",
      "|6  |7  |illo expedita consequatur quia in                              |False    |\n",
      "|7  |8  |quo adipisci enim quam ut ab                                   |True     |\n",
      "|8  |9  |molestiae perspiciatis ipsa                                    |False    |\n",
      "|9  |10 |illo est ratione doloremque quia maiores aut                   |True     |\n",
      "|10 |11 |vero rerum temporibus dolor                                    |True     |\n",
      "|11 |12 |ipsa repellendus fugit nisi                                    |True     |\n",
      "|12 |13 |et doloremque nulla                                            |False    |\n",
      "|13 |14 |repellendus sunt dolores architecto voluptatum                 |True     |\n",
      "|14 |15 |ab voluptatum amet voluptas                                    |True     |\n",
      "|15 |16 |accusamus eos facilis sint et aut voluptatem                   |True     |\n",
      "|16 |17 |quo laboriosam deleniti aut qui                                |True     |\n",
      "|17 |18 |dolorum est consequatur ea mollitia in culpa                   |False    |\n",
      "|18 |19 |molestiae ipsa aut voluptatibus pariatur dolor nihil           |True     |\n",
      "|19 |20 |ullam nobis libero sapiente ad optio sint                      |True     |\n",
      "+---+---+---------------------------------------------------------------+---------+\n",
      "only showing top 20 rows\n",
      "\n"
     ]
    }
   ],
   "source": [
    "df_csv.show(truncate=0)"
   ]
  },
  {
   "cell_type": "code",
   "execution_count": null,
   "id": "abe0087e",
   "metadata": {},
   "outputs": [],
   "source": []
  }
 ],
 "metadata": {
  "kernelspec": {
   "display_name": "Python 3",
   "language": "python",
   "name": "python3"
  },
  "language_info": {
   "codemirror_mode": {
    "name": "ipython",
    "version": 3
   },
   "file_extension": ".py",
   "mimetype": "text/x-python",
   "name": "python",
   "nbconvert_exporter": "python",
   "pygments_lexer": "ipython3",
   "version": "3.8.8"
  }
 },
 "nbformat": 4,
 "nbformat_minor": 5
}
