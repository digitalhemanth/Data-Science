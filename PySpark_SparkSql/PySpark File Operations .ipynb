{
 "cells": [
  {
   "cell_type": "code",
   "execution_count": 1,
   "id": "c73e4c0f",
   "metadata": {},
   "outputs": [
    {
     "data": {
      "text/plain": [
       "'C:\\\\spark\\\\spark-3.2.0-bin-hadoop3.2'"
      ]
     },
     "execution_count": 1,
     "metadata": {},
     "output_type": "execute_result"
    }
   ],
   "source": [
    "import findspark \n",
    "findspark.init()\n",
    "import pyspark\n",
    "findspark.find()"
   ]
  },
  {
   "cell_type": "code",
   "execution_count": 2,
   "id": "26f6a0ad",
   "metadata": {},
   "outputs": [
    {
     "data": {
      "text/html": [
       "\n",
       "            <div>\n",
       "                <p><b>SparkSession - in-memory</b></p>\n",
       "                \n",
       "        <div>\n",
       "            <p><b>SparkContext</b></p>\n",
       "\n",
       "            <p><a href=\"http://LAPTOP-15HARP1G:4040\">Spark UI</a></p>\n",
       "\n",
       "            <dl>\n",
       "              <dt>Version</dt>\n",
       "                <dd><code>v3.2.0</code></dd>\n",
       "              <dt>Master</dt>\n",
       "                <dd><code>local</code></dd>\n",
       "              <dt>AppName</dt>\n",
       "                <dd><code>MyApp</code></dd>\n",
       "            </dl>\n",
       "        </div>\n",
       "        \n",
       "            </div>\n",
       "        "
      ],
      "text/plain": [
       "<pyspark.sql.session.SparkSession at 0x1ed244576a0>"
      ]
     },
     "execution_count": 2,
     "metadata": {},
     "output_type": "execute_result"
    }
   ],
   "source": [
    "from pyspark import SparkConf,SparkContext\n",
    "from pyspark.sql import SparkSession\n",
    "\n",
    "conf = pyspark.SparkConf().setAppName('MyApp').setMaster('local')\n",
    "sc = pyspark.SparkContext(conf=conf)\n",
    "spark = SparkSession(sc)\n",
    "\n",
    "spark"
   ]
  },
  {
   "cell_type": "code",
   "execution_count": 5,
   "id": "dae154b5",
   "metadata": {},
   "outputs": [
    {
     "name": "stdout",
     "output_type": "stream",
     "text": [
      "root\n",
      " |-- completed: boolean (nullable = true)\n",
      " |-- id: long (nullable = true)\n",
      " |-- title: string (nullable = true)\n",
      " |-- userId: long (nullable = true)\n",
      "\n"
     ]
    }
   ],
   "source": [
    "df = spark.read.json('todos_file.json')\n",
    "df.printSchema()"
   ]
  },
  {
   "cell_type": "code",
   "execution_count": 6,
   "id": "c91694c5",
   "metadata": {},
   "outputs": [
    {
     "name": "stdout",
     "output_type": "stream",
     "text": [
      "+---------+---+--------------------+------+\n",
      "|completed| id|               title|userId|\n",
      "+---------+---+--------------------+------+\n",
      "|    false|  1|  delectus aut autem|     1|\n",
      "|    false|  2|quis ut nam facil...|     1|\n",
      "|    false|  3| fugiat veniam minus|     1|\n",
      "|     true|  4|    et porro tempora|     1|\n",
      "|    false|  5|laboriosam mollit...|     1|\n",
      "|    false|  6|qui ullam ratione...|     1|\n",
      "|    false|  7|illo expedita con...|     1|\n",
      "|     true|  8|quo adipisci enim...|     1|\n",
      "|    false|  9|molestiae perspic...|     1|\n",
      "|     true| 10|illo est ratione ...|     1|\n",
      "|     true| 11|vero rerum tempor...|     1|\n",
      "|     true| 12|ipsa repellendus ...|     1|\n",
      "|    false| 13| et doloremque nulla|     1|\n",
      "|     true| 14|repellendus sunt ...|     1|\n",
      "|     true| 15|ab voluptatum ame...|     1|\n",
      "|     true| 16|accusamus eos fac...|     1|\n",
      "|     true| 17|quo laboriosam de...|     1|\n",
      "|    false| 18|dolorum est conse...|     1|\n",
      "|     true| 19|molestiae ipsa au...|     1|\n",
      "|     true| 20|ullam nobis liber...|     1|\n",
      "+---------+---+--------------------+------+\n",
      "only showing top 20 rows\n",
      "\n"
     ]
    }
   ],
   "source": [
    "df.show()"
   ]
  },
  {
   "cell_type": "code",
   "execution_count": 7,
   "id": "6e633968",
   "metadata": {},
   "outputs": [
    {
     "name": "stdout",
     "output_type": "stream",
     "text": [
      "root\n",
      " |-- completed: boolean (nullable = true)\n",
      " |-- id: long (nullable = true)\n",
      " |-- title: string (nullable = true)\n",
      " |-- userId: long (nullable = true)\n",
      "\n"
     ]
    }
   ],
   "source": [
    "# Read JSON file into dataframe\n",
    "df = spark.read.format('org.apache.spark.sql.json') \\\n",
    "        .load(\"todos_file.json\")\n",
    "df.printSchema()"
   ]
  },
  {
   "cell_type": "code",
   "execution_count": 8,
   "id": "2a80efb7",
   "metadata": {},
   "outputs": [
    {
     "name": "stdout",
     "output_type": "stream",
     "text": [
      "+---------+---+--------------------+------+\n",
      "|completed| id|               title|userId|\n",
      "+---------+---+--------------------+------+\n",
      "|    false|  1|  delectus aut autem|     1|\n",
      "|    false|  2|quis ut nam facil...|     1|\n",
      "|    false|  3| fugiat veniam minus|     1|\n",
      "|     true|  4|    et porro tempora|     1|\n",
      "|    false|  5|laboriosam mollit...|     1|\n",
      "|    false|  6|qui ullam ratione...|     1|\n",
      "|    false|  7|illo expedita con...|     1|\n",
      "|     true|  8|quo adipisci enim...|     1|\n",
      "|    false|  9|molestiae perspic...|     1|\n",
      "|     true| 10|illo est ratione ...|     1|\n",
      "|     true| 11|vero rerum tempor...|     1|\n",
      "|     true| 12|ipsa repellendus ...|     1|\n",
      "|    false| 13| et doloremque nulla|     1|\n",
      "|     true| 14|repellendus sunt ...|     1|\n",
      "|     true| 15|ab voluptatum ame...|     1|\n",
      "|     true| 16|accusamus eos fac...|     1|\n",
      "|     true| 17|quo laboriosam de...|     1|\n",
      "|    false| 18|dolorum est conse...|     1|\n",
      "|     true| 19|molestiae ipsa au...|     1|\n",
      "|     true| 20|ullam nobis liber...|     1|\n",
      "+---------+---+--------------------+------+\n",
      "only showing top 20 rows\n",
      "\n"
     ]
    }
   ],
   "source": [
    "df.show()"
   ]
  },
  {
   "cell_type": "code",
   "execution_count": 10,
   "id": "f51eb10e",
   "metadata": {},
   "outputs": [
    {
     "data": {
      "text/plain": [
       "[('completed', 'boolean'),\n",
       " ('id', 'bigint'),\n",
       " ('title', 'string'),\n",
       " ('userId', 'bigint')]"
      ]
     },
     "execution_count": 10,
     "metadata": {},
     "output_type": "execute_result"
    }
   ],
   "source": [
    "df.dtypes"
   ]
  },
  {
   "cell_type": "code",
   "execution_count": 11,
   "id": "fce437d7",
   "metadata": {},
   "outputs": [
    {
     "data": {
      "text/plain": [
       "['completed', 'id', 'title', 'userId']"
      ]
     },
     "execution_count": 11,
     "metadata": {},
     "output_type": "execute_result"
    }
   ],
   "source": [
    "df.columns"
   ]
  },
  {
   "cell_type": "code",
   "execution_count": 16,
   "id": "7cb2fa03",
   "metadata": {},
   "outputs": [
    {
     "name": "stdout",
     "output_type": "stream",
     "text": [
      "+---------+---+---------------------------------------------------------------+------+\n",
      "|completed|id |title                                                          |userId|\n",
      "+---------+---+---------------------------------------------------------------+------+\n",
      "|false    |1  |delectus aut autem                                             |1     |\n",
      "|false    |2  |quis ut nam facilis et officia qui                             |1     |\n",
      "|false    |3  |fugiat veniam minus                                            |1     |\n",
      "|true     |4  |et porro tempora                                               |1     |\n",
      "|false    |5  |laboriosam mollitia et enim quasi adipisci quia provident illum|1     |\n",
      "|false    |6  |qui ullam ratione quibusdam voluptatem quia omnis              |1     |\n",
      "|false    |7  |illo expedita consequatur quia in                              |1     |\n",
      "|true     |8  |quo adipisci enim quam ut ab                                   |1     |\n",
      "|false    |9  |molestiae perspiciatis ipsa                                    |1     |\n",
      "|true     |10 |illo est ratione doloremque quia maiores aut                   |1     |\n",
      "|true     |11 |vero rerum temporibus dolor                                    |1     |\n",
      "|true     |12 |ipsa repellendus fugit nisi                                    |1     |\n",
      "|false    |13 |et doloremque nulla                                            |1     |\n",
      "|true     |14 |repellendus sunt dolores architecto voluptatum                 |1     |\n",
      "|true     |15 |ab voluptatum amet voluptas                                    |1     |\n",
      "|true     |16 |accusamus eos facilis sint et aut voluptatem                   |1     |\n",
      "|true     |17 |quo laboriosam deleniti aut qui                                |1     |\n",
      "|false    |18 |dolorum est consequatur ea mollitia in culpa                   |1     |\n",
      "|true     |19 |molestiae ipsa aut voluptatibus pariatur dolor nihil           |1     |\n",
      "|true     |20 |ullam nobis libero sapiente ad optio sint                      |1     |\n",
      "+---------+---+---------------------------------------------------------------+------+\n",
      "only showing top 20 rows\n",
      "\n"
     ]
    },
    {
     "data": {
      "text/plain": [
       "None"
      ]
     },
     "metadata": {},
     "output_type": "display_data"
    }
   ],
   "source": [
    "display(df.show(truncate=0))"
   ]
  },
  {
   "cell_type": "code",
   "execution_count": 17,
   "id": "832d861e",
   "metadata": {},
   "outputs": [],
   "source": [
    "df = df.select(['id','title','completed'])"
   ]
  },
  {
   "cell_type": "code",
   "execution_count": 18,
   "id": "ae982f39",
   "metadata": {},
   "outputs": [
    {
     "name": "stdout",
     "output_type": "stream",
     "text": [
      "+---+---------------------------------------------------------------+---------+\n",
      "|id |title                                                          |completed|\n",
      "+---+---------------------------------------------------------------+---------+\n",
      "|1  |delectus aut autem                                             |false    |\n",
      "|2  |quis ut nam facilis et officia qui                             |false    |\n",
      "|3  |fugiat veniam minus                                            |false    |\n",
      "|4  |et porro tempora                                               |true     |\n",
      "|5  |laboriosam mollitia et enim quasi adipisci quia provident illum|false    |\n",
      "|6  |qui ullam ratione quibusdam voluptatem quia omnis              |false    |\n",
      "|7  |illo expedita consequatur quia in                              |false    |\n",
      "|8  |quo adipisci enim quam ut ab                                   |true     |\n",
      "|9  |molestiae perspiciatis ipsa                                    |false    |\n",
      "|10 |illo est ratione doloremque quia maiores aut                   |true     |\n",
      "|11 |vero rerum temporibus dolor                                    |true     |\n",
      "|12 |ipsa repellendus fugit nisi                                    |true     |\n",
      "|13 |et doloremque nulla                                            |false    |\n",
      "|14 |repellendus sunt dolores architecto voluptatum                 |true     |\n",
      "|15 |ab voluptatum amet voluptas                                    |true     |\n",
      "|16 |accusamus eos facilis sint et aut voluptatem                   |true     |\n",
      "|17 |quo laboriosam deleniti aut qui                                |true     |\n",
      "|18 |dolorum est consequatur ea mollitia in culpa                   |false    |\n",
      "|19 |molestiae ipsa aut voluptatibus pariatur dolor nihil           |true     |\n",
      "|20 |ullam nobis libero sapiente ad optio sint                      |true     |\n",
      "+---+---------------------------------------------------------------+---------+\n",
      "only showing top 20 rows\n",
      "\n"
     ]
    }
   ],
   "source": [
    "df.show(truncate=0)"
   ]
  },
  {
   "cell_type": "code",
   "execution_count": null,
   "id": "09dbcc0a",
   "metadata": {},
   "outputs": [],
   "source": []
  }
 ],
 "metadata": {
  "kernelspec": {
   "display_name": "Python 3",
   "language": "python",
   "name": "python3"
  },
  "language_info": {
   "codemirror_mode": {
    "name": "ipython",
    "version": 3
   },
   "file_extension": ".py",
   "mimetype": "text/x-python",
   "name": "python",
   "nbconvert_exporter": "python",
   "pygments_lexer": "ipython3",
   "version": "3.8.8"
  }
 },
 "nbformat": 4,
 "nbformat_minor": 5
}
