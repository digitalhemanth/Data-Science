{
 "cells": [
  {
   "cell_type": "code",
   "execution_count": 1,
   "metadata": {},
   "outputs": [
    {
     "name": "stdout",
     "output_type": "stream",
     "text": [
      "<pyspark.sql.session.SparkSession object at 0x0000022F7DDE3F70>\n"
     ]
    }
   ],
   "source": [
    "import findspark\n",
    "findspark.init()\n",
    "\n",
    "# Create SparkSession from builder\n",
    "import pyspark\n",
    "from pyspark.sql import SparkSession\n",
    "spark = SparkSession.builder.master(\"local\") \\\n",
    "                    .appName('My App') \\\n",
    "                    .getOrCreate()\n",
    "print(spark)"
   ]
  },
  {
   "cell_type": "code",
   "execution_count": 2,
   "metadata": {},
   "outputs": [],
   "source": [
    "simpleData = [(\"Hemanth\",27,\"2006-01-01\",\"true\",\"M\",100000.60),\n",
    "    (\"Lohas\",26,\"1980-01-10\",\"true\",\"F\",93000.80),\n",
    "    (\"Sons\",7,\"06-01-1992\",\"false\",\"M\",5000.50)\n",
    "  ]\n",
    "\n",
    "columns = [\"firstname\",\"age\",\"jobStartDate\",\"isGraduated\",\"gender\",\"salary\"]"
   ]
  },
  {
   "cell_type": "code",
   "execution_count": 6,
   "metadata": {},
   "outputs": [
    {
     "name": "stdout",
     "output_type": "stream",
     "text": [
      "root\n",
      " |-- firstname: string (nullable = true)\n",
      " |-- age: long (nullable = true)\n",
      " |-- jobStartDate: string (nullable = true)\n",
      " |-- isGraduated: string (nullable = true)\n",
      " |-- gender: string (nullable = true)\n",
      " |-- salary: double (nullable = true)\n",
      "\n",
      "+---------+---+------------+-----------+------+--------+\n",
      "|firstname|age|jobStartDate|isGraduated|gender|  salary|\n",
      "+---------+---+------------+-----------+------+--------+\n",
      "|  Hemanth| 27|  2006-01-01|       true|     M|100000.6|\n",
      "|    Lohas| 26|  1980-01-10|       true|     F| 93000.8|\n",
      "|     Sons|  7|  06-01-1992|      false|     M|  5000.5|\n",
      "+---------+---+------------+-----------+------+--------+\n",
      "\n"
     ]
    }
   ],
   "source": [
    "df = spark.createDataFrame(data=simpleData,schema=columns)\n",
    "\n",
    "df.printSchema()\n",
    "df.show()"
   ]
  },
  {
   "cell_type": "code",
   "execution_count": 5,
   "metadata": {},
   "outputs": [
    {
     "name": "stdout",
     "output_type": "stream",
     "text": [
      "+---------+---+------------+-----------+------+------+\n",
      "|firstname|age|jobStartDate|isGraduated|gender|salary|\n",
      "+---------+---+------------+-----------+------+------+\n",
      "|  Hemanth| 27|  2006-01-01|       true|     M|100000|\n",
      "|    Lohas| 26|  1980-01-10|       true|     F| 93000|\n",
      "|     Sons|  7|  06-01-1992|      false|     M|  5000|\n",
      "+---------+---+------------+-----------+------+------+\n",
      "\n"
     ]
    }
   ],
   "source": [
    "from pyspark.sql.types import IntegerType,BooleanType,datetime\n",
    "\n",
    "df = df.withColumn('salary',df.salary.cast(IntegerType()))\n",
    "df.show()\n"
   ]
  }
 ],
 "metadata": {
  "kernelspec": {
   "display_name": "Python 3.8.8 ('base')",
   "language": "python",
   "name": "python3"
  },
  "language_info": {
   "codemirror_mode": {
    "name": "ipython",
    "version": 3
   },
   "file_extension": ".py",
   "mimetype": "text/x-python",
   "name": "python",
   "nbconvert_exporter": "python",
   "pygments_lexer": "ipython3",
   "version": "3.8.8"
  },
  "orig_nbformat": 4,
  "vscode": {
   "interpreter": {
    "hash": "fbe58ca63fe33f9eeae9e71d10368d2b4a57f2b1b395836210cc60d362c66949"
   }
  }
 },
 "nbformat": 4,
 "nbformat_minor": 2
}
